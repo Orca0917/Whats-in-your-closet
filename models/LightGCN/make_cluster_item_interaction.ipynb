{
 "cells": [
  {
   "cell_type": "code",
   "execution_count": 49,
   "metadata": {},
   "outputs": [
    {
     "data": {
      "text/plain": [
       "'\\n이 파일은\\n`클러스터` 와 `아이템ID` 간의 상호작용 행렬을 이용해\\n`클러스터` - `아이템ID` 상호작용 리스트를 생성하는 파일입니다.\\n'"
      ]
     },
     "execution_count": 49,
     "metadata": {},
     "output_type": "execute_result"
    }
   ],
   "source": [
    "\"\"\"\n",
    "이 파일은\n",
    "`클러스터` 와 `아이템ID` 간의 상호작용 행렬을 이용해\n",
    "`클러스터` - `아이템ID` 상호작용 리스트를 생성하는 파일입니다.\n",
    "\"\"\""
   ]
  },
  {
   "cell_type": "code",
   "execution_count": 50,
   "metadata": {},
   "outputs": [],
   "source": [
    "import pandas as pd\n",
    "import random\n",
    "\n",
    "from tqdm import tqdm"
   ]
  },
  {
   "cell_type": "code",
   "execution_count": 51,
   "metadata": {},
   "outputs": [],
   "source": [
    "cluster_item_interaction_matrix_path = '/opt/ml/input/data/asset_codishop/view/item/itemInteractionMatrix_withColor.csv'\n",
    "cluster_iim = pd.read_csv(cluster_item_interaction_matrix_path)\n",
    "\n",
    "cluster_iim = cluster_iim.set_index('id')"
   ]
  },
  {
   "cell_type": "code",
   "execution_count": 52,
   "metadata": {},
   "outputs": [],
   "source": [
    "item_ids = list(cluster_iim.columns)\n",
    "cluster_ids = list(cluster_iim.index)"
   ]
  },
  {
   "cell_type": "code",
   "execution_count": 53,
   "metadata": {},
   "outputs": [
    {
     "name": "stderr",
     "output_type": "stream",
     "text": [
      "100%|██████████| 1044/1044 [00:07<00:00, 145.46it/s]\n"
     ]
    }
   ],
   "source": [
    "interaction_list = list()\n",
    "\n",
    "for item_id in tqdm(item_ids):\n",
    "    for cluster_id in cluster_ids:\n",
    "        has_interaction = cluster_iim.loc[cluster_id, item_id]\n",
    "        \n",
    "        if has_interaction == 0 and random.random() < 0.99:\n",
    "            continue\n",
    "\n",
    "        if has_interaction > 0:\n",
    "            has_interaction = 1\n",
    "            \n",
    "        interaction_list.append((int(item_id), int(cluster_id), int(has_interaction)))"
   ]
  },
  {
   "cell_type": "code",
   "execution_count": 54,
   "metadata": {},
   "outputs": [],
   "source": [
    "interaction_df = pd.DataFrame(interaction_list, columns=['item_id', 'cluster_id', 'interaction'])\n",
    "interaction_df.to_csv(\"/opt/ml/input/data/raw_codishop/view/item/item_cluster_interaction.csv\", index=False)"
   ]
  },
  {
   "cell_type": "code",
   "execution_count": 55,
   "metadata": {},
   "outputs": [
    {
     "data": {
      "text/plain": [
       "0    6723\n",
       "1    4799\n",
       "Name: interaction, dtype: int64"
      ]
     },
     "execution_count": 55,
     "metadata": {},
     "output_type": "execute_result"
    }
   ],
   "source": [
    "interaction_df['interaction'].value_counts()"
   ]
  },
  {
   "cell_type": "code",
   "execution_count": 57,
   "metadata": {},
   "outputs": [
    {
     "name": "stderr",
     "output_type": "stream",
     "text": [
      "100%|██████████| 1044/1044 [00:07<00:00, 139.89it/s]\n"
     ]
    }
   ],
   "source": [
    "all_interaction_list = list()\n",
    "\n",
    "for item_id in tqdm(item_ids):\n",
    "    for cluster_id in cluster_ids:\n",
    "        has_interaction = cluster_iim.loc[cluster_id, item_id]\n",
    "        \n",
    "        if has_interaction > 0:\n",
    "            has_interaction = 1\n",
    "            \n",
    "        all_interaction_list.append((int(item_id), int(cluster_id), int(has_interaction)))\n",
    "\n",
    "all_interaction_df = pd.DataFrame(all_interaction_list, columns=['item_id', 'cluster_id', 'interaction'])\n",
    "all_interaction_df.to_csv(\"/opt/ml/input/data/raw_codishop/view/item/item_cluster_all_interaction.csv\", index=False)"
   ]
  }
 ],
 "metadata": {
  "interpreter": {
   "hash": "d4d1e4263499bec80672ea0156c357c1ee493ec2b1c70f0acce89fc37c4a6abe"
  },
  "kernelspec": {
   "display_name": "Python 3.8.5 ('base')",
   "language": "python",
   "name": "python3"
  },
  "language_info": {
   "codemirror_mode": {
    "name": "ipython",
    "version": 3
   },
   "file_extension": ".py",
   "mimetype": "text/x-python",
   "name": "python",
   "nbconvert_exporter": "python",
   "pygments_lexer": "ipython3",
   "version": "3.8.5"
  },
  "orig_nbformat": 4
 },
 "nbformat": 4,
 "nbformat_minor": 2
}
