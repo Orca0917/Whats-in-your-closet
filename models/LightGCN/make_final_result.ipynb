{
 "cells": [
  {
   "cell_type": "code",
   "execution_count": 10,
   "metadata": {},
   "outputs": [],
   "source": [
    "import pandas as pd\n",
    "import os\n",
    "from tqdm import tqdm"
   ]
  },
  {
   "cell_type": "code",
   "execution_count": 11,
   "metadata": {},
   "outputs": [],
   "source": [
    "result_proba = pd.read_csv(\"./output/submission_bestsweep.csv\")\n",
    "interaction_df = pd.read_csv(\"/opt/ml/input/data/raw_codishop/view/item/item_cluster_all_interaction.csv\")"
   ]
  },
  {
   "cell_type": "code",
   "execution_count": 12,
   "metadata": {},
   "outputs": [],
   "source": [
    "interaction_df['prob'] = result_proba['prediction']"
   ]
  },
  {
   "cell_type": "code",
   "execution_count": 13,
   "metadata": {},
   "outputs": [
    {
     "data": {
      "text/html": [
       "<div>\n",
       "<style scoped>\n",
       "    .dataframe tbody tr th:only-of-type {\n",
       "        vertical-align: middle;\n",
       "    }\n",
       "\n",
       "    .dataframe tbody tr th {\n",
       "        vertical-align: top;\n",
       "    }\n",
       "\n",
       "    .dataframe thead th {\n",
       "        text-align: right;\n",
       "    }\n",
       "</style>\n",
       "<table border=\"1\" class=\"dataframe\">\n",
       "  <thead>\n",
       "    <tr style=\"text-align: right;\">\n",
       "      <th></th>\n",
       "      <th>item_id</th>\n",
       "      <th>cluster_id</th>\n",
       "      <th>interaction</th>\n",
       "      <th>prob</th>\n",
       "    </tr>\n",
       "  </thead>\n",
       "  <tbody>\n",
       "    <tr>\n",
       "      <th>21</th>\n",
       "      <td>102621</td>\n",
       "      <td>213</td>\n",
       "      <td>0</td>\n",
       "      <td>0.944387</td>\n",
       "    </tr>\n",
       "    <tr>\n",
       "      <th>47</th>\n",
       "      <td>102621</td>\n",
       "      <td>382</td>\n",
       "      <td>0</td>\n",
       "      <td>0.967650</td>\n",
       "    </tr>\n",
       "    <tr>\n",
       "      <th>51</th>\n",
       "      <td>102621</td>\n",
       "      <td>389</td>\n",
       "      <td>0</td>\n",
       "      <td>0.991069</td>\n",
       "    </tr>\n",
       "    <tr>\n",
       "      <th>77</th>\n",
       "      <td>102621</td>\n",
       "      <td>566</td>\n",
       "      <td>0</td>\n",
       "      <td>0.978367</td>\n",
       "    </tr>\n",
       "    <tr>\n",
       "      <th>81</th>\n",
       "      <td>102621</td>\n",
       "      <td>588</td>\n",
       "      <td>0</td>\n",
       "      <td>0.909322</td>\n",
       "    </tr>\n",
       "    <tr>\n",
       "      <th>...</th>\n",
       "      <td>...</td>\n",
       "      <td>...</td>\n",
       "      <td>...</td>\n",
       "      <td>...</td>\n",
       "    </tr>\n",
       "    <tr>\n",
       "      <th>683746</th>\n",
       "      <td>2540019</td>\n",
       "      <td>7384</td>\n",
       "      <td>0</td>\n",
       "      <td>0.992093</td>\n",
       "    </tr>\n",
       "    <tr>\n",
       "      <th>683757</th>\n",
       "      <td>2540019</td>\n",
       "      <td>7622</td>\n",
       "      <td>0</td>\n",
       "      <td>0.920354</td>\n",
       "    </tr>\n",
       "    <tr>\n",
       "      <th>683791</th>\n",
       "      <td>2540019</td>\n",
       "      <td>8181</td>\n",
       "      <td>0</td>\n",
       "      <td>0.945494</td>\n",
       "    </tr>\n",
       "    <tr>\n",
       "      <th>683795</th>\n",
       "      <td>2540019</td>\n",
       "      <td>8470</td>\n",
       "      <td>0</td>\n",
       "      <td>0.940039</td>\n",
       "    </tr>\n",
       "    <tr>\n",
       "      <th>683811</th>\n",
       "      <td>2540019</td>\n",
       "      <td>9398</td>\n",
       "      <td>0</td>\n",
       "      <td>0.964471</td>\n",
       "    </tr>\n",
       "  </tbody>\n",
       "</table>\n",
       "<p>78853 rows × 4 columns</p>\n",
       "</div>"
      ],
      "text/plain": [
       "        item_id  cluster_id  interaction      prob\n",
       "21       102621         213            0  0.944387\n",
       "47       102621         382            0  0.967650\n",
       "51       102621         389            0  0.991069\n",
       "77       102621         566            0  0.978367\n",
       "81       102621         588            0  0.909322\n",
       "...         ...         ...          ...       ...\n",
       "683746  2540019        7384            0  0.992093\n",
       "683757  2540019        7622            0  0.920354\n",
       "683791  2540019        8181            0  0.945494\n",
       "683795  2540019        8470            0  0.940039\n",
       "683811  2540019        9398            0  0.964471\n",
       "\n",
       "[78853 rows x 4 columns]"
      ]
     },
     "execution_count": 13,
     "metadata": {},
     "output_type": "execute_result"
    }
   ],
   "source": [
    "interaction_df[(interaction_df.interaction == 0) & (interaction_df.prob > 0.9)]"
   ]
  },
  {
   "cell_type": "code",
   "execution_count": 14,
   "metadata": {},
   "outputs": [],
   "source": [
    "interaction_df = interaction_df.drop(columns=['interaction'])\n",
    "\n",
    "os.makedirs(\"/opt/ml/input/data/lightGCN\", exist_ok=True)\n",
    "interaction_df.to_csv(\"/opt/ml/input/data/lightGCN/cluster_item_prob.csv\", index=False)"
   ]
  }
 ],
 "metadata": {
  "interpreter": {
   "hash": "d4d1e4263499bec80672ea0156c357c1ee493ec2b1c70f0acce89fc37c4a6abe"
  },
  "kernelspec": {
   "display_name": "Python 3.8.5 ('base')",
   "language": "python",
   "name": "python3"
  },
  "language_info": {
   "codemirror_mode": {
    "name": "ipython",
    "version": 3
   },
   "file_extension": ".py",
   "mimetype": "text/x-python",
   "name": "python",
   "nbconvert_exporter": "python",
   "pygments_lexer": "ipython3",
   "version": "3.8.5"
  },
  "orig_nbformat": 4
 },
 "nbformat": 4,
 "nbformat_minor": 2
}
