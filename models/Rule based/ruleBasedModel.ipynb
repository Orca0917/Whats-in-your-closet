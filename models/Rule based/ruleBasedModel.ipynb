{
 "cells": [
  {
   "cell_type": "code",
   "execution_count": 1,
   "metadata": {},
   "outputs": [],
   "source": [
    "import numpy as np\n",
    "import pandas as pd"
   ]
  },
  {
   "cell_type": "markdown",
   "metadata": {},
   "source": [
    "## Rule Based Item Recommendation Model"
   ]
  },
  {
   "cell_type": "markdown",
   "metadata": {},
   "source": [
    "1. 필요한 데이터 로딩"
   ]
  },
  {
   "cell_type": "code",
   "execution_count": 156,
   "metadata": {},
   "outputs": [],
   "source": [
    "interaction_matrix = pd.read_csv(\"/opt/ml/input/data/itemInteractionMatrix.csv\")\n",
    "item_feature = pd.read_excel(\"/opt/ml/workspace/crawler/item_crawler_ver2/total_asset/item.xlsx\")\n",
    "item_feature = item_feature[[\"id\",\"name\",\"url\", \"likes\", \"big_class\",\"mid_class\"]]\n",
    "item_id_list = list(interaction_matrix.columns[1:])"
   ]
  },
  {
   "cell_type": "markdown",
   "metadata": {},
   "source": [
    "2. 데이터 대분류 전처리"
   ]
  },
  {
   "cell_type": "code",
   "execution_count": 157,
   "metadata": {},
   "outputs": [],
   "source": [
    "upper = [\"상의\", \"기타 상의\"]\n",
    "lower = [\"바지\", \"하의\"]\n",
    "outer = [\"아우터\"]\n",
    "shoes = [\"스니커즈\", \"신발\", \"스포츠신발\"]\n",
    "accessory = [\"선글라스/안경테\", \"액세서리\", \"주얼리\", \"시계\", \"가방\", \"여성 가방\", \"모자\", \"스포츠모자\", \"스포츠가방\"]\n",
    "etc = [\"양말/레그웨어\", \"디지털/테크\", \"뷰티\", \"속옷\", \"디지털/테크\"]"
   ]
  },
  {
   "cell_type": "code",
   "execution_count": 203,
   "metadata": {},
   "outputs": [],
   "source": [
    "actual_big_class_list = list()\n",
    "for i in range(len(item_feature)) :\n",
    "    item_info = item_feature.iloc[i]\n",
    "    id = item_info[\"id\"]\n",
    "    big = item_info[\"big_class\"]\n",
    "    mid = item_info[\"mid_class\"]\n",
    "    if big in upper or mid in upper :\n",
    "        actual_big_class = \"상의\"\n",
    "    elif big in lower or mid in lower :\n",
    "        actual_big_class = \"하의\"\n",
    "    elif big in outer or mid in outer :\n",
    "        actual_big_class = \"아우터\"\n",
    "    elif big in shoes or mid in shoes :\n",
    "        actual_big_class = \"신발\"\n",
    "    elif big in accessory or mid in accessory :\n",
    "        actual_big_class = \"액세서리\"\n",
    "    else : \n",
    "        actual_big_class = \"기타\"\n",
    "    actual_big_class_list.append(actual_big_class)\n",
    "\n",
    "item_feature[\"my_big_class\"] = actual_big_class_list"
   ]
  },
  {
   "cell_type": "code",
   "execution_count": 204,
   "metadata": {},
   "outputs": [],
   "source": [
    "item_feature[\"likes\"] = item_feature[\"likes\"].fillna(0)"
   ]
  },
  {
   "cell_type": "markdown",
   "metadata": {},
   "source": [
    "3. 모델 실행"
   ]
  },
  {
   "cell_type": "code",
   "execution_count": 205,
   "metadata": {},
   "outputs": [],
   "source": [
    "item_id = 1432188\n",
    "data = interaction_matrix[interaction_matrix[\"id\"]==item_id]\n",
    "data = data.to_numpy()[0][1:] "
   ]
  },
  {
   "cell_type": "code",
   "execution_count": 206,
   "metadata": {},
   "outputs": [],
   "source": [
    "index_list = list()\n",
    "for i in range(len(data)) :\n",
    "    if data[i] != 0 :\n",
    "        index_list.append(i)"
   ]
  },
  {
   "cell_type": "code",
   "execution_count": 207,
   "metadata": {},
   "outputs": [],
   "source": [
    "rec_result = {\"상의\" : [], \"하의\" : [], \"아우터\" : [], \"신발\" : [], \"액세서리\" : [], \"기타\" : []}\n",
    "for index in index_list :\n",
    "    rec_item_id = item_id_list[index]\n",
    "    rec_item_info = item_feature[item_feature[\"id\"]==int(rec_item_id)]\n",
    "\n",
    "    big_class = rec_item_info[\"my_big_class\"].iloc[0]\n",
    "    name = rec_item_info[\"name\"].iloc[0]\n",
    "    url = rec_item_info[\"url\"].iloc[0]\n",
    "    \n",
    "    rec_result[big_class].append((rec_item_id, name, url))"
   ]
  },
  {
   "cell_type": "code",
   "execution_count": 208,
   "metadata": {},
   "outputs": [],
   "source": [
    "def get_best_item(item_list : list) -> list :\n",
    "    likes_list = list()\n",
    "    for item in item_list : \n",
    "        item_id = int(item[0])\n",
    "        item_likes = item_feature[item_feature[\"id\"]==item_id][\"likes\"].iloc[0]\n",
    "        likes_list.append(item_likes)\n",
    "    for i in range(len(likes_list)) :\n",
    "        if likes_list[i] == max(likes_list) :\n",
    "            return item_list[i]"
   ]
  },
  {
   "cell_type": "code",
   "execution_count": 209,
   "metadata": {},
   "outputs": [
    {
     "name": "stdout",
     "output_type": "stream",
     "text": [
      "상의 추천 아이템 : 콘트라스트 스티치 후디드 스웨트셔츠 [미디엄 그레이], 상품 URL : https://www.musinsa.com/app/goods/1817968/0\n",
      "하의 추천 아이템 : 코튼 와이드 벌룬 팬츠 [크림], 상품 URL : https://www.musinsa.com/app/goods/2069532/0\n",
      "아우터 추천 아이템 : 램스울 브이 넥 니트 베스트 [미디엄 그레이], 상품 URL : https://www.musinsa.com/app/goods/2100453/0\n",
      "신발 추천 아이템 : RONDA CS2005 ALL BLACK, 상품 URL : https://www.musinsa.com/app/goods/1923386/0\n",
      "액세서리 추천 아이템 : CARSON HQ 가죽 메신저 크로스 백, 상품 URL : https://www.musinsa.com/app/goods/2193016/0\n",
      "기타 추천 아이템이 없습니다.\n"
     ]
    }
   ],
   "source": [
    "for key in rec_result.keys() :\n",
    "    \n",
    "    if len(rec_result[key]) == 0:\n",
    "        print(f\"{key} 추천 아이템이 없습니다.\")\n",
    "    else :\n",
    "        rec_item = get_best_item(rec_result[key])\n",
    "        print(f\"{key} 추천 아이템 : {rec_item[1]}, 상품 URL : {rec_item[-1]}\")"
   ]
  }
 ],
 "metadata": {
  "interpreter": {
   "hash": "d4d1e4263499bec80672ea0156c357c1ee493ec2b1c70f0acce89fc37c4a6abe"
  },
  "kernelspec": {
   "display_name": "Python 3.8.5 ('base')",
   "language": "python",
   "name": "python3"
  },
  "language_info": {
   "codemirror_mode": {
    "name": "ipython",
    "version": 3
   },
   "file_extension": ".py",
   "mimetype": "text/x-python",
   "name": "python",
   "nbconvert_exporter": "python",
   "pygments_lexer": "ipython3",
   "version": "3.8.5"
  },
  "orig_nbformat": 4
 },
 "nbformat": 4,
 "nbformat_minor": 2
}
