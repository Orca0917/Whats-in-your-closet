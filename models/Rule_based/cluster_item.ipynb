{
 "cells": [
  {
   "cell_type": "markdown",
   "metadata": {},
   "source": [
    "`cluster_id` 와 `item_id` 를 기준으로 한 rule based recommendation"
   ]
  },
  {
   "cell_type": "code",
   "execution_count": 36,
   "metadata": {},
   "outputs": [],
   "source": [
    "import pandas as pd\n",
    "\n",
    "from tqdm import tqdm\n",
    "from collections import defaultdict"
   ]
  },
  {
   "cell_type": "code",
   "execution_count": 37,
   "metadata": {},
   "outputs": [],
   "source": [
    "cluster_item_interaction_matrix_path = '/opt/ml/input/data/asset_codishop/view/item/itemInteractionMatrix_withColor.csv'\n",
    "cluster_iim = pd.read_csv(cluster_item_interaction_matrix_path)\n",
    "cluster_iim = cluster_iim.set_index('id')\n",
    "\n",
    "item_df = pd.read_csv(\"/opt/ml/input/data/asset_codishop/view/item/item.csv\")"
   ]
  },
  {
   "cell_type": "code",
   "execution_count": 38,
   "metadata": {},
   "outputs": [],
   "source": [
    "item_ids = list(cluster_iim.columns)\n",
    "cluster_ids = list(cluster_iim.index)"
   ]
  },
  {
   "cell_type": "code",
   "execution_count": 39,
   "metadata": {},
   "outputs": [
    {
     "name": "stderr",
     "output_type": "stream",
     "text": [
      "100%|██████████| 1044/1044 [00:07<00:00, 143.86it/s]\n"
     ]
    }
   ],
   "source": [
    "all_interaction_list = list()\n",
    "\n",
    "for item_id in tqdm(item_ids):\n",
    "    for cluster_id in cluster_ids:\n",
    "        has_interaction = cluster_iim.loc[cluster_id, item_id]      \n",
    "        all_interaction_list.append((int(item_id), int(cluster_id), int(has_interaction)))\n",
    "\n",
    "all_interaction_df = pd.DataFrame(all_interaction_list, columns=['item_id', 'cluster_id', 'interaction'])"
   ]
  },
  {
   "cell_type": "code",
   "execution_count": 52,
   "metadata": {},
   "outputs": [],
   "source": [
    "INPUT_ITEM_ID = 2037637\n",
    "INPUT_ITEM_CLUSTER_ID = item_df[item_df['id'] == INPUT_ITEM_ID]['cluster_id']\n",
    "\n",
    "sorted_result = all_interaction_df[all_interaction_df.cluster_id == int(INPUT_ITEM_CLUSTER_ID)].sort_values(by='interaction', ascending=False)"
   ]
  },
  {
   "cell_type": "code",
   "execution_count": 53,
   "metadata": {},
   "outputs": [],
   "source": [
    "result_dict = defaultdict(list)\n",
    "\n",
    "for idx, row in sorted_result.iterrows():\n",
    "    if row['interaction'] == 0:\n",
    "        break\n",
    "\n",
    "    item_id = row['item_id']\n",
    "    item_class = item_df[item_df['id'] == item_id]['big_class'].values[0]\n",
    "    result_dict[item_class].append(item_id)\n"
   ]
  },
  {
   "cell_type": "code",
   "execution_count": 55,
   "metadata": {},
   "outputs": [
    {
     "name": "stdout",
     "output_type": "stream",
     "text": [
      "{'신발': [1528125, 1925287, 1141123, 577636, 2244448, 2069832, 1719363, 1882033, 1075883, 2120895, 1127911, 1129236, 1796445, 1566512, 1585959, 706935, 1278040], '아우터': [1283757, 1213655, 2064478, 1758197, 1310999, 1152447, 1295841, 1292227, 1167428, 1337095, 942911, 2100456, 1795357, 2158896, 2100430, 1788625, 943145, 1195438, 1635943, 709191], '모자': [1489801, 1156622, 1670553, 2121577, 2343694, 578957, 1215266], '바지': [1149328, 2073478, 1155290, 1370809, 858911, 854871, 1359351, 1079390, 1115288, 1852599, 2124439, 1778558, 1321880, 2347154, 1225928, 2357795, 1268903, 2032904, 1992582, 2032908, 1669792, 1622272], '상의': [2073551, 2074985, 2062393, 2057226, 1860941, 2147198, 1131975, 1557508, 1253141, 1190284], '가방': [1752121, 2067417, 1680603, 2216497, 2134766, 1092217, 1090154, 2134214, 1452776, 1242673, 498889, 2003199, 1994596]}\n"
     ]
    }
   ],
   "source": [
    "print (dict(result_dict))"
   ]
  },
  {
   "cell_type": "code",
   "execution_count": null,
   "metadata": {},
   "outputs": [],
   "source": []
  }
 ],
 "metadata": {
  "interpreter": {
   "hash": "d4d1e4263499bec80672ea0156c357c1ee493ec2b1c70f0acce89fc37c4a6abe"
  },
  "kernelspec": {
   "display_name": "Python 3.8.5 ('base')",
   "language": "python",
   "name": "python3"
  },
  "language_info": {
   "codemirror_mode": {
    "name": "ipython",
    "version": 3
   },
   "file_extension": ".py",
   "mimetype": "text/x-python",
   "name": "python",
   "nbconvert_exporter": "python",
   "pygments_lexer": "ipython3",
   "version": "3.8.5"
  },
  "orig_nbformat": 4
 },
 "nbformat": 4,
 "nbformat_minor": 2
}
