{
 "cells": [
  {
   "cell_type": "code",
   "execution_count": 1,
   "metadata": {},
   "outputs": [],
   "source": [
    "import argparse\n",
    "import time\n",
    "import torch\n",
    "import torch.nn as nn\n",
    "import torch.optim as optim\n",
    "import numpy as np\n",
    "from scipy import sparse\n",
    "from dataset import *\n",
    "from dataloader import *\n",
    "from loss import *\n",
    "from model import *\n",
    "from torch.nn import Softmax\n",
    "import os\n",
    "import bottleneck as bn\n",
    "os.environ['CUDA_LAUNCH_BLOCKING'] = \"1\"\n",
    "os.environ[\"CUDA_VISIBLE_DEVICES\"] = \"0\""
   ]
  },
  {
   "cell_type": "code",
   "execution_count": 2,
   "metadata": {},
   "outputs": [
    {
     "name": "stdout",
     "output_type": "stream",
     "text": [
      "Now using device :  cuda\n",
      "Load and Preprocess Movielens dataset\n",
      "Done!\n"
     ]
    }
   ],
   "source": [
    "if torch.cuda.is_available():\n",
    "        cuda_aval = True\n",
    "\n",
    "device = torch.device(\"cuda\" if cuda_aval else \"cpu\")\n",
    "print(\"Now using device : \", device)\n",
    "###################\n",
    "print(\"Load and Preprocess Movielens dataset\")\n",
    "# Load Data\n",
    "uim = pd.read_csv(\"/opt/ml/input/workspace/CF/DL CF/Mult-VAE/new_user_movie_interaction.csv\")\n",
    "#removed_uim = pd.read_csv(\"/opt/ml/input/workspace/Item_Removal/1000_removed.csv\")\n",
    "user_id = uim[\"user\"].to_numpy()\n",
    "uim_np = uim.to_numpy()[:, 1:] # 첫번째 열은 user_id이기 때문에 제외\n",
    "print(\"Done!\")"
   ]
  },
  {
   "cell_type": "code",
   "execution_count": 12,
   "metadata": {},
   "outputs": [],
   "source": [
    "removed_uim = pd.read_csv(\"/opt/ml/input/workspace/Item_Removal/future_removed_uim.csv\")\n",
    "removed_uim_np = removed_uim.to_numpy()[:, 1:]"
   ]
  },
  {
   "cell_type": "code",
   "execution_count": 3,
   "metadata": {},
   "outputs": [],
   "source": [
    "# 필요한 데이터 로드\n",
    "bad_users_03 = pd.read_csv(\"/opt/ml/input/workspace/TestRecall/bad_user_id03.csv\", header=None).to_numpy().reshape(-1)\n",
    "bad_users_02 = pd.read_csv(\"/opt/ml/input/workspace/TestRecall/bad_user_id_02.csv\", header=None).to_numpy().reshape(-1)\n",
    "good_users_05 = pd.read_csv(\"/opt/ml/input/workspace/TestRecall/good_user_id05.csv\", header=None).to_numpy().reshape(-1)\n",
    "raw_data_og = pd.read_csv(\"/opt/ml/input/data/train/train_ratings.csv\")\n",
    "raw_data = raw_data_og.groupby(\"user\")[\"item\"].apply(list) # 유저 별로 시청한 데이터를 리스트로 정리\n",
    "#years = pd.read_csv(\"/opt/ml/input/data/train/years.tsv\", delimiter = \"\\t\")\n",
    "#titles = pd.read_csv(\"/opt/ml/input/data/train/titles.tsv\", delimiter=\"\\t\")\n",
    "genre_og = pd.read_csv(\"/opt/ml/input/data/train/genres.tsv\", delimiter=\"\\t\")\n",
    "genre = genre_og.groupby(\"item\")[\"genre\"].apply(list) # 각 영화별 장르를 리스트로 정리\n",
    "#views = pd.read_csv(\"views.csv\")"
   ]
  },
  {
   "cell_type": "code",
   "execution_count": 9,
   "metadata": {},
   "outputs": [],
   "source": [
    "genres_dict = dict()\n",
    "for key in genre.keys() :\n",
    "    gr = genre.loc[key]\n",
    "    genres_dict[key] = gr"
   ]
  },
  {
   "cell_type": "code",
   "execution_count": 4,
   "metadata": {},
   "outputs": [],
   "source": [
    "unique_sid = pd.read_csv(\"/opt/ml/input/data/train/pro_sg/unique_sid.txt\", header=None)\n",
    "item_id = unique_sid.to_numpy().reshape(6807)"
   ]
  },
  {
   "cell_type": "code",
   "execution_count": 8,
   "metadata": {},
   "outputs": [],
   "source": [
    "unpop_gr = pd.read_csv(\"/opt/ml/input/workspace/User Item EDA/unpopular_genres_by_user.csv\", header=None).to_numpy()[:,1:]"
   ]
  },
  {
   "cell_type": "code",
   "execution_count": 5,
   "metadata": {},
   "outputs": [],
   "source": [
    "#load model\n",
    "f = open(\"model_MVAE200_og.pt\", 'rb')\n",
    "model  = torch.load(f).to(device)"
   ]
  },
  {
   "cell_type": "code",
   "execution_count": 24,
   "metadata": {},
   "outputs": [
    {
     "name": "stdout",
     "output_type": "stream",
     "text": [
      "0/31360 complete\n",
      "5000/31360 complete\n",
      "10000/31360 complete\n",
      "15000/31360 complete\n",
      "20000/31360 complete\n",
      "25000/31360 complete\n",
      "30000/31360 complete\n"
     ]
    }
   ],
   "source": [
    "model.eval()\n",
    "result = list()\n",
    "for i in range(31360) : \n",
    "    user = user_id[i]\n",
    "    unpop = unpop_gr[i]\n",
    "    data_np = uim_np[i] # 유저 한 명의 상호작용 벡터 추출\n",
    "    #removed_data = removed_uim_np[i]\n",
    "    data = torch.FloatTensor(data_np) # 모델에 돌리기 위해 tensor로 변환\n",
    "    data = data.reshape(1,-1).to(device) # 모델 안에서 \n",
    "\n",
    "    probability, _, _ = model(data) # for MVAE\n",
    "    #probability = model(data) # for DAE\n",
    "    #probability = model(data, calculate_loss=False) # for RecVAE\n",
    "    probability_np = np.array(probability.cpu().detach())[0]\n",
    "    \n",
    "    #probability_np[removed_data.nonzero()] = -np.inf\n",
    "    probability_np[data_np.nonzero()] = -np.inf\n",
    "    for j in np.where(data_np == 0)[0] :\n",
    "        itid = item_id[j]\n",
    "        for genre in genres_dict[itid] :\n",
    "            if genre in unpop :\n",
    "                probability_np[j] = -np.inf\n",
    "                break\n",
    "    idx = np.argpartition(probability_np, -10)[-10:]\n",
    "    candidates = [[index, probability_np[index]] for index in idx]\n",
    "    candidates.sort(key=lambda x:x[1], reverse = True)\n",
    "    items = item_id[idx]\n",
    "    for candidate in candidates :\n",
    "        result.append((user, item_id[candidate[0]]))\n",
    "    if i%5000 == 0 :\n",
    "        print(f\"{i}/31360 complete\")"
   ]
  },
  {
   "cell_type": "code",
   "execution_count": 25,
   "metadata": {},
   "outputs": [
    {
     "name": "stdout",
     "output_type": "stream",
     "text": [
      "Inference Done!\n"
     ]
    }
   ],
   "source": [
    "info = pd.DataFrame(result, columns=['user','item'])\n",
    "info.to_csv(\"submission_MVAE200_BadGenreRemoved.csv\",index=False)\n",
    "print(\"Inference Done!\")"
   ]
  },
  {
   "cell_type": "code",
   "execution_count": null,
   "metadata": {},
   "outputs": [],
   "source": []
  }
 ],
 "metadata": {
  "interpreter": {
   "hash": "d4d1e4263499bec80672ea0156c357c1ee493ec2b1c70f0acce89fc37c4a6abe"
  },
  "kernelspec": {
   "display_name": "Python 3.8.5 ('base')",
   "language": "python",
   "name": "python3"
  },
  "language_info": {
   "codemirror_mode": {
    "name": "ipython",
    "version": 3
   },
   "file_extension": ".py",
   "mimetype": "text/x-python",
   "name": "python",
   "nbconvert_exporter": "python",
   "pygments_lexer": "ipython3",
   "version": "3.8.5"
  },
  "orig_nbformat": 4
 },
 "nbformat": 4,
 "nbformat_minor": 2
}
