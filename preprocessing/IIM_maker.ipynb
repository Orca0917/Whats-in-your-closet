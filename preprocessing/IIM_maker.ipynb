{
 "cells": [
  {
   "cell_type": "code",
   "execution_count": 24,
   "metadata": {},
   "outputs": [],
   "source": [
    "import numpy as np\n",
    "import pandas as pd\n",
    "from tqdm import tqdm"
   ]
  },
  {
   "cell_type": "markdown",
   "metadata": {},
   "source": [
    "## 아이템 상호작용 행렬 만들기"
   ]
  },
  {
   "cell_type": "markdown",
   "metadata": {},
   "source": [
    "1. 필요한 데이터 로딩"
   ]
  },
  {
   "cell_type": "code",
   "execution_count": 2,
   "metadata": {},
   "outputs": [],
   "source": [
    "# TODO : 데이터 경로 설정 \n",
    "raw_data = pd.read_excel(\"/opt/ml/workspace/crawler/item_crawler_ver2/total_asset/item.xlsx\")\n",
    "df = raw_data[[\"id\", \"codi_id\"]]\n",
    "unique_codi_id = list(df[\"codi_id\"].unique())\n",
    "unique_id = list(df[\"id\"].unique())\n",
    "codi_group_by_codi = df.groupby(\"codi_id\")[\"id\"].apply(list)\n",
    "codi_group_by_item = df.groupby(\"id\")[\"codi_id\"].apply(list)"
   ]
  },
  {
   "cell_type": "code",
   "execution_count": 84,
   "metadata": {},
   "outputs": [
    {
     "data": {
      "text/plain": [
       "1432188    14\n",
       "2338082    11\n",
       "2040291     9\n",
       "1820027     8\n",
       "996177      8\n",
       "           ..\n",
       "2406920     1\n",
       "2404167     1\n",
       "2422604     1\n",
       "2379894     1\n",
       "2292995     1\n",
       "Name: id, Length: 2284, dtype: int64"
      ]
     },
     "execution_count": 84,
     "metadata": {},
     "output_type": "execute_result"
    }
   ],
   "source": [
    "df[\"id\"].value_counts()"
   ]
  },
  {
   "cell_type": "code",
   "execution_count": 82,
   "metadata": {},
   "outputs": [
    {
     "name": "stdout",
     "output_type": "stream",
     "text": [
      "Number of total instance : 3342\n",
      "Number of unique items : 2284\n",
      "Number of items which was only collected once : 1637\n"
     ]
    }
   ],
   "source": [
    "cnt = 0\n",
    "for count in df[\"id\"].value_counts() : \n",
    "    if count == 1 :\n",
    "        cnt +=1\n",
    "\n",
    "print(f\"Number of total instance : {len(df)}\")\n",
    "print(f\"Number of unique items : {len(unique_id)}\")\n",
    "print(f\"Number of items which was only collected once : {cnt}\")"
   ]
  },
  {
   "cell_type": "markdown",
   "metadata": {},
   "source": [
    "2. Pivot Table을 위한 데이터 처리 과정"
   ]
  },
  {
   "cell_type": "code",
   "execution_count": 56,
   "metadata": {},
   "outputs": [
    {
     "name": "stderr",
     "output_type": "stream",
     "text": [
      "100%|██████████| 2284/2284 [00:07<00:00, 301.48it/s]\n"
     ]
    }
   ],
   "source": [
    "result = list()\n",
    "c = 0\n",
    "for item in tqdm(unique_id) :\n",
    "    codi_list = codi_group_by_item[item]\n",
    "    total_data = pd.DataFrame([], dtype=int)\n",
    "\n",
    "    for codi in codi_list :\n",
    "        data = df[df[\"codi_id\"]==codi][\"id\"]\n",
    "        total_data = pd.concat([total_data, data])\n",
    "    \n",
    "    counts = total_data.value_counts()\n",
    "    id_list = total_data.squeeze().unique()\n",
    "    \n",
    "    for id in id_list : \n",
    "        if id != item :\n",
    "            result.append((item, int(id), counts[id]))"
   ]
  },
  {
   "cell_type": "markdown",
   "metadata": {},
   "source": [
    "3. 상호작용 행렬 만들기 & 데이터 내보내기"
   ]
  },
  {
   "cell_type": "code",
   "execution_count": 62,
   "metadata": {},
   "outputs": [],
   "source": [
    "IIM = pd.DataFrame(result, columns=[\"id\", \"item\", \"count\"]).pivot_table(index=\"id\", columns=\"item\", values=\"count\").fillna(0)\n",
    "# TODO : 데이터 경로 설정\n",
    "IIM.to_csv(\"/opt/ml/input/data/itemInteractionMatrix.csv\")"
   ]
  },
  {
   "cell_type": "markdown",
   "metadata": {},
   "source": [
    "4. Sparsity 점검"
   ]
  },
  {
   "cell_type": "code",
   "execution_count": 77,
   "metadata": {},
   "outputs": [
    {
     "name": "stdout",
     "output_type": "stream",
     "text": [
      "Sparsity of this Data is : 0.997\n"
     ]
    }
   ],
   "source": [
    "ones = 0\n",
    "zeros = 0\n",
    "for i in range(len(IIM)) :\n",
    "    zeros += IIM.iloc[i].value_counts()[0]\n",
    "    ones += IIM.iloc[i].value_counts()[1]\n",
    "print(f\"Sparsity of this Data is : {zeros/(ones+zeros):.4}\")"
   ]
  }
 ],
 "metadata": {
  "interpreter": {
   "hash": "d4d1e4263499bec80672ea0156c357c1ee493ec2b1c70f0acce89fc37c4a6abe"
  },
  "kernelspec": {
   "display_name": "Python 3.8.5 ('base')",
   "language": "python",
   "name": "python3"
  },
  "language_info": {
   "codemirror_mode": {
    "name": "ipython",
    "version": 3
   },
   "file_extension": ".py",
   "mimetype": "text/x-python",
   "name": "python",
   "nbconvert_exporter": "python",
   "pygments_lexer": "ipython3",
   "version": "3.8.5"
  },
  "orig_nbformat": 4
 },
 "nbformat": 4,
 "nbformat_minor": 2
}
