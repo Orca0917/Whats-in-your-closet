{
 "cells": [
  {
   "cell_type": "markdown",
   "metadata": {},
   "source": [
    "## 색상을 잘 추출하는지 검사하는 파일입니다!!"
   ]
  },
  {
   "cell_type": "markdown",
   "metadata": {},
   "source": [
    "전체실행으로 코드를 실행 -> 색 구분이 틀렸다면 n 또는 N 입력 / 맞았으면 엔터로 진행"
   ]
  },
  {
   "cell_type": "code",
   "execution_count": 1,
   "metadata": {},
   "outputs": [],
   "source": [
    "import requests\n",
    "import warnings\n",
    "\n",
    "import pandas as pd\n",
    "\n",
    "from PIL import Image\n",
    "from io import BytesIO\n",
    "from tqdm import tqdm\n",
    "\n",
    "\n",
    "%matplotlib inline\n",
    "warnings.filterwarnings(action='ignore')"
   ]
  },
  {
   "cell_type": "code",
   "execution_count": 2,
   "metadata": {},
   "outputs": [],
   "source": [
    "# 이미지를 불러오는 함수\n",
    "def get_img_from_url(url: str) -> Image:\n",
    "    response = requests.get(url)\n",
    "    img = Image.open(BytesIO(response.content))\n",
    "    return img"
   ]
  },
  {
   "cell_type": "code",
   "execution_count": 6,
   "metadata": {},
   "outputs": [
    {
     "name": "stdout",
     "output_type": "stream",
     "text": [
      "1045\n"
     ]
    },
    {
     "name": "stderr",
     "output_type": "stream",
     "text": [
      "1045it [00:26, 38.88it/s]\n"
     ]
    }
   ],
   "source": [
    "preprocessed_file_path = '/opt/ml/input/data/asset_codishop/view/item/item.csv'\n",
    "preprocessed_df = pd.read_csv(preprocessed_file_path)\n",
    "\n",
    "print (len(preprocessed_df))\n",
    "\n",
    "\n",
    "fail_list = list()\n",
    "\n",
    "for idx, item_info in tqdm(preprocessed_df.iterrows()):\n",
    "    # clear_output(wait=True)\n",
    "\n",
    "    item_id = item_info['id']\n",
    "    img_url = item_info['img_url']\n",
    "\n",
    "    try:\n",
    "        img = get_img_from_url(img_url)\n",
    "    except:\n",
    "        print (f\"[Exception] Failed to load image url = {img_url}\", flush=True)\n",
    "        continue"
   ]
  },
  {
   "cell_type": "code",
   "execution_count": 7,
   "metadata": {},
   "outputs": [
    {
     "name": "stdout",
     "output_type": "stream",
     "text": [
      "334\n"
     ]
    },
    {
     "name": "stderr",
     "output_type": "stream",
     "text": [
      "334it [00:09, 34.89it/s]\n"
     ]
    }
   ],
   "source": [
    "preprocessed_file_path = '/opt/ml/input/data/asset_codishop/view/codi/codi.csv'\n",
    "preprocessed_df = pd.read_csv(preprocessed_file_path)\n",
    "\n",
    "print (len(preprocessed_df))\n",
    "\n",
    "\n",
    "fail_list = list()\n",
    "\n",
    "for idx, item_info in tqdm(preprocessed_df.iterrows()):\n",
    "    # clear_output(wait=True)\n",
    "\n",
    "    # item_id = item_info['id']\n",
    "    img_url = item_info['img_url']\n",
    "\n",
    "    try:\n",
    "        img = get_img_from_url(img_url)\n",
    "    except:\n",
    "        print (f\"[Exception] Failed to load image url = {img_url}\", flush=True)\n",
    "        continue"
   ]
  }
 ],
 "metadata": {
  "interpreter": {
   "hash": "d4d1e4263499bec80672ea0156c357c1ee493ec2b1c70f0acce89fc37c4a6abe"
  },
  "kernelspec": {
   "display_name": "Python 3.8.5 ('base')",
   "language": "python",
   "name": "python3"
  },
  "language_info": {
   "codemirror_mode": {
    "name": "ipython",
    "version": 3
   },
   "file_extension": ".py",
   "mimetype": "text/x-python",
   "name": "python",
   "nbconvert_exporter": "python",
   "pygments_lexer": "ipython3",
   "version": "3.8.5"
  },
  "orig_nbformat": 4
 },
 "nbformat": 4,
 "nbformat_minor": 2
}
