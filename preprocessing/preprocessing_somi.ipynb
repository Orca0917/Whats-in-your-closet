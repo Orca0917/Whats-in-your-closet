{
 "cells": [
  {
   "cell_type": "code",
   "execution_count": 1,
   "metadata": {},
   "outputs": [],
   "source": [
    "import re\n",
    "import pandas as pd\n",
    "import openpyxl\n",
    "from easydict import EasyDict\n",
    "import matplotlib.pyplot as plt\n",
    "import seaborn as sns\n",
    "from tqdm import tqdm\n",
    "from collections import Counter"
   ]
  },
  {
   "cell_type": "code",
   "execution_count": 54,
   "metadata": {},
   "outputs": [],
   "source": [
    "# -- option 설정\n",
    "_PREPROCESS = 'raw'\n",
    "_STORE_OPTION = 'codishop'\n",
    "_SORT_OPTION = 'view'\n",
    "\n",
    "ITEM_PATH = f'/opt/ml/input/data/{_PREPROCESS}_{_STORE_OPTION}/{_SORT_OPTION}/item/'\n",
    "CODI_PATH = f'/opt/ml/input/data/{_PREPROCESS}_{_STORE_OPTION}/{_SORT_OPTION}/codi/'"
   ]
  },
  {
   "cell_type": "code",
   "execution_count": 55,
   "metadata": {},
   "outputs": [],
   "source": [
    "def get_item_data(file_name: str) -> pd.DataFrame:\n",
    "    return pd.read_excel(f'{ITEM_PATH}{file_name}.xlsx', engine='openpyxl')\n",
    "\n",
    "def get_codi_data(file_name: str) -> pd.DataFrame:\n",
    "    return pd.read_excel(f'{CODI_PATH}{file_name}.xlsx', engine='openpyxl')"
   ]
  },
  {
   "cell_type": "code",
   "execution_count": 57,
   "metadata": {},
   "outputs": [],
   "source": [
    "# -- item 데이터 받아오기\n",
    "item = get_item_data('item')\n",
    "item_tag = get_item_data('item_tag')\n",
    "item_fit = get_item_data('item_fit')\n",
    "item_buy_age = get_item_data('item_buy_age')\n",
    "item_buy_gender = get_item_data('item_buy_gender')\n",
    "item_four_season = get_item_data('item_four_season')\n",
    "item_option1 = get_item_data('item_option1')\n",
    "item_option2 = get_item_data('item_option2')\n",
    "item_option3 = get_item_data('item_option3')\n",
    "item_rel_codi_url = get_item_data('item_rel_codi_url')\n",
    "\n",
    "# -- codi 데이터 받아오기\n",
    "codi = get_codi_data('codi')\n",
    "codi_tag = get_codi_data('codi_tag')\n",
    "coodi_item_id = get_codi_data('codi_item_id')"
   ]
  },
  {
   "cell_type": "code",
   "execution_count": 58,
   "metadata": {},
   "outputs": [
    {
     "data": {
      "text/html": [
       "<div>\n",
       "<style scoped>\n",
       "    .dataframe tbody tr th:only-of-type {\n",
       "        vertical-align: middle;\n",
       "    }\n",
       "\n",
       "    .dataframe tbody tr th {\n",
       "        vertical-align: top;\n",
       "    }\n",
       "\n",
       "    .dataframe thead th {\n",
       "        text-align: right;\n",
       "    }\n",
       "</style>\n",
       "<table border=\"1\" class=\"dataframe\">\n",
       "  <thead>\n",
       "    <tr style=\"text-align: right;\">\n",
       "      <th></th>\n",
       "      <th>id</th>\n",
       "      <th>name</th>\n",
       "      <th>big_class</th>\n",
       "      <th>mid_class</th>\n",
       "      <th>brand</th>\n",
       "      <th>serial_number</th>\n",
       "      <th>gender</th>\n",
       "      <th>season</th>\n",
       "      <th>cum_sale</th>\n",
       "      <th>view</th>\n",
       "      <th>likes</th>\n",
       "      <th>rating</th>\n",
       "      <th>price</th>\n",
       "      <th>url</th>\n",
       "      <th>img_url</th>\n",
       "    </tr>\n",
       "  </thead>\n",
       "  <tbody>\n",
       "    <tr>\n",
       "      <th>0</th>\n",
       "      <td>969580</td>\n",
       "      <td>Denim Trucker Jacket Grey</td>\n",
       "      <td>아우터</td>\n",
       "      <td>트러커 재킷</td>\n",
       "      <td>THISISNEVERTHAT</td>\n",
       "      <td>TN2238</td>\n",
       "      <td>남</td>\n",
       "      <td>2019 S/S</td>\n",
       "      <td>NaN</td>\n",
       "      <td>300회 이상</td>\n",
       "      <td>336.0</td>\n",
       "      <td>4.6</td>\n",
       "      <td>128000</td>\n",
       "      <td>https://www.musinsa.com/app/goods/969580/0</td>\n",
       "      <td>https://image.msscdn.net/images/goods_img/2019...</td>\n",
       "    </tr>\n",
       "    <tr>\n",
       "      <th>1</th>\n",
       "      <td>1110028</td>\n",
       "      <td>레이아웃 로고 맨투맨 멜란지 그레이</td>\n",
       "      <td>상의</td>\n",
       "      <td>맨투맨/스웨트셔츠</td>\n",
       "      <td>COVERNAT</td>\n",
       "      <td>CO0000CR04GR</td>\n",
       "      <td>남 여</td>\n",
       "      <td>ALL ALL</td>\n",
       "      <td>1.4천 개 이상</td>\n",
       "      <td>1.1만 회 이상</td>\n",
       "      <td>NaN</td>\n",
       "      <td>4.7</td>\n",
       "      <td>59000</td>\n",
       "      <td>https://www.musinsa.com/app/goods/1110028/0</td>\n",
       "      <td>https://image.msscdn.net/images/goods_img/2019...</td>\n",
       "    </tr>\n",
       "    <tr>\n",
       "      <th>2</th>\n",
       "      <td>986708</td>\n",
       "      <td>와이드 데님 팬츠 (BLEACH)</td>\n",
       "      <td>바지</td>\n",
       "      <td>데님 팬츠</td>\n",
       "      <td>TOFFEE</td>\n",
       "      <td>TAS-WDDP05</td>\n",
       "      <td>남</td>\n",
       "      <td>2021 ALL</td>\n",
       "      <td>2.5만 개 이상</td>\n",
       "      <td>11만 회 이상</td>\n",
       "      <td>NaN</td>\n",
       "      <td>4.8</td>\n",
       "      <td>49000</td>\n",
       "      <td>https://www.musinsa.com/app/goods/986708/0</td>\n",
       "      <td>https://image.msscdn.net/images/goods_img/2019...</td>\n",
       "    </tr>\n",
       "    <tr>\n",
       "      <th>3</th>\n",
       "      <td>1112798</td>\n",
       "      <td>CORDURA® 1000D Nylon Traveler Backpack Grey</td>\n",
       "      <td>가방</td>\n",
       "      <td>백팩</td>\n",
       "      <td>THISISNEVERTHAT</td>\n",
       "      <td>TN2527</td>\n",
       "      <td>남</td>\n",
       "      <td>2019 ALL</td>\n",
       "      <td>NaN</td>\n",
       "      <td>700회 이상</td>\n",
       "      <td>147.0</td>\n",
       "      <td>4.6</td>\n",
       "      <td>119000</td>\n",
       "      <td>https://www.musinsa.com/app/goods/1112798/0</td>\n",
       "      <td>https://image.msscdn.net/images/goods_img/2019...</td>\n",
       "    </tr>\n",
       "    <tr>\n",
       "      <th>4</th>\n",
       "      <td>104238</td>\n",
       "      <td>올드스쿨 - 블랙 / VN000D3HY281</td>\n",
       "      <td>스니커즈</td>\n",
       "      <td>캔버스/단화</td>\n",
       "      <td>VANS</td>\n",
       "      <td>VN000D3HY281</td>\n",
       "      <td>남 여</td>\n",
       "      <td>ALL</td>\n",
       "      <td>7.7만 개 이상</td>\n",
       "      <td>2.3만 회 이상</td>\n",
       "      <td>NaN</td>\n",
       "      <td>4.9</td>\n",
       "      <td>79000</td>\n",
       "      <td>https://www.musinsa.com/app/goods/104238/0</td>\n",
       "      <td>https://image.msscdn.net/images/goods_img/2014...</td>\n",
       "    </tr>\n",
       "  </tbody>\n",
       "</table>\n",
       "</div>"
      ],
      "text/plain": [
       "        id                                         name big_class  mid_class  \\\n",
       "0   969580                    Denim Trucker Jacket Grey       아우터     트러커 재킷   \n",
       "1  1110028                          레이아웃 로고 맨투맨 멜란지 그레이        상의  맨투맨/스웨트셔츠   \n",
       "2   986708                           와이드 데님 팬츠 (BLEACH)        바지      데님 팬츠   \n",
       "3  1112798  CORDURA® 1000D Nylon Traveler Backpack Grey        가방         백팩   \n",
       "4   104238                     올드스쿨 - 블랙 / VN000D3HY281      스니커즈     캔버스/단화   \n",
       "\n",
       "             brand serial_number gender    season   cum_sale       view  \\\n",
       "0  THISISNEVERTHAT        TN2238      남  2019 S/S        NaN    300회 이상   \n",
       "1         COVERNAT  CO0000CR04GR    남 여   ALL ALL  1.4천 개 이상  1.1만 회 이상   \n",
       "2           TOFFEE    TAS-WDDP05      남  2021 ALL  2.5만 개 이상   11만 회 이상   \n",
       "3  THISISNEVERTHAT        TN2527      남  2019 ALL        NaN    700회 이상   \n",
       "4             VANS  VN000D3HY281    남 여       ALL  7.7만 개 이상  2.3만 회 이상   \n",
       "\n",
       "   likes  rating   price                                          url  \\\n",
       "0  336.0     4.6  128000   https://www.musinsa.com/app/goods/969580/0   \n",
       "1    NaN     4.7   59000  https://www.musinsa.com/app/goods/1110028/0   \n",
       "2    NaN     4.8   49000   https://www.musinsa.com/app/goods/986708/0   \n",
       "3  147.0     4.6  119000  https://www.musinsa.com/app/goods/1112798/0   \n",
       "4    NaN     4.9   79000   https://www.musinsa.com/app/goods/104238/0   \n",
       "\n",
       "                                             img_url  \n",
       "0  https://image.msscdn.net/images/goods_img/2019...  \n",
       "1  https://image.msscdn.net/images/goods_img/2019...  \n",
       "2  https://image.msscdn.net/images/goods_img/2019...  \n",
       "3  https://image.msscdn.net/images/goods_img/2019...  \n",
       "4  https://image.msscdn.net/images/goods_img/2014...  "
      ]
     },
     "execution_count": 58,
     "metadata": {},
     "output_type": "execute_result"
    }
   ],
   "source": [
    "item.head()"
   ]
  },
  {
   "cell_type": "code",
   "execution_count": 59,
   "metadata": {},
   "outputs": [],
   "source": [
    "item = pd.read_excel('/opt/ml/input/data/asset_codishop/view/item/item.xlsx', engine='openpyxl')"
   ]
  },
  {
   "cell_type": "markdown",
   "metadata": {},
   "source": [
    "# 성별 전처리"
   ]
  },
  {
   "cell_type": "code",
   "execution_count": 60,
   "metadata": {},
   "outputs": [
    {
     "data": {
      "text/plain": [
       "array(['남', '남 여', '여'], dtype=object)"
      ]
     },
     "execution_count": 60,
     "metadata": {},
     "output_type": "execute_result"
    }
   ],
   "source": [
    "item['gender'].unique()"
   ]
  },
  {
   "cell_type": "code",
   "execution_count": 63,
   "metadata": {},
   "outputs": [
    {
     "name": "stderr",
     "output_type": "stream",
     "text": [
      "posx and posy should be finite values\n",
      "posx and posy should be finite values\n"
     ]
    },
    {
     "data": {
      "image/png": "[encoded data removed]",
      "text/plain": [
       "<Figure size 432x288 with 1 Axes>"
      ]
     },
     "metadata": {
      "needs_background": "light"
     },
     "output_type": "display_data"
    }
   ],
   "source": [
    "temp = item.copy()\n",
    "temp.gender.fillna('null', inplace=True)\n",
    "\n",
    "ax = sns.countplot(x='gender', data=temp, order=['남', '여', '남 여', 'null'])\n",
    "ax.set_xticklabels(['men', 'women', 'all', 'null'])\n",
    "\n",
    "for p in ax.patches:\n",
    "    height = p.get_height()\n",
    "    ax.text(p.get_x() + p.get_width() / 2., height + 30, height, ha = 'center', size = 9)\n",
    "ax.set_ylim(0, 1150)\n",
    "plt.ylabel('count')\n",
    "plt.show()"
   ]
  },
  {
   "cell_type": "markdown",
   "metadata": {},
   "source": [
    "1. [Issue] gender가 nan값인 아이템이 존재 -> 마스크, 우산, 카메라 등으로 남녀 상관 없이 사용할 수 있는 악세사리 아이템 \n",
    "2. [Issue] 남 여 모두 입을 수 있는 제품이 존재 -> 카테고리 유지할 것인지 or 새로운 카테고리명으로 정의할 것인지?\n",
    "3. [EDA] 여성 제품이 사용된 남성 코디가 존재: 약 16개"
   ]
  },
  {
   "cell_type": "code",
   "execution_count": 173,
   "metadata": {},
   "outputs": [
    {
     "data": {
      "text/plain": [
       "array(['남', '유니섹스', '여'], dtype=object)"
      ]
     },
     "execution_count": 173,
     "metadata": {},
     "output_type": "execute_result"
    }
   ],
   "source": [
    "def preprocessing_gender_info(gender_info):\n",
    "    '''\n",
    "    성병 정보 추출 및 변환\n",
    "    : gender_info - 하나의 아이템에 대한 gener 정보 (str or nan)\n",
    "    '''\n",
    "    if type(gender_info) == str:\n",
    "        if gender_info == '남 여': return '유니섹스'\n",
    "        return gender_info\n",
    "    return gender_info # TODO: 성별 정보가 없을 때!\n",
    "\n",
    "# -- gender 데이터 전처리\n",
    "item['gender'] = item.gender.transform(preprocessing_gender_info)\n",
    "item['gender'].unique()"
   ]
  },
  {
   "cell_type": "markdown",
   "metadata": {},
   "source": [
    "# 사계절"
   ]
  },
  {
   "cell_type": "code",
   "execution_count": 65,
   "metadata": {},
   "outputs": [
    {
     "data": {
      "text/html": [
       "<div>\n",
       "<style scoped>\n",
       "    .dataframe tbody tr th:only-of-type {\n",
       "        vertical-align: middle;\n",
       "    }\n",
       "\n",
       "    .dataframe tbody tr th {\n",
       "        vertical-align: top;\n",
       "    }\n",
       "\n",
       "    .dataframe thead th {\n",
       "        text-align: right;\n",
       "    }\n",
       "</style>\n",
       "<table border=\"1\" class=\"dataframe\">\n",
       "  <thead>\n",
       "    <tr style=\"text-align: right;\">\n",
       "      <th></th>\n",
       "      <th>id</th>\n",
       "      <th>four_season</th>\n",
       "    </tr>\n",
       "  </thead>\n",
       "  <tbody>\n",
       "    <tr>\n",
       "      <th>0</th>\n",
       "      <td>1110028</td>\n",
       "      <td>봄</td>\n",
       "    </tr>\n",
       "    <tr>\n",
       "      <th>1</th>\n",
       "      <td>1110028</td>\n",
       "      <td>가을</td>\n",
       "    </tr>\n",
       "    <tr>\n",
       "      <th>2</th>\n",
       "      <td>952064</td>\n",
       "      <td>봄</td>\n",
       "    </tr>\n",
       "    <tr>\n",
       "      <th>3</th>\n",
       "      <td>952064</td>\n",
       "      <td>가을</td>\n",
       "    </tr>\n",
       "    <tr>\n",
       "      <th>4</th>\n",
       "      <td>952064</td>\n",
       "      <td>겨울</td>\n",
       "    </tr>\n",
       "  </tbody>\n",
       "</table>\n",
       "</div>"
      ],
      "text/plain": [
       "        id four_season\n",
       "0  1110028           봄\n",
       "1  1110028          가을\n",
       "2   952064           봄\n",
       "3   952064          가을\n",
       "4   952064          겨울"
      ]
     },
     "execution_count": 65,
     "metadata": {},
     "output_type": "execute_result"
    }
   ],
   "source": [
    "item_four_season.head()"
   ]
  },
  {
   "cell_type": "code",
   "execution_count": 66,
   "metadata": {},
   "outputs": [
    {
     "data": {
      "text/plain": [
       "array(['봄', '가을', '겨울', '여름'], dtype=object)"
      ]
     },
     "execution_count": 66,
     "metadata": {},
     "output_type": "execute_result"
    }
   ],
   "source": [
    "item_four_season['four_season'].unique()"
   ]
  },
  {
   "cell_type": "code",
   "execution_count": 67,
   "metadata": {},
   "outputs": [
    {
     "data": {
      "image/png": "[encoded data removed]",
      "text/plain": [
       "<Figure size 432x288 with 1 Axes>"
      ]
     },
     "metadata": {
      "needs_background": "light"
     },
     "output_type": "display_data"
    }
   ],
   "source": [
    "four_season_data = len(item_four_season['id'].unique())\n",
    "ax = sns.barplot(x=['four season data', 'null'], y=[four_season_data, len(item)-four_season_data])\n",
    "for p in ax.patches:\n",
    "    height = p.get_height()\n",
    "    ax.text(p.get_x() + p.get_width() / 2., height + 30, height, ha = 'center', size = 9)\n",
    "ax.set_ylim(0, 1000)\n",
    "plt.ylabel('count')\n",
    "plt.show()"
   ]
  },
  {
   "cell_type": "code",
   "execution_count": 13,
   "metadata": {},
   "outputs": [
    {
     "data": {
      "image/png": "[encoded data removed]",
      "text/plain": [
       "<Figure size 432x288 with 1 Axes>"
      ]
     },
     "metadata": {
      "needs_background": "light"
     },
     "output_type": "display_data"
    }
   ],
   "source": [
    "ax = sns.countplot(x='four_season', data=item_four_season, order=['봄', '여름', '가을', '겨울'])\n",
    "ax.set_xticklabels(['spring', 'summer', 'fall', 'winter'])\n",
    "\n",
    "# -- count plot 출력\n",
    "for p in ax.patches:\n",
    "    height = p.get_height()\n",
    "    ax.text(p.get_x() + p.get_width() / 2., height + 30, height, ha = 'center', size = 9)\n",
    "ax.set_ylim(0, 1150)\n",
    "plt.ylabel('count')\n",
    "plt.show()"
   ]
  },
  {
   "cell_type": "markdown",
   "metadata": {},
   "source": [
    "1. 여름을 제외한 나머지 계절의 상품은 균등하게 크롤링 된 것을 알 수 있다"
   ]
  },
  {
   "cell_type": "markdown",
   "metadata": {},
   "source": [
    "# 시즌"
   ]
  },
  {
   "cell_type": "code",
   "execution_count": 68,
   "metadata": {},
   "outputs": [
    {
     "data": {
      "text/plain": [
       "array(['2019 S/S', 'ALL ALL', '2021 ALL', '2019 ALL', 'ALL', nan,\n",
       "       '2022 S/S', '2021 S/S', '2019 F/W', '2020 S/S', 'ALL F/W',\n",
       "       '2021 F/W', '2020 F/W', '2020 ALL', '2018 S/S', '2022 ALL',\n",
       "       '2016 F/W', '2018 F/W', '2016 S/S', '2018 ALL', 'ALL S/S',\n",
       "       '2017 F/W', '2017 S/S', '2016 ALL', '2022 F/W', '2022'],\n",
       "      dtype=object)"
      ]
     },
     "execution_count": 68,
     "metadata": {},
     "output_type": "execute_result"
    }
   ],
   "source": [
    "item['season'].unique()"
   ]
  },
  {
   "cell_type": "code",
   "execution_count": 105,
   "metadata": {},
   "outputs": [
    {
     "data": {
      "image/png": "[encoded data removed]",
      "text/plain": [
       "<Figure size 432x288 with 1 Axes>"
      ]
     },
     "metadata": {
      "needs_background": "light"
     },
     "output_type": "display_data"
    }
   ],
   "source": [
    "# -- bar plot 출력\n",
    "no_season_info = set(item[item['season'].isnull()]['id'])\n",
    "no_four_season_info = set(item['id']) - set(item_four_season['id'].unique())\n",
    "no_both_info = no_season_info & no_four_season_info\n",
    "\n",
    "plt.title('NULL data abouot season info')\n",
    "ax = sns.barplot(x=['no season info', 'no four season info', 'no both data'], \n",
    "                 y=[len(no_season_info), len(no_four_season_info), len(no_both_info)])\n",
    "for p in ax.patches:\n",
    "    height = p.get_height()\n",
    "    ax.text(p.get_x() + p.get_width() / 2., height + 30, height, ha = 'center', size = 9)\n",
    "ax.set_ylim(0, ax.get_ylim()[1]+40)\n",
    "plt.ylabel('count')\n",
    "plt.show()"
   ]
  },
  {
   "cell_type": "code",
   "execution_count": 70,
   "metadata": {},
   "outputs": [
    {
     "data": {
      "text/plain": [
       "Counter({'바지': 50, '모자': 17, '가방': 18, '신발': 73, '아우터': 23, '상의': 34})"
      ]
     },
     "execution_count": 70,
     "metadata": {},
     "output_type": "execute_result"
    }
   ],
   "source": [
    "big_class_list = []\n",
    "for id in no_both_info:\n",
    "    cs = item[item['id']==id]['big_class'].item()\n",
    "    big_class_list.append(cs)\n",
    "\n",
    "Counter(big_class_list)"
   ]
  },
  {
   "cell_type": "markdown",
   "metadata": {},
   "source": [
    "### season_day feature 생성"
   ]
  },
  {
   "cell_type": "code",
   "execution_count": 71,
   "metadata": {},
   "outputs": [
    {
     "data": {
      "text/plain": [
       "array([2019.,   nan, 2021., 2022., 2020., 2018., 2016., 2017.])"
      ]
     },
     "execution_count": 71,
     "metadata": {},
     "output_type": "execute_result"
    }
   ],
   "source": [
    "def make_season_day(season_info):\n",
    "    '''\n",
    "    season 정보를 사용하여 season day 추출 및 생성\n",
    "    : season_info - 하나의 item에 대한 season 정보 (str or nan)\n",
    "    '''\n",
    "    if type(season_info) == str:\n",
    "        day = re.search('[0-9]{4}', season_info)\n",
    "        if day: return int(day.group())\n",
    "    return None\n",
    "\n",
    "\n",
    "# -- season_day feature 생성\n",
    "item['season_day'] = item.season.transform(make_season_day)\n",
    "#item['season_day'].unique()"
   ]
  },
  {
   "cell_type": "code",
   "execution_count": 72,
   "metadata": {},
   "outputs": [
    {
     "data": {
      "text/plain": [
       "array(['S/S', 'ALL', None, 'F/W'], dtype=object)"
      ]
     },
     "execution_count": 72,
     "metadata": {},
     "output_type": "execute_result"
    }
   ],
   "source": [
    "def preprosessing_season_info(season_info):\n",
    "    '''\n",
    "    season_info에서 S/S, F/W, ALL 정보 추출 및 변환\n",
    "    : season_info - 하나의 item에 대한 season 정보 (str or nan)\n",
    "    '''\n",
    "    if type(season_info) == str:\n",
    "        if re.search('[A-Z]\\/[A-Z]', season_info): # S/S format의 str이 있는 경우 해당 정보를 뽑아냄\n",
    "            return re.search('[A-Z]\\/[A-Z]', season_info).group()\n",
    "        elif re.search('[A-Z]{3}', season_info):   # ALL인 경우 해당 정보를 뽑아냄\n",
    "            return re.search('[A-Z]{3}', season_info).group()\n",
    "    return None\n",
    "\n",
    "# -- season 데이터 전처리\n",
    "item['season'] = item.season.transform(preprosessing_season_info)\n",
    "# item['season'].unique()"
   ]
  },
  {
   "cell_type": "code",
   "execution_count": 174,
   "metadata": {},
   "outputs": [
    {
     "name": "stderr",
     "output_type": "stream",
     "text": [
      "588it [00:00, 663862.92it/s]\n",
      "100%|██████████| 271/271 [00:00<00:00, 7994.66it/s]\n"
     ]
    },
    {
     "data": {
      "text/html": [
       "<div>\n",
       "<style scoped>\n",
       "    .dataframe tbody tr th:only-of-type {\n",
       "        vertical-align: middle;\n",
       "    }\n",
       "\n",
       "    .dataframe tbody tr th {\n",
       "        vertical-align: top;\n",
       "    }\n",
       "\n",
       "    .dataframe thead th {\n",
       "        text-align: right;\n",
       "    }\n",
       "</style>\n",
       "<table border=\"1\" class=\"dataframe\">\n",
       "  <thead>\n",
       "    <tr style=\"text-align: right;\">\n",
       "      <th></th>\n",
       "      <th>id</th>\n",
       "      <th>four_season</th>\n",
       "    </tr>\n",
       "  </thead>\n",
       "  <tbody>\n",
       "    <tr>\n",
       "      <th>0</th>\n",
       "      <td>1110028</td>\n",
       "      <td>봄</td>\n",
       "    </tr>\n",
       "    <tr>\n",
       "      <th>1</th>\n",
       "      <td>1110028</td>\n",
       "      <td>가을</td>\n",
       "    </tr>\n",
       "    <tr>\n",
       "      <th>2</th>\n",
       "      <td>952064</td>\n",
       "      <td>봄</td>\n",
       "    </tr>\n",
       "    <tr>\n",
       "      <th>3</th>\n",
       "      <td>952064</td>\n",
       "      <td>가을</td>\n",
       "    </tr>\n",
       "    <tr>\n",
       "      <th>4</th>\n",
       "      <td>952064</td>\n",
       "      <td>겨울</td>\n",
       "    </tr>\n",
       "    <tr>\n",
       "      <th>...</th>\n",
       "      <td>...</td>\n",
       "      <td>...</td>\n",
       "    </tr>\n",
       "    <tr>\n",
       "      <th>1610</th>\n",
       "      <td>1251691</td>\n",
       "      <td>사게졀</td>\n",
       "    </tr>\n",
       "    <tr>\n",
       "      <th>1611</th>\n",
       "      <td>571368</td>\n",
       "      <td>사게졀</td>\n",
       "    </tr>\n",
       "    <tr>\n",
       "      <th>1612</th>\n",
       "      <td>1105787</td>\n",
       "      <td>사게졀</td>\n",
       "    </tr>\n",
       "    <tr>\n",
       "      <th>1613</th>\n",
       "      <td>825315</td>\n",
       "      <td>사게졀</td>\n",
       "    </tr>\n",
       "    <tr>\n",
       "      <th>1614</th>\n",
       "      <td>1007695</td>\n",
       "      <td>사게졀</td>\n",
       "    </tr>\n",
       "  </tbody>\n",
       "</table>\n",
       "<p>1615 rows × 2 columns</p>\n",
       "</div>"
      ],
      "text/plain": [
       "           id four_season\n",
       "0     1110028           봄\n",
       "1     1110028          가을\n",
       "2      952064           봄\n",
       "3      952064          가을\n",
       "4      952064          겨울\n",
       "...       ...         ...\n",
       "1610  1251691         사게졀\n",
       "1611   571368         사게졀\n",
       "1612  1105787         사게졀\n",
       "1613   825315         사게졀\n",
       "1614  1007695         사게졀\n",
       "\n",
       "[1615 rows x 2 columns]"
      ]
     },
     "execution_count": 174,
     "metadata": {},
     "output_type": "execute_result"
    }
   ],
   "source": [
    "def transform_season_to_four_season(item: pd.DataFrame, item_four_season: pd.DataFrame) -> pd.DataFrame:\n",
    "    '''\n",
    "    season 정보를 사용해서 four_season 정보에 추가\n",
    "    '''\n",
    "    new_item = pd.merge(item, item_four_season, how='left')\n",
    "    only_season = new_item[(new_item['season'].notnull()) & (new_item['four_season'].isnull())]\n",
    "    four_season_list = []\n",
    "\n",
    "    for item_id, season_info in tqdm(zip(only_season['id'], only_season['season'])):\n",
    "        if season_info == 'S/S':\n",
    "            four_season_list.append([item_id, '봄'])\n",
    "            four_season_list.append([item_id, '여름'])\n",
    "        elif season_info == 'F/W':\n",
    "            four_season_list.append([item_id, '가을'])\n",
    "            four_season_list.append([item_id, '겨울'])\n",
    "        else: # ALL\n",
    "            four_season_list.append([item_id, '사계절'])\n",
    "\n",
    "    appended_item_four_season = pd.DataFrame(four_season_list, columns=['id', 'four_season'])\n",
    "    updated_item_four_season = pd.concat([item_four_season, appended_item_four_season], ignore_index=True)\n",
    "    return updated_item_four_season.drop_duplicates().reset_index(drop=True)\n",
    "\n",
    "\n",
    "def preprocessing_null_season_data(item: pd.DataFrame, item_four_season:pd.DataFrame) -> pd.DataFrame:\n",
    "    '''\n",
    "    item의 season 정보와 four_season 정보가 모두 없는 결측지 데이터 전처리\n",
    "    '''\n",
    "    new_item = pd.merge(item, item_four_season, how='left')\n",
    "    no_both_season = new_item[(new_item['season'].isnull()) & (new_item['four_season'].isnull())]\n",
    "    four_season_list = []\n",
    "\n",
    "    for idx in tqdm(range(len(no_both_season))):\n",
    "        data = no_both_season.iloc[idx]\n",
    "        if data['big_class'] in ['상의', '바지', '아우터']: pass  #TODO: four_season_list.append([data['id'], '???'])\n",
    "        else: four_season_list.append([data['id'], '사게졀'])  #TODO: season info가 없는 경우!\n",
    "\n",
    "    appended_item_four_season = pd.DataFrame(four_season_list, columns=['id', 'four_season'])\n",
    "    updated_item_four_season = pd.concat([item_four_season, appended_item_four_season], ignore_index=True)\n",
    "    return updated_item_four_season.drop_duplicates().reset_index(drop=True)\n",
    "\n",
    "\n",
    "# -- 데이터 초기화 (나중에 제거)\n",
    "item = get_item_data('item')\n",
    "item_four_season = get_item_data('item_four_season')\n",
    "\n",
    "# -- four season 데이터 전처리\n",
    "item_four_season = transform_season_to_four_season(item, item_four_season)\n",
    "item_four_season = preprocessing_null_season_data(item, item_four_season)"
   ]
  },
  {
   "cell_type": "markdown",
   "metadata": {},
   "source": [
    "# 체형"
   ]
  },
  {
   "cell_type": "code",
   "execution_count": null,
   "metadata": {},
   "outputs": [],
   "source": [
    "item_fit.head()"
   ]
  },
  {
   "cell_type": "code",
   "execution_count": 104,
   "metadata": {},
   "outputs": [
    {
     "data": {
      "image/png": "[encoded data removed]",
      "text/plain": [
       "<Figure size 432x288 with 1 Axes>"
      ]
     },
     "metadata": {
      "needs_background": "light"
     },
     "output_type": "display_data"
    }
   ],
   "source": [
    "plt.title('fit info')\n",
    "ax = sns.countplot(x='fit', data=item_fit, order=['스키니', '슬림', '레귤러', '루즈', '오버 사이즈'])\n",
    "ax.set_xticklabels(['skinny', 'slim', 'regular', 'loose', 'oversize'])\n",
    "\n",
    "for p in ax.patches:\n",
    "    height = p.get_height()\n",
    "    ax.text(p.get_x() + p.get_width() / 2., height + 10, height, ha = 'center', size = 9)\n",
    "ax.set_ylim(0, ax.get_ylim()[1]+40)\n",
    "plt.ylabel('count')\n",
    "plt.show()"
   ]
  },
  {
   "cell_type": "code",
   "execution_count": 148,
   "metadata": {},
   "outputs": [],
   "source": [
    "def make_item_fit_from_tag(item_tag:pd.DataFrame) -> pd.DataFrame:\n",
    "    '''\n",
    "    item의 tag에서 fit 정보를 추출\n",
    "    reuturn 값 - [id, fit_from_tag] dataframe\n",
    "    '''\n",
    "    fit_list = [\"핏\", \"와이드\", \"오버\", \"슬림\", \"레귤러\", \"스키니\", \"루즈\", \"릴렉스\", \"퍼팩트\", \"스트레이트\", \"캐롯핏\", \"코어\", \"벌룬\"]\n",
    "    tag_fit_list = list()\n",
    "\n",
    "    for id, tag in zip(item_tag['id'], item_tag['tag']) :\n",
    "        for fit in fit_list :\n",
    "            if fit in tag : tag_fit_list.append((id, tag))\n",
    "\n",
    "    item_fit_from_tag = pd.DataFrame(tag_fit_list, columns=[\"id\",\"fit_from_tag\"])\n",
    "    remove_carryover = item_fit_from_tag[item_fit_from_tag[\"fit_from_tag\"]==\"캐리오버\"].index\n",
    "    remove_corefit = item_fit_from_tag[item_fit_from_tag[\"fit_from_tag\"]==\"코어핏\"].index\n",
    "    item_fit_from_tag.drop(remove_carryover, inplace=True)\n",
    "    item_fit_from_tag.drop(remove_corefit, inplace=True)\n",
    "\n",
    "    for idx in item_fit_from_tag.index:\n",
    "        tag = item_fit_from_tag.loc[idx,'fit_from_tag']\n",
    "        for fit in fit_list[1:]:\n",
    "            if fit not in tag: continue\n",
    "            if fit == \"캐롯핏\":\n",
    "                item_fit_from_tag.loc[idx,'fit_from_tag'] = \"슬림\"\n",
    "            elif fit in [\"퍼팩트\", \"스탠다드핏\", \"스트레이트\"]:\n",
    "                item_fit_from_tag.loc[idx,'fit_from_tag'] = \"레귤러\"\n",
    "            elif fit in [\"벌룬\", \"오버\"]:\n",
    "                item_fit_from_tag.loc[idx,'fit_from_tag'] = \"오버 사이즈\"\n",
    "            elif  fit == \"릴렉스\":\n",
    "                item_fit_from_tag.loc[idx,'fit_from_tag'] = \"루즈\"\n",
    "            else:\n",
    "                item_fit_from_tag.loc[idx,'fit_from_tag'] = fit\n",
    "\n",
    "    return item_fit_from_tag.drop_duplicates().reset_index(drop=True)"
   ]
  },
  {
   "cell_type": "code",
   "execution_count": 153,
   "metadata": {},
   "outputs": [
    {
     "name": "stderr",
     "output_type": "stream",
     "text": [
      "186it [00:00, 689779.44it/s]\n",
      "100%|██████████| 554/554 [00:00<00:00, 8034.43it/s]\n"
     ]
    }
   ],
   "source": [
    "def transform_fit_from_tag_to_fit(item:pd.DataFrame, item_fit:pd.DataFrame, item_fit_from_tag: pd.DataFrame) -> pd.DataFrame:\n",
    "    '''\n",
    "    tag에 있는 fit 정보를 사용해서 fit에 데이터 추가\n",
    "    : item_fit_from_tag [id, fit_from_tag] - tag에 있는 fit 정보가 담겨 있는 데이터프레임\n",
    "    '''\n",
    "    new_item = pd.merge(item, item_fit, how='left', on='id')\n",
    "    new_item = pd.merge(new_item, item_fit_from_tag, how='left', on='id')\n",
    "    only_fit_from_tag = new_item[(new_item['fit'].isnull()) & (new_item['fit_from_tag'].notnull())]\n",
    "    id_fit_list = []\n",
    "\n",
    "    for id, tag in tqdm(zip(only_fit_from_tag['id'], only_fit_from_tag['fit_from_tag'])):\n",
    "        if tag == '오버': id_fit_list.append([id, '오버 사이즈'])\n",
    "        else: id_fit_list.append([id, tag])\n",
    "\n",
    "    appended_item_fit = pd.DataFrame(id_fit_list, columns=['id', 'fit'])\n",
    "    updated_item_fit = pd.concat([item_fit, appended_item_fit], ignore_index=True)\n",
    "    return updated_item_fit.drop_duplicates().reset_index(drop=True)\n",
    "\n",
    "\n",
    "def preprocessing_null_fit_data(item:pd.DataFrame, item_fit:pd.DataFrame, item_fit_from_tag: pd.DataFrame) -> pd.DataFrame:\n",
    "    '''\n",
    "    item의 fit 정보와 fit_from_tag 정보가 모두 없는 결측지 데이터 전처리\n",
    "    : item_fit_from_tag [id, fit_from_tag] - tag에 있는 fit 정보가 담겨 있는 데이터프레임\n",
    "    '''\n",
    "    new_item = pd.merge(item, item_fit, how='left', on='id')\n",
    "    new_item = pd.merge(new_item, item_fit_from_tag, how='left', on='id')\n",
    "    no_both_fit = new_item[(new_item['fit'].isnull()) & (new_item['fit_from_tag'].isnull())]\n",
    "    id_fit_list = []\n",
    "    \n",
    "    for idx in tqdm(range(len(no_both_fit))):\n",
    "        data = no_both_fit.iloc[idx]\n",
    "        if data['big_class'] in ['아우터', '상의', '바지']: pass # TODO: id_fit_list.append([data['id'], '???'])\n",
    "        else: id_fit_list.append([data['id'], '프리'])\n",
    "\n",
    "    appended_item_fit = pd.DataFrame(id_fit_list, columns=['id', 'fit'])\n",
    "    updated_item_fit = pd.concat([item_fit, appended_item_fit], ignore_index=True)\n",
    "    return updated_item_fit.drop_duplicates().reset_index(drop=True)\n",
    "\n",
    "# -- 데이터 초기화 (나중에 제거)\n",
    "item = pd.read_excel('/opt/ml/input/data/asset_codishop/view/item/item.xlsx', engine='openpyxl')\n",
    "item_fit = get_item_data(file_name='item_fit')\n",
    "\n",
    "# -- fit 데이터 전처리\n",
    "item_fit_from_tag = make_item_fit_from_tag(item_tag=item_tag)\n",
    "item_fit = transform_fit_from_tag_to_fit(item, item_fit, item_fit_from_tag)\n",
    "item_fit = preprocessing_null_fit_data(item, item_fit, item_fit_from_tag)"
   ]
  },
  {
   "cell_type": "code",
   "execution_count": 154,
   "metadata": {},
   "outputs": [
    {
     "name": "stderr",
     "output_type": "stream",
     "text": [
      "186it [00:00, 506913.93it/s]\n",
      "100%|██████████| 554/554 [00:00<00:00, 8086.71it/s]\n"
     ]
    },
    {
     "data": {
      "image/png": "[encoded data removed]",
      "text/plain": [
       "<Figure size 432x288 with 1 Axes>"
      ]
     },
     "metadata": {
      "needs_background": "light"
     },
     "output_type": "display_data"
    }
   ],
   "source": [
    "# -- bar plot 출력\n",
    "plt.title('Null data abou fit info')\n",
    "item_fit = get_item_data('item_fit')\n",
    "before_no_item_fit = set(item['id']) - set(item_fit['id'].unique())\n",
    "item_fit = transform_fit_from_tag_to_fit(item, item_fit, item_fit_from_tag)\n",
    "item_fit = preprocessing_null_fit_data(item, item_fit, item_fit_from_tag)\n",
    "after_no_item_fit = set(item['id']) - set(item_fit['id'].unique())\n",
    "ax = sns.barplot(x=['before no fit info', 'after no fit info'], \n",
    "                 y=[len(before_no_item_fit), len(after_no_item_fit)])\n",
    "for p in ax.patches:\n",
    "    height = p.get_height()\n",
    "    ax.text(p.get_x() + p.get_width() / 2., height + 30, height, ha = 'center', size = 9)\n",
    "\n",
    "ax.set_ylim(0, ax.get_ylim()[1]+40)\n",
    "plt.ylabel('count')\n",
    "plt.show()"
   ]
  },
  {
   "cell_type": "code",
   "execution_count": 172,
   "metadata": {},
   "outputs": [
    {
     "name": "stdout",
     "output_type": "stream",
     "text": [
      "877\n"
     ]
    },
    {
     "data": {
      "image/png": "[encoded data removed]",
      "text/plain": [
       "<Figure size 432x288 with 1 Axes>"
      ]
     },
     "metadata": {
      "needs_background": "light"
     },
     "output_type": "display_data"
    }
   ],
   "source": [
    "# -- bar 출력\n",
    "print(len(item_fit['id'].unique()))\n",
    "\n",
    "plt.title('After preprocessing fit info')\n",
    "ax = sns.countplot(x='fit', data=item_fit, order=['스키니', '슬림', '레귤러', '루즈', '오버 사이즈', '스탠다드핏', '와이드', '프리'])\n",
    "ax.set_xticklabels(['skinny', 'slim', 'regular', 'loose', 'oversize', 'standard', 'wide', 'free'])\n",
    "\n",
    "for p in ax.patches:\n",
    "    height = p.get_height()\n",
    "    ax.text(p.get_x() + p.get_width() / 2., height + 10, height, ha = 'center', size = 9)\n",
    "ax.set_ylim(0, ax.get_ylim()[1]+40)\n",
    "plt.ylabel('count')\n",
    "plt.show()"
   ]
  },
  {
   "cell_type": "markdown",
   "metadata": {},
   "source": [
    "# 조회수"
   ]
  },
  {
   "cell_type": "code",
   "execution_count": 167,
   "metadata": {},
   "outputs": [
    {
     "name": "stdout",
     "output_type": "stream",
     "text": [
      "조회수 결측 데이터 수: 1251\n"
     ]
    }
   ],
   "source": [
    "print(f'조회수 결측 데이터 수:', len(item['view'].isnull()))"
   ]
  },
  {
   "cell_type": "code",
   "execution_count": 160,
   "metadata": {},
   "outputs": [],
   "source": [
    "def preprocessing_view_info(view_info):\n",
    "    '''\n",
    "    view_info 데이터를 실수로 변환 및 전처리\n",
    "    : view_info - 하나의 item에 대한 view 정보 (str or nan)\n",
    "    '''\n",
    "    if type(view_info) == str:\n",
    "        view_info = view_info.replace('회 이상', '').strip()\n",
    "        if view_info[-1] == '천':\n",
    "            return float(view_info[:-1])*1000\n",
    "        elif view_info[-1] == '만':\n",
    "            return float(view_info[:-1])*10000\n",
    "        return float(view_info)\n",
    "    return view_info\n",
    "\n",
    "# -- 데이터 초기화 (나중에 제거)\n",
    "item = get_item_data('item')\n",
    "\n",
    "# -- view 데이터 전처리\n",
    "item['view'] = item.view.transform(preprocessing_view_info)"
   ]
  },
  {
   "cell_type": "code",
   "execution_count": 171,
   "metadata": {},
   "outputs": [
    {
     "data": {
      "text/plain": [
       "0       300.0\n",
       "1     11000.0\n",
       "2    110000.0\n",
       "3       700.0\n",
       "4     23000.0\n",
       "Name: view, dtype: float64"
      ]
     },
     "execution_count": 171,
     "metadata": {},
     "output_type": "execute_result"
    }
   ],
   "source": [
    "item['view'].head()"
   ]
  },
  {
   "cell_type": "markdown",
   "metadata": {},
   "source": [
    "# 누적판매"
   ]
  },
  {
   "cell_type": "code",
   "execution_count": 169,
   "metadata": {},
   "outputs": [
    {
     "name": "stdout",
     "output_type": "stream",
     "text": [
      "누적 판매 결측 데이터 수: 313\n"
     ]
    }
   ],
   "source": [
    "print(f'누적 판매 결측 데이터 수:', len(item[item['cum_sale'].isnull()]))"
   ]
  }
 ],
 "metadata": {
  "interpreter": {
   "hash": "d4d1e4263499bec80672ea0156c357c1ee493ec2b1c70f0acce89fc37c4a6abe"
  },
  "kernelspec": {
   "display_name": "Python 3.8.5 ('base')",
   "language": "python",
   "name": "python3"
  },
  "language_info": {
   "codemirror_mode": {
    "name": "ipython",
    "version": 3
   },
   "file_extension": ".py",
   "mimetype": "text/x-python",
   "name": "python",
   "nbconvert_exporter": "python",
   "pygments_lexer": "ipython3",
   "version": "3.8.5"
  },
  "orig_nbformat": 4
 },
 "nbformat": 4,
 "nbformat_minor": 2
}
