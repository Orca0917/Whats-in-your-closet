{
 "cells": [
  {
   "cell_type": "code",
   "execution_count": 4,
   "metadata": {},
   "outputs": [
    {
     "name": "stdout",
     "output_type": "stream",
     "text": [
      "Starting Data Preprocessing!\n",
      "1. Preprocessing for class...\n",
      "2. Preprocessing for likes...\n",
      "3. Preprocessing for color...\n",
      "100%|███████████████████████████████████████| 1077/1077 [37:24<00:00,  2.08s/it]\n",
      "Traceback (most recent call last):\n",
      "  File \"preprocessing.py\", line 16, in <module>\n",
      "    preprocessed_data = color_preprocess(preprocessed_data)\n",
      "  File \"/opt/ml/final-project-level3-recsys-07/preprocessing/color_preprocess.py\", line 108, in color_preprocess\n",
      "    item_df['color_name'] = item_df['hex_color'].apply(lambda x: hex2color[x])\n",
      "  File \"/opt/conda/lib/python3.8/site-packages/pandas/core/series.py\", line 4433, in apply\n",
      "    return SeriesApply(self, func, convert_dtype, args, kwargs).apply()\n",
      "  File \"/opt/conda/lib/python3.8/site-packages/pandas/core/apply.py\", line 1082, in apply\n",
      "    return self.apply_standard()\n",
      "  File \"/opt/conda/lib/python3.8/site-packages/pandas/core/apply.py\", line 1137, in apply_standard\n",
      "    mapped = lib.map_infer(\n",
      "  File \"pandas/_libs/lib.pyx\", line 2870, in pandas._libs.lib.map_infer\n",
      "  File \"/opt/ml/final-project-level3-recsys-07/preprocessing/color_preprocess.py\", line 108, in <lambda>\n",
      "    item_df['color_name'] = item_df['hex_color'].apply(lambda x: hex2color[x])\n",
      "TypeError: 'function' object is not subscriptable\n"
     ]
    }
   ],
   "source": [
    "!python3 preprocessing.py"
   ]
  },
  {
   "cell_type": "code",
   "execution_count": null,
   "metadata": {},
   "outputs": [],
   "source": []
  }
 ],
 "metadata": {
  "interpreter": {
   "hash": "d4d1e4263499bec80672ea0156c357c1ee493ec2b1c70f0acce89fc37c4a6abe"
  },
  "kernelspec": {
   "display_name": "Python 3.8.5 ('base')",
   "language": "python",
   "name": "python3"
  },
  "language_info": {
   "codemirror_mode": {
    "name": "ipython",
    "version": 3
   },
   "file_extension": ".py",
   "mimetype": "text/x-python",
   "name": "python",
   "nbconvert_exporter": "python",
   "pygments_lexer": "ipython3",
   "version": "3.8.5"
  },
  "orig_nbformat": 4
 },
 "nbformat": 4,
 "nbformat_minor": 2
}
