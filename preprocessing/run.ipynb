{
 "cells": [
  {
   "cell_type": "code",
   "execution_count": 4,
   "metadata": {},
   "outputs": [
    {
     "name": "stdout",
     "output_type": "stream",
     "text": [
      "  0%|                                          | 2/1077 [00:04<39:46,  2.22s/it]^C\n",
      "  0%|                                          | 2/1077 [00:05<45:30,  2.54s/it]\n",
      "Traceback (most recent call last):\n",
      "  File \"preprocessing_item.py\", line 19, in <module>\n",
      "    preprocessed_data = color_preprocess(preprocessed_data)\n",
      "  File \"/opt/ml/final-project-level3-recsys-07/preprocessing/utils_item.py\", line 66, in color_preprocess\n",
      "    img = remove(img)                   # 배경제거\n",
      "  File \"/opt/conda/lib/python3.8/site-packages/rembg/bg.py\", line 91, in remove\n",
      "    session = ort_session(\"u2net\")\n",
      "  File \"/opt/conda/lib/python3.8/site-packages/rembg/detect.py\", line 46, in ort_session\n",
      "    return ort.InferenceSession(\n",
      "  File \"/opt/conda/lib/python3.8/site-packages/onnxruntime/capi/onnxruntime_inference_collection.py\", line 335, in __init__\n",
      "    self._create_inference_session(providers, provider_options, disabled_optimizers)\n",
      "  File \"/opt/conda/lib/python3.8/site-packages/onnxruntime/capi/onnxruntime_inference_collection.py\", line 368, in _create_inference_session\n",
      "    sess = C.InferenceSession(session_options, self._model_path, True, self._read_config_from_model)\n",
      "KeyboardInterrupt\n"
     ]
    }
   ],
   "source": [
    "!python3 preprocessing_item.py"
   ]
  },
  {
   "cell_type": "code",
   "execution_count": null,
   "metadata": {},
   "outputs": [],
   "source": []
  }
 ],
 "metadata": {
  "interpreter": {
   "hash": "d4d1e4263499bec80672ea0156c357c1ee493ec2b1c70f0acce89fc37c4a6abe"
  },
  "kernelspec": {
   "display_name": "Python 3.8.5 ('base')",
   "language": "python",
   "name": "python3"
  },
  "language_info": {
   "codemirror_mode": {
    "name": "ipython",
    "version": 3
   },
   "file_extension": ".py",
   "mimetype": "text/x-python",
   "name": "python",
   "nbconvert_exporter": "python",
   "pygments_lexer": "ipython3",
   "version": "3.8.5"
  },
  "orig_nbformat": 4
 },
 "nbformat": 4,
 "nbformat_minor": 2
}
