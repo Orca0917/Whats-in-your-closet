{
 "cells": [
  {
   "cell_type": "code",
   "execution_count": 1,
   "metadata": {},
   "outputs": [],
   "source": [
    "import numpy as np\n",
    "import pandas as pd"
   ]
  },
  {
   "cell_type": "code",
   "execution_count": 2,
   "metadata": {},
   "outputs": [],
   "source": [
    "raw_data = pd.read_excel(\"/opt/ml/input/data/raw_codishop/view/item/item_tag.xlsx\", engine='openpyxl')\n",
    "all_item = pd.read_excel(\"/opt/ml/input/data/raw_codishop/view/item/item.xlsx\", engine='openpyxl')\n",
    "item_with_tag_list = list(raw_data[\"id\"].unique())\n",
    "unique_item_list = list(all_item[\"id\"].unique())\n",
    "unique_tag_list = list(raw_data[\"tag\"].unique())"
   ]
  },
  {
   "cell_type": "code",
   "execution_count": 3,
   "metadata": {},
   "outputs": [
    {
     "name": "stdout",
     "output_type": "stream",
     "text": [
      "1251개의 아이템 중 66개는 태그가 없습니다.\n",
      "고유한 태그의 수는 1881개 입니다.\n"
     ]
    }
   ],
   "source": [
    "cnt = 0\n",
    "for item in unique_item_list :\n",
    "    if item not in item_with_tag_list :\n",
    "        cnt +=1\n",
    "print(f\"{len(unique_item_list)}개의 아이템 중 {cnt}개는 태그가 없습니다.\")\n",
    "print(f\"고유한 태그의 수는 {len(unique_tag_list)}개 입니다.\")"
   ]
  },
  {
   "cell_type": "code",
   "execution_count": 4,
   "metadata": {},
   "outputs": [
    {
     "data": {
      "text/plain": [
       "id\n",
       "25868                           [데님, 생지, 슬림, 슬림진, 와이드, 진, 청]\n",
       "64040                  [가죽, 기본벨트, 데일리, 벨트, 빈티지, 이탈리아가죽, 캐주얼]\n",
       "80701                                 [그래픽티셔츠, 박스티셔츠, 반팔티셔츠]\n",
       "86559                                                [SOCKS]\n",
       "102619       [스케이트보드, 어센틱, 캐리오버, 캔버스, 캔버스운동화, 시그니처아이템, MD추천]\n",
       "                                 ...                        \n",
       "2157202                        [비브람, 슬립온, 남성구두, 남자로퍼, 소가죽로퍼]\n",
       "2201846          [쉐르파, 플리스, 플리스자켓, 빅트레포일자켓, 빅트레포일, 빅트레포일플리스]\n",
       "2224536             [레이어드룩, 오버핏가디건, 스웨터가디건, 니트가디건, 와플, 와플니트]\n",
       "2284131    [원턱팬츠, 슬랙스팬츠, 와이드슬랙스, 와이드팬츠, 세미와이드, 슬랙스, 남자와이드팬츠]\n",
       "2349427            [인스탁스카메라, 즉석카메라, 폴라로이드카메라, 사진인화기, 인스탁스에보]\n",
       "Name: tag, Length: 1185, dtype: object"
      ]
     },
     "execution_count": 4,
     "metadata": {},
     "output_type": "execute_result"
    }
   ],
   "source": [
    "raw_data.groupby(\"id\")[\"tag\"].apply(list)"
   ]
  },
  {
   "cell_type": "markdown",
   "metadata": {},
   "source": [
    "태그가 있는 경우, 일반적으로 최소 하나는 아이템의 종류(중분류)를 나타내는 단어이다. 나머지는 핏, 소재, 스타일에 대한 단어이다.\n",
    "우리가 만약 태그를 검색 키워드로 사용하는 경우, 아이템의 중분류를 태그로 가져와 사용하는 것도 한 가지 방법일 것 같다.\n",
    "또는, 아예 태그와 중분류를 모두 가져와서 검색 키워드로 사용하는 것도 방법일 것 같다. "
   ]
  },
  {
   "cell_type": "markdown",
   "metadata": {},
   "source": [
    "### 태그에서 핏 정보 추출\n",
    "\n",
    "1. 핏과 관련된 태크 선별"
   ]
  },
  {
   "cell_type": "code",
   "execution_count": 5,
   "metadata": {},
   "outputs": [],
   "source": [
    "fit_list = [\"핏\", \"와이드\", \"오버 사이즈\", \"슬림\", \"레귤러\", \"스키니\", \"루즈\", \"릴렉스\", \"퍼팩트\", \"스트레이트\", \"캐롯핏\", \"코어\", \"벌룬\"]\n",
    "tag_fit_list = list()\n",
    "for i in range(len(raw_data)) :\n",
    "    id = raw_data[\"id\"].iloc[i]\n",
    "    tag = raw_data[\"tag\"].iloc[i]\n",
    "    for fit in fit_list :\n",
    "        if fit in tag :\n",
    "            tag_fit_list.append((id, tag))"
   ]
  },
  {
   "cell_type": "code",
   "execution_count": 6,
   "metadata": {},
   "outputs": [],
   "source": [
    "item_tag_fit_df = pd.DataFrame(tag_fit_list, columns=[\"id\",\"fit\"])"
   ]
  },
  {
   "cell_type": "markdown",
   "metadata": {},
   "source": [
    "2. 추출된 핏 관련 태그 형식 통일\n",
    "\n",
    "- 캐롯핏 : 바지 테이퍼드 핏, 슬림 핏과 유사\n",
    "- 캐리오버 : 계절에 상관없이 입는 의류를 나타내는 키워드로, 핏과 관련 없음\n",
    "- 코어핏 : 특정 핏을 나타내지 않음\n",
    "- 벌룬핏 : 오버핏에 가장 가까움"
   ]
  },
  {
   "cell_type": "code",
   "execution_count": 7,
   "metadata": {},
   "outputs": [],
   "source": [
    "fit_list = [\"와이드\", \"오버 사이즈\", \"슬림\", \"레귤러\", \"스키니\", \"루즈\", \"릴렉스\", \"퍼팩트\", \"스트레이트\", \"캐롯핏\", \"코어\", \"벌룬\"]\n",
    "\n",
    "remove_carryover = item_tag_fit_df.loc[item_tag_fit_df[\"fit\"]==\"캐리오버\"].index\n",
    "remove_corefit = item_tag_fit_df.loc[item_tag_fit_df[\"fit\"]==\"코어핏\"].index\n",
    "item_tag_fit_df.drop(remove_carryover, inplace=True)\n",
    "item_tag_fit_df.drop(remove_corefit, inplace=True)"
   ]
  },
  {
   "cell_type": "code",
   "execution_count": 8,
   "metadata": {},
   "outputs": [
    {
     "name": "stderr",
     "output_type": "stream",
     "text": [
      "/opt/conda/lib/python3.8/site-packages/pandas/core/indexing.py:670: SettingWithCopyWarning: \n",
      "A value is trying to be set on a copy of a slice from a DataFrame\n",
      "\n",
      "See the caveats in the documentation: https://pandas.pydata.org/pandas-docs/stable/user_guide/indexing.html#returning-a-view-versus-a-copy\n",
      "  iloc._setitem_with_indexer(indexer, value)\n"
     ]
    }
   ],
   "source": [
    "for i in range(len(item_tag_fit_df)) :\n",
    "    tag = item_tag_fit_df[\"fit\"].iloc[i]\n",
    "    for fit in fit_list :\n",
    "        if fit in tag :\n",
    "            item_tag_fit_df[\"fit\"].iloc[i] = fit\n",
    "    if tag == \"캐롯핏\" :\n",
    "        item_tag_fit_df[\"fit\"].iloc[i] = \"슬림\"\n",
    "    elif tag == \"퍼팩트\" or tag == \"스탠다드핏\" or tag == \"스트레이트\":\n",
    "        item_tag_fit_df[\"fit\"].iloc[i] = \"레귤러\"\n",
    "    elif tag == \"벌룬\" :\n",
    "        item_tag_fit_df[\"fit\"].iloc[i] = \"오버 사이즈\"\n",
    "    elif  tag == \"릴렉스\":\n",
    "        item_tag_fit_df[\"fit\"].iloc[i] = \"루즈\""
   ]
  },
  {
   "cell_type": "code",
   "execution_count": 9,
   "metadata": {},
   "outputs": [],
   "source": [
    "item_tag_fit_df.to_excel(\"/opt/ml/input/data/asset_codishop/view/item/item_fit_from_tag.xlsx\", index=False)"
   ]
  },
  {
   "cell_type": "code",
   "execution_count": null,
   "metadata": {},
   "outputs": [],
   "source": []
  }
 ],
 "metadata": {
  "interpreter": {
   "hash": "d4d1e4263499bec80672ea0156c357c1ee493ec2b1c70f0acce89fc37c4a6abe"
  },
  "kernelspec": {
   "display_name": "Python 3.8.5 ('base')",
   "language": "python",
   "name": "python3"
  },
  "language_info": {
   "codemirror_mode": {
    "name": "ipython",
    "version": 3
   },
   "file_extension": ".py",
   "mimetype": "text/x-python",
   "name": "python",
   "nbconvert_exporter": "python",
   "pygments_lexer": "ipython3",
   "version": "3.8.5"
  },
  "orig_nbformat": 4
 },
 "nbformat": 4,
 "nbformat_minor": 2
}
