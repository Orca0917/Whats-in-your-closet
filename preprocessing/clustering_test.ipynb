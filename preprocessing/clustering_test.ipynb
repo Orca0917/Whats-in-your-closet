{
 "cells": [
  {
   "cell_type": "code",
   "execution_count": 2,
   "metadata": {},
   "outputs": [],
   "source": [
    "import openpyxl\n",
    "import colorgram\n",
    "import requests\n",
    "import webcolors\n",
    "import warnings\n",
    "\n",
    "import pandas as pd\n",
    "import matplotlib.pyplot as plt\n",
    "\n",
    "from rembg import remove\n",
    "from PIL import Image\n",
    "from io import BytesIO\n",
    "from tqdm import tqdm\n",
    "\n",
    "from typing import List, Tuple, Union\n",
    "\n",
    "%matplotlib inline\n",
    "warnings.filterwarnings(action='ignore')"
   ]
  },
  {
   "cell_type": "code",
   "execution_count": 8,
   "metadata": {},
   "outputs": [],
   "source": [
    "# 이미지를 불러오는 함수\n",
    "def get_img_from_url(url: str) -> Image:\n",
    "    response = requests.get(url)\n",
    "    img = Image.open(BytesIO(response.content))\n",
    "    return img"
   ]
  },
  {
   "cell_type": "code",
   "execution_count": 3,
   "metadata": {},
   "outputs": [],
   "source": [
    "df = pd.read_excel(\"./temp_color.xlsx\", engine='openpyxl')"
   ]
  },
  {
   "cell_type": "code",
   "execution_count": 4,
   "metadata": {},
   "outputs": [
    {
     "data": {
      "text/plain": [
       "[(0, 431),\n",
       " (21, 209),\n",
       " (63, 189),\n",
       " (42, 126),\n",
       " (20, 22),\n",
       " (41, 14),\n",
       " (37, 12),\n",
       " (22, 11),\n",
       " (62, 8),\n",
       " (36, 8),\n",
       " (5, 6),\n",
       " (58, 6),\n",
       " (26, 5),\n",
       " (57, 4),\n",
       " (1, 4),\n",
       " (6, 4),\n",
       " (16, 4),\n",
       " (47, 3),\n",
       " (56, 3),\n",
       " (43, 2),\n",
       " (9, 1),\n",
       " (52, 1),\n",
       " (27, 1),\n",
       " (61, 1),\n",
       " (32, 1),\n",
       " (49, 1)]"
      ]
     },
     "execution_count": 4,
     "metadata": {},
     "output_type": "execute_result"
    }
   ],
   "source": [
    "from collections import Counter\n",
    "res = Counter(df['color_id'])\n",
    "res.most_common()"
   ]
  },
  {
   "cell_type": "code",
   "execution_count": 5,
   "metadata": {},
   "outputs": [],
   "source": [
    "# top_df = df.loc[(df['big_class'] == '상의') & (df['mid_class'] == '맨투맨/스웨트셔츠')]\n",
    "color_top = df.groupby('color_id')['img_url'].apply(list)"
   ]
  },
  {
   "cell_type": "code",
   "execution_count": 6,
   "metadata": {},
   "outputs": [
    {
     "data": {
      "text/plain": [
       "Int64Index([ 0,  1,  5,  6,  9, 16, 20, 21, 22, 26, 27, 32, 36, 37, 41, 42, 43,\n",
       "            47, 49, 52, 56, 57, 58, 61, 62, 63],\n",
       "           dtype='int64', name='color_id')"
      ]
     },
     "execution_count": 6,
     "metadata": {},
     "output_type": "execute_result"
    }
   ],
   "source": [
    "color_top.keys()"
   ]
  },
  {
   "cell_type": "code",
   "execution_count": null,
   "metadata": {},
   "outputs": [],
   "source": [
    "for url in color_top[42]:\n",
    "    img = get_img_from_url(url)\n",
    "    display(img)\n",
    "    print (url, flush=True)"
   ]
  }
 ],
 "metadata": {
  "interpreter": {
   "hash": "d4d1e4263499bec80672ea0156c357c1ee493ec2b1c70f0acce89fc37c4a6abe"
  },
  "kernelspec": {
   "display_name": "Python 3.8.5 ('base')",
   "language": "python",
   "name": "python3"
  },
  "language_info": {
   "codemirror_mode": {
    "name": "ipython",
    "version": 3
   },
   "file_extension": ".py",
   "mimetype": "text/x-python",
   "name": "python",
   "nbconvert_exporter": "python",
   "pygments_lexer": "ipython3",
   "version": "3.8.5"
  },
  "orig_nbformat": 4
 },
 "nbformat": 4,
 "nbformat_minor": 2
}
