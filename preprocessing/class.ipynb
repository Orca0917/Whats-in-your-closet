{
 "cells": [
  {
   "cell_type": "code",
   "execution_count": 48,
   "metadata": {},
   "outputs": [],
   "source": [
    "import numpy as np\n",
    "import pandas as pd\n",
    "import os"
   ]
  },
  {
   "cell_type": "markdown",
   "metadata": {},
   "source": [
    "## 1. 데이터 불러오기"
   ]
  },
  {
   "cell_type": "code",
   "execution_count": 26,
   "metadata": {},
   "outputs": [],
   "source": [
    "raw_item_data = pd.read_excel(\"/opt/ml/input/data/raw_codishop/view/item/item.xlsx\")\n",
    "df = raw_item_data[[\"id\", \"big_class\", \"mid_class\"]]\n",
    "unique_big_class = list(df[\"big_class\"].unique())\n",
    "unique_mid_class = list(df[\"mid_class\"].unique())"
   ]
  },
  {
   "cell_type": "markdown",
   "metadata": {},
   "source": [
    "## 2. 데이터 확인하기"
   ]
  },
  {
   "cell_type": "code",
   "execution_count": 27,
   "metadata": {},
   "outputs": [
    {
     "name": "stdout",
     "output_type": "stream",
     "text": [
      "대분류 결측치 개수 : 0\n",
      "중분류 결측치 개수 : 0\n"
     ]
    }
   ],
   "source": [
    "bc_nan_count = df[\"big_class\"].isnull().sum()\n",
    "mc_nan_count = df[\"mid_class\"].isnull().sum()\n",
    "print(f\"대분류 결측치 개수 : {bc_nan_count}\")\n",
    "print(f\"중분류 결측치 개수 : {mc_nan_count}\")"
   ]
  },
  {
   "cell_type": "code",
   "execution_count": 28,
   "metadata": {},
   "outputs": [
    {
     "name": "stdout",
     "output_type": "stream",
     "text": [
      "대분류 아우터 안에 있는 중분류는 : \n",
      "['트러커 재킷' '슈트/블레이저 재킷' '후드 집업' '숏패딩/숏헤비 아우터' '겨울 더블 코트' '겨울 싱글 코트'\n",
      " '블루종/MA-1' '사파리/헌팅 재킷' '레더/라이더스 재킷' '베스트' '카디건' '겨울 기타 코트' '플리스/뽀글이'\n",
      " '나일론/코치 재킷' '기타 아우터' '트레이닝 재킷' '환절기 코트' '무스탕/퍼' '스타디움 재킷' '롱패딩/롱헤비 아우터'\n",
      " '아노락 재킷' '패딩 베스트']\n",
      "\n",
      "대분류 상의 안에 있는 중분류는 : \n",
      "['맨투맨/스웨트셔츠' '셔츠/블라우스' '반소매 티셔츠' '후드 티셔츠' '긴소매 티셔츠' '피케/카라 티셔츠' '니트/스웨터'\n",
      " '민소매 티셔츠']\n",
      "\n",
      "대분류 바지 안에 있는 중분류는 : \n",
      "['데님 팬츠' '트레이닝/조거 팬츠' '숏 팬츠' '슈트 팬츠/슬랙스' '코튼 팬츠' '기타 바지']\n",
      "\n",
      "대분류 가방 안에 있는 중분류는 : \n",
      "['백팩' '토트백' '메신저/크로스 백' '웨이스트 백' '숄더백' '파우치 백' '브리프케이스' '클러치 백']\n",
      "\n",
      "대분류 스니커즈 안에 있는 중분류는 : \n",
      "['캔버스/단화' '패션스니커즈화' '기타 스니커즈' '농구화']\n",
      "\n",
      "대분류 액세서리 안에 있는 중분류는 : \n",
      "['넥타이' '벨트' '머플러' '기타 액세서리' '스카프/반다나' '장갑' '마스크']\n",
      "\n",
      "대분류 신발 안에 있는 중분류는 : \n",
      "['로퍼' '블로퍼' '부츠' '구두' '샌들' '슬리퍼' '모카신/보트 슈즈']\n",
      "\n",
      "대분류 모자 안에 있는 중분류는 : \n",
      "['캡/야구 모자' '헌팅캡/베레모' '비니' '버킷/사파리햇' '트루퍼']\n",
      "\n",
      "대분류 선글라스/안경테 안에 있는 중분류는 : \n",
      "['안경' '선글라스']\n",
      "\n",
      "대분류 양말/레그웨어 안에 있는 중분류는 : \n",
      "['양말']\n",
      "\n",
      "대분류 주얼리 안에 있는 중분류는 : \n",
      "['팔찌' '반지' '목걸이/펜던트' '발찌']\n",
      "\n",
      "대분류 스포츠/용품 안에 있는 중분류는 : \n",
      "['스포츠가방' '스포츠신발' '스포츠잡화']\n",
      "\n",
      "대분류 시계 안에 있는 중분류는 : \n",
      "['디지털' '쿼츠 아날로그' '오토매틱 아날로그']\n",
      "\n",
      "대분류 여성 가방 안에 있는 중분류는 : \n",
      "['백팩' '크로스백']\n",
      "\n",
      "대분류 디지털/테크 안에 있는 중분류는 : \n",
      "['카메라/카메라용품']\n",
      "\n",
      "대분류 속옷 안에 있는 중분류는 : \n",
      "['홈웨어']\n",
      "\n",
      "대분류 생활/취미/예술 안에 있는 중분류는 : \n",
      "['우산']\n",
      "\n"
     ]
    }
   ],
   "source": [
    "for big_class in unique_big_class :\n",
    "    print(f\"대분류 {big_class} 안에 있는 중분류는 : \")\n",
    "    print(df[df[\"big_class\"]==big_class][\"mid_class\"].unique())\n",
    "    print()"
   ]
  },
  {
   "cell_type": "markdown",
   "metadata": {},
   "source": [
    "## 3. 데이터 전처리"
   ]
  },
  {
   "cell_type": "markdown",
   "metadata": {},
   "source": [
    "수정사항\n",
    "형식 : (기존 대분류 -> 기존 중분류) >> (수정된 대분류 -> 수정된 중분류)\n",
    "\n",
    "1. (스포츠/용품 -> 스포츠신발) >> (신발 -> 스포츠신발)\n",
    "2. (스니커즈 -> 캔버스/단화, 패션스니커즈화, 기타 스니커즈, 농구화) >> (신발 -> 캔버스/단화, 패션스니커즈화, 기타 스니커즈, 농구화)\n",
    "3. [대분류 선글라스/안경테, 양말/레그웨어, 주얼리, 시계, 생활/취미/예술, 스포츠/용품]에 있는 중분류들은 액세서리로 넣는다.\n",
    "4. 스포츠가방, 백팩, 크로스백 -> 대분류 가방으로 설정\n"
   ]
  },
  {
   "cell_type": "code",
   "execution_count": 29,
   "metadata": {},
   "outputs": [],
   "source": [
    "for mid_class in ['캔버스/단화', '패션스니커즈화', '기타 스니커즈', '농구화'] :\n",
    "    df.loc[df[\"mid_class\"]==mid_class, \"big_class\"] = \"신발\"\n",
    "\n",
    "for mid_class in ['안경', '선글라스', '양말', '팔찌', '반지', '목걸이/펜던트', '발찌', '스포츠잡화', '디지털', '쿼츠 아날로그', '오토매틱 아날로그', '카메라/카메라용품', '우산'] :\n",
    "    df.loc[df[\"mid_class\"]==mid_class, \"big_class\"] = \"액세서리\"\n",
    "\n",
    "df.loc[df[\"mid_class\"]==\"스포츠신발\", \"big_class\"] = \"신발\"\n",
    "\n",
    "for mid_class in [\"스포츠가방\",'백팩', '크로스백'] :\n",
    "    df.loc[df[\"mid_class\"]==mid_class, \"big_class\"] = \"가방\""
   ]
  },
  {
   "cell_type": "markdown",
   "metadata": {},
   "source": [
    "## 4. 액세서리, 속옷 제거 후 엑셀 파일로 반환"
   ]
  },
  {
   "cell_type": "code",
   "execution_count": 47,
   "metadata": {},
   "outputs": [
    {
     "data": {
      "text/plain": [
       "array(['아우터', '상의', '바지', '가방', '신발', '모자'], dtype=object)"
      ]
     },
     "execution_count": 47,
     "metadata": {},
     "output_type": "execute_result"
    }
   ],
   "source": [
    "# 제거 전 대분류\n",
    "raw_item_data[\"big_class\"].unique()"
   ]
  },
  {
   "cell_type": "code",
   "execution_count": 35,
   "metadata": {},
   "outputs": [],
   "source": [
    "# 전처리한 대분류, 중분류 원 데이터에 반영\n",
    "raw_item_data[\"big_class\"] = df[\"big_class\"]\n",
    "raw_item_data[\"mid_class\"] = df[\"mid_class\"]\n",
    "\n",
    "# 액세서리, 속옷 대분류 제거 \n",
    "accessory_index = raw_item_data[raw_item_data[\"big_class\"]==\"액세서리\"].index\n",
    "underwear_index = raw_item_data[raw_item_data[\"big_class\"]==\"속옷\"].index\n",
    "raw_item_data.drop(accessory_index, inplace=True)\n",
    "raw_item_data.drop(underwear_index, inplace=True)\n",
    "\n",
    "# 출력 엑셀의 형식을 원래 데이터의 형식과 동일하게 맞춰주기 위한 부분\n",
    "raw_item_data[\"id\"] = raw_item_data[\"id\"].apply(str)"
   ]
  },
  {
   "cell_type": "code",
   "execution_count": 44,
   "metadata": {},
   "outputs": [],
   "source": [
    "# 제거 후 대분류 \n",
    "raw_item_data[\"big_class\"].unique()"
   ]
  },
  {
   "cell_type": "code",
   "execution_count": 49,
   "metadata": {},
   "outputs": [],
   "source": [
    "# 엑셀로 반환 \n",
    "\n",
    "raw_item_data.to_excel(\"/opt/ml/input/data/asset_codishop/view/item/item.xlsx\", index=False)"
   ]
  },
  {
   "cell_type": "code",
   "execution_count": null,
   "metadata": {},
   "outputs": [],
   "source": []
  }
 ],
 "metadata": {
  "interpreter": {
   "hash": "d4d1e4263499bec80672ea0156c357c1ee493ec2b1c70f0acce89fc37c4a6abe"
  },
  "kernelspec": {
   "display_name": "Python 3.8.5 ('base')",
   "language": "python",
   "name": "python3"
  },
  "language_info": {
   "codemirror_mode": {
    "name": "ipython",
    "version": 3
   },
   "file_extension": ".py",
   "mimetype": "text/x-python",
   "name": "python",
   "nbconvert_exporter": "python",
   "pygments_lexer": "ipython3",
   "version": "3.8.5"
  },
  "orig_nbformat": 4
 },
 "nbformat": 4,
 "nbformat_minor": 2
}
