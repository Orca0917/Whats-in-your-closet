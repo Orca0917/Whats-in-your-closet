{
 "cells": [
  {
   "cell_type": "code",
   "execution_count": 17,
   "metadata": {},
   "outputs": [
    {
     "name": "stdout",
     "output_type": "stream",
     "text": [
      "item_crawler.py:12: DeprecationWarning: executable_path has been deprecated, please pass in a Service object\n",
      "  driver = webdriver.Chrome('/opt/ml/workspace/crawler/item_crawler/chromedriver',chrome_options=chrome_options)\n",
      "item_crawler.py:12: DeprecationWarning: use options instead of chrome_options\n",
      "  driver = webdriver.Chrome('/opt/ml/workspace/crawler/item_crawler/chromedriver',chrome_options=chrome_options)\n",
      "Crawling for CODI ID : 26846\n",
      "\n",
      "Crawling item : https://www.musinsa.com/app/goods/2464503/0\n",
      "[3.5, 56, None, [24, 11, 14, 32, 4, 15], [61, 39], None, ['반팔', '오버핏', '반팔티셔츠', '그래픽', '오버핏반팔', '파스텔', '로고티셔츠'], '2464503', '퍼피 플라워 아트웍 반팔티 라벤더', '상의', '반소매 티셔츠', 'EPDEVELOP', '503446565', '2022 S/S', '남', '900회 이상', <selenium.webdriver.remote.webelement.WebElement (session=\"58708484605201e03bf2e810ff29058c\", element=\"a9324d73-d6cb-4c8d-b117-85ff477a7db5\")>, 'https://image.msscdn.net/images/goods_img/20220404/2464503/2464503_1_500.jpg?t=20220404151808']\n",
      "\n",
      "Crawling item : https://www.musinsa.com/app/goods/2393791/0\n",
      "[None, 44, None, None, None, ['봄', '여름', '가을', '겨울'], ['데님팬츠', '파스텔', '와이드팬츠', '22S/S컬렉션', '워싱진', '와이드데님', '청바지'], '2393791', '플라워 패턴 데님 팬츠 바이올렛', '바지', '데님 팬츠', 'DTMC', 'dtmc2204', '2022 S/S', '남', '', <selenium.webdriver.remote.webelement.WebElement (session=\"58708484605201e03bf2e810ff29058c\", element=\"3cc89686-e788-4053-80e0-1e2c5f9289a7\")>, 'https://image.msscdn.net/images/goods_img/20220303/2393791/2393791_1_500.jpg?t=20220303092543']\n",
      "\n",
      "Crawling item : https://www.musinsa.com/app/goods/2473829/0\n",
      "[5.0, 13, None, None, None, None, ['야구모자', '모자', '야구볼캡', '로고모자', '볼캡', '캡모자', '캡'], '2473829', '크레스트 브룩스게이트 모자 (79691596)', '모자', '캡/야구 모자', 'BROOKS BROTHERS', '1331963', '2022 ALL', '남', '', <selenium.webdriver.remote.webelement.WebElement (session=\"58708484605201e03bf2e810ff29058c\", element=\"27b5c10f-27ef-4bff-81d0-bfb14f99ac13\")>, 'https://image.msscdn.net/images/goods_img/20220407/2473829/2473829_1_500.jpg?t=20220407154048']\n",
      "\n",
      "Crawling item : https://www.musinsa.com/app/goods/2347663/0\n",
      "[5.0, 274, None, [16, 37, 30, 9, 4, 4], [82, 18], None, [], '2347663', 'Lyon Necklace', '주얼리', '목걸이/펜던트', 'MARTIN PLAN', 'FTQSAXA805M', '2022 ALL', '남', '1.8천 회 이상', <selenium.webdriver.remote.webelement.WebElement (session=\"58708484605201e03bf2e810ff29058c\", element=\"36f3a359-f22a-4ae8-8a65-c161e08153ef\")>, 'https://image.msscdn.net/images/goods_img/20220208/2347663/2347663_1_500.jpg?t=20220331154304']\n",
      "\n",
      "Crawling item : https://www.musinsa.com/app/goods/2477987/0\n",
      "[None, 351, None, [19, 54, 17, 5, 2, 3], [28, 72], None, ['데일리백', '캐주얼백팩'], '2477987', 'D.ok 02 Spiral Print BackPack', '가방', '백팩', 'DIFFERENTIS.OK', 'DKAC008BG', '2022 ALL', '남', '1.5천 회 이상', <selenium.webdriver.remote.webelement.WebElement (session=\"58708484605201e03bf2e810ff29058c\", element=\"b3b8cf96-890a-499f-8ce0-37f9f9f443a9\")>, 'https://image.msscdn.net/images/goods_img/20220409/2477987/2477987_1_500.jpg?t=20220409181153']\n",
      "\n",
      "Crawling item : https://www.musinsa.com/app/goods/2040291/0\n",
      "[4.8, None, None, [22, 24, 30, 14, 5, 5], [88, 12], None, ['러닝화', '런닝화', '젤카하나', '카하나', '카하나8', '쿠셔닝러닝화', '젤카하나8', '트레일러닝'], '2040291', '젤-카하나 8 - 그레이:블랙:카본 / T6L0N-1290', '스니커즈', '패션스니커즈화', 'ASICS', 'T6L0N-1290', '2021 F/W', '남', '4.5천 회 이상', <selenium.webdriver.remote.webelement.WebElement (session=\"58708484605201e03bf2e810ff29058c\", element=\"6bd62e37-3de8-4f25-b047-7eb5e51e7103\")>, 'https://image.msscdn.net/images/goods_img/20210726/2040291/2040291_1_500.jpg?t=20210806171859']\n",
      "\n",
      "Crawling for CODI ID : 26845\n",
      "\n",
      "Crawling item : https://www.musinsa.com/app/goods/2341464/0\n",
      "[4.9, 895, None, [11, 20, 28, 20, 11, 10], [84, 16], ['봄', '여름', '가을'], ['베이직티', '오버핏', '쿨탠다드', 'MU-T', '기본티셔츠', '라운드넥', '기능성', '아스킨'], '2341464', '[쿨탠다드] 오버사이즈 크루 넥 반팔 티셔츠 [화이트]', '상의', '반소매 티셔츠', 'MUSINSA STANDARD', 'MMBTS311-WH', '2022 S/S', '남', '1만 회 이상', <selenium.webdriver.remote.webelement.WebElement (session=\"58708484605201e03bf2e810ff29058c\", element=\"eed75af6-e00f-438c-b242-04c4f3ad7eda\")>, 'https://image.msscdn.net/images/goods_img/20220204/2341464/2341464_1_500.jpg?t=20220407162509']\n",
      "\n",
      "Crawling item : https://www.musinsa.com/app/goods/1936026/0\n",
      "[5.0, 203, None, [29, 27, 21, 9, 4, 10], [87, 13], None, ['디스트로이드', '청바지', '찢청', '무파진'], '1936026', '라이트 블루 무파 진', '바지', '데님 팬츠', 'HYPER DENIM', 'HD023', '2021 S/S', '남', '700회 이상', <selenium.webdriver.remote.webelement.WebElement (session=\"58708484605201e03bf2e810ff29058c\", element=\"b7c089f9-ed5d-49b8-99ac-dc0285787a3f\")>, 'https://image.msscdn.net/images/goods_img/20210504/1936026/1936026_1_500.jpg?t=20210504105759']\n",
      "\n",
      "Crawling item : https://www.musinsa.com/app/goods/2103724/0\n",
      "[4.4, 167, None, [20, 23, 27, 13, 2, 15], [57, 43], None, ['목걸이', '체인목걸이', '실버목걸이', '체인', '포인트목걸이', '힙합', '남자목걸이'], '2103724', '겔랑드 시그니쳐B 진주&체인 목걸이', '주얼리', '목걸이/펜던트', 'BLACK PURPLE', 'N0068', '2021 ALL', '남', '200회 이상', <selenium.webdriver.remote.webelement.WebElement (session=\"58708484605201e03bf2e810ff29058c\", element=\"b50677c9-9e62-457f-b8ce-3101d70ecbcf\")>, 'https://image.msscdn.net/images/goods_img/20210901/2103724/2103724_2_500.jpg?t=20211216145040']\n",
      "\n",
      "Crawling item : https://www.musinsa.com/app/goods/2470088/0\n",
      "[None, 27, None, None, None, None, ['메신저백', '데일리가방', '가방', '가방추천', '나일론백', '나일론가방'], '2470088', '나일론 마일드 크로스백 (그레이)', '가방', '메신저/크로스 백', 'LUOESPAC', 'LP0850', '2022 ALL', '남', '', <selenium.webdriver.remote.webelement.WebElement (session=\"58708484605201e03bf2e810ff29058c\", element=\"b474ca3e-5302-438b-9492-075a3fdc8216\")>, 'https://image.msscdn.net/images/goods_img/20220406/2470088/2470088_2_500.jpg?t=20220406153513']\n",
      "\n",
      "Crawling item : https://www.musinsa.com/app/goods/1545216/0\n",
      "[4.8, None, None, [22, 23, 30, 14, 6, 5], [81, 19], None, ['러닝화', '런닝화', '젤카하나', '카하나', '카하나8', '쿠셔닝러닝화', '젤카하나8', '트레일러닝'], '1545216', '젤-카하나 8 - 카키 / 1011B133-021', '스니커즈', '패션스니커즈화', 'ASICS', '1011B133-021', '2021 F/W', '남', '1.9만 회 이상', <selenium.webdriver.remote.webelement.WebElement (session=\"58708484605201e03bf2e810ff29058c\", element=\"43948145-0faf-4509-b778-aca5df6a425b\")>, 'https://image.msscdn.net/images/goods_img/20200811/1545216/1545216_1_500.jpg?t=20200821104519']\n",
      "\n",
      "Crawling item : https://www.musinsa.com/app/goods/2478439/0\n",
      "[5.0, 816, None, [22, 57, 13, 3, 1, 4], [5, 95], None, [], '2478439', '[NF] 어센틱 컬러링 볼 캡 (CREAM)_F22QE803', '모자', '캡/야구 모자', 'NASTY FANCY CLUB', 'F22QE803iv', '2022 ALL', '여', '2.7천 회 이상', <selenium.webdriver.remote.webelement.WebElement (session=\"58708484605201e03bf2e810ff29058c\", element=\"3456d871-e8a8-41c9-91b4-9400490f50b6\")>, 'https://image.msscdn.net/images/goods_img/20220411/2478439/2478439_1_500.jpg?t=20220415140340']\n",
      "\n"
     ]
    }
   ],
   "source": [
    "!python3 item_crawler.py"
   ]
  },
  {
   "cell_type": "code",
   "execution_count": null,
   "metadata": {},
   "outputs": [],
   "source": []
  }
 ],
 "metadata": {
  "interpreter": {
   "hash": "d4d1e4263499bec80672ea0156c357c1ee493ec2b1c70f0acce89fc37c4a6abe"
  },
  "kernelspec": {
   "display_name": "Python 3.8.5 ('base')",
   "language": "python",
   "name": "python3"
  },
  "language_info": {
   "codemirror_mode": {
    "name": "ipython",
    "version": 3
   },
   "file_extension": ".py",
   "mimetype": "text/x-python",
   "name": "python",
   "nbconvert_exporter": "python",
   "pygments_lexer": "ipython3",
   "version": "3.8.5"
  },
  "orig_nbformat": 4
 },
 "nbformat": 4,
 "nbformat_minor": 2
}
