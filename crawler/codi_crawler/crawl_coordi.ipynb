{
 "cells": [
  {
   "cell_type": "markdown",
   "metadata": {},
   "source": [
    "# 👕 코디 크롤링 노트북\n",
    "\n",
    "## 크롤링 목록\n",
    "- 스타일\n",
    "- 이미지 소스\n",
    "- 코디 고유 ID\n",
    "- 태그\n",
    "- 코디에 포함된 item들의 ID"
   ]
  },
  {
   "cell_type": "code",
   "execution_count": 1,
   "metadata": {},
   "outputs": [],
   "source": [
    "from selenium import webdriver\n",
    "from selenium.webdriver.common.by import By\n",
    "\n",
    "from easydict import EasyDict\n",
    "from tqdm import tqdm\n",
    "\n",
    "# pip install openpyxl\n",
    "import openpyxl\n",
    "import time"
   ]
  },
  {
   "cell_type": "code",
   "execution_count": 2,
   "metadata": {},
   "outputs": [],
   "source": [
    "# 코디들을 뽑아올 페이지 지정\n",
    "COORDI_LIST_PATH = 'https://www.musinsa.com/app/styles/lists'\n",
    "COORDI_BASE_PATH = \"https://www.musinsa.com/app/styles/views/\""
   ]
  },
  {
   "cell_type": "code",
   "execution_count": 3,
   "metadata": {},
   "outputs": [],
   "source": [
    "# 🚀 Chrome option 설정\n",
    "chrome_options = webdriver.ChromeOptions()\n",
    "chrome_options.add_argument(argument='--headless')\n",
    "chrome_options.add_argument(argument='--no-sandbox')\n",
    "chrome_options.add_argument(argument='--disable-dev-shm-usage')"
   ]
  },
  {
   "cell_type": "code",
   "execution_count": 4,
   "metadata": {},
   "outputs": [],
   "source": [
    "# 🚀 크롤링 완료된 정보를 저장할 excel sheet_codi 지정\n",
    "wb_codi = openpyxl.Workbook()\n",
    "sheet_codi = wb_codi.active\n",
    "sheet_codi.append([\"id\",  \"style\", \"img_url\", \"url\"])\n",
    "\n",
    "wb_codi_tag = openpyxl.Workbook()\n",
    "sheet_codi_tag = wb_codi_tag.active\n",
    "sheet_codi_tag.append([\"id\", \"tag\"])\n",
    "\n",
    "wb_codi_item_id = openpyxl.Workbook()\n",
    "sheet_codi_item_id = wb_codi_item_id.active\n",
    "sheet_codi_item_id.append([\"id\", \"item_id\"])"
   ]
  },
  {
   "cell_type": "code",
   "execution_count": 5,
   "metadata": {},
   "outputs": [
    {
     "name": "stdout",
     "output_type": "stream",
     "text": [
      "현재 페이지에 존재하는 코디의 수 확인 (3개 숫자 동일)\n",
      "60 60 60\n"
     ]
    }
   ],
   "source": [
    "# 🚀 최상위 메인 페이지 불러오기 (코디 목록 60개 보여지는 페이지)\n",
    "driver = webdriver.Chrome(executable_path='chromedriver', options=chrome_options)\n",
    "driver.get(COORDI_LIST_PATH)\n",
    "time.sleep(3)\n",
    "\n",
    "# 🚀 (코디 링크, 스타일 정보, 코디 이미지 url) 리스트 받아오기\n",
    "codi_link_result = driver.find_elements(by=By.CSS_SELECTOR, value=\".style-list-item__thumbnail > a\")\n",
    "driver.implicitly_wait(3)\n",
    "style_result = driver.find_elements(by=By.CSS_SELECTOR, value=\".style-list-information__text\")\n",
    "driver.implicitly_wait(3)\n",
    "image_url_result = driver.find_elements(by=By.CSS_SELECTOR, value=\".style-list-item__thumbnail > a > div.style-list-thumbnail > img\")\n",
    "driver.implicitly_wait(3)\n",
    "\n",
    "print (\"현재 페이지에 존재하는 코디의 수 확인 (3개 숫자 동일)\")\n",
    "print (len(codi_link_result), len(style_result), len(image_url_result))\n",
    "\n",
    "codi_id_list = list()\n",
    "codi_style_list = list()\n",
    "codi_url_list = list()\n",
    "\n",
    "# ⭐ 1. 코디 ID 정보 javascript function 인자로 부터 받아오기\n",
    "for link_element in codi_link_result:\n",
    "    js_function = link_element.get_attribute(\"onclick\")\n",
    "    codi_id = js_function.split(\"'\")[1]\n",
    "    codi_id_list.append(codi_id)\n",
    "    \n",
    "# ⭐ 2. style 정보 text로 추출하기\n",
    "for style_element in style_result:\n",
    "    codi_style_list.append(style_element.text)\n",
    "    \n",
    "# ⭐ 3. 코디의 이미지 url 받아오기\n",
    "for img_element in image_url_result:\n",
    "    codi_url_list.append(img_element.get_attribute('src'))"
   ]
  },
  {
   "cell_type": "code",
   "execution_count": 6,
   "metadata": {},
   "outputs": [
    {
     "name": "stderr",
     "output_type": "stream",
     "text": [
      "100%|██████████| 60/60 [01:33<00:00,  1.56s/it]\n"
     ]
    },
    {
     "ename": "FileNotFoundError",
     "evalue": "[Errno 2] No such file or directory: './asset/codi.csv'",
     "output_type": "error",
     "traceback": [
      "\u001b[0;31m---------------------------------------------------------------------------\u001b[0m",
      "\u001b[0;31mFileNotFoundError\u001b[0m                         Traceback (most recent call last)",
      "\u001b[1;32m/opt/ml/final-project-level3-recsys-07/crawler/codi_crawler/crawl_coordi.ipynb Cell 7'\u001b[0m in \u001b[0;36m<cell line: 31>\u001b[0;34m()\u001b[0m\n\u001b[1;32m     <a href='vscode-notebook-cell://ssh-remote%2B118.67.143.119/opt/ml/final-project-level3-recsys-07/crawler/codi_crawler/crawl_coordi.ipynb#ch0000006vscode-remote?line=27'>28</a>\u001b[0m     codi_info\u001b[39m.\u001b[39mappend(codi_path)\n\u001b[1;32m     <a href='vscode-notebook-cell://ssh-remote%2B118.67.143.119/opt/ml/final-project-level3-recsys-07/crawler/codi_crawler/crawl_coordi.ipynb#ch0000006vscode-remote?line=28'>29</a>\u001b[0m     sheet_codi\u001b[39m.\u001b[39mappend(codi_info)\n\u001b[0;32m---> <a href='vscode-notebook-cell://ssh-remote%2B118.67.143.119/opt/ml/final-project-level3-recsys-07/crawler/codi_crawler/crawl_coordi.ipynb#ch0000006vscode-remote?line=30'>31</a>\u001b[0m wb_codi\u001b[39m.\u001b[39;49msave(\u001b[39m\"\u001b[39;49m\u001b[39m./asset/codi.csv\u001b[39;49m\u001b[39m\"\u001b[39;49m)\n\u001b[1;32m     <a href='vscode-notebook-cell://ssh-remote%2B118.67.143.119/opt/ml/final-project-level3-recsys-07/crawler/codi_crawler/crawl_coordi.ipynb#ch0000006vscode-remote?line=31'>32</a>\u001b[0m wb_codi_tag\u001b[39m.\u001b[39msave(\u001b[39m\"\u001b[39m\u001b[39m./asset/codi_tag.csv\u001b[39m\u001b[39m\"\u001b[39m)\n\u001b[1;32m     <a href='vscode-notebook-cell://ssh-remote%2B118.67.143.119/opt/ml/final-project-level3-recsys-07/crawler/codi_crawler/crawl_coordi.ipynb#ch0000006vscode-remote?line=32'>33</a>\u001b[0m wb_codi_item_id\u001b[39m.\u001b[39msave(\u001b[39m\"\u001b[39m\u001b[39m./asset/codi_item_id.csv\u001b[39m\u001b[39m\"\u001b[39m)\n",
      "File \u001b[0;32m/opt/conda/lib/python3.8/site-packages/openpyxl/workbook/workbook.py:407\u001b[0m, in \u001b[0;36mWorkbook.save\u001b[0;34m(self, filename)\u001b[0m\n\u001b[1;32m    <a href='file:///opt/conda/lib/python3.8/site-packages/openpyxl/workbook/workbook.py?line=404'>405</a>\u001b[0m \u001b[39mif\u001b[39;00m \u001b[39mself\u001b[39m\u001b[39m.\u001b[39mwrite_only \u001b[39mand\u001b[39;00m \u001b[39mnot\u001b[39;00m \u001b[39mself\u001b[39m\u001b[39m.\u001b[39mworksheets:\n\u001b[1;32m    <a href='file:///opt/conda/lib/python3.8/site-packages/openpyxl/workbook/workbook.py?line=405'>406</a>\u001b[0m     \u001b[39mself\u001b[39m\u001b[39m.\u001b[39mcreate_sheet()\n\u001b[0;32m--> <a href='file:///opt/conda/lib/python3.8/site-packages/openpyxl/workbook/workbook.py?line=406'>407</a>\u001b[0m save_workbook(\u001b[39mself\u001b[39;49m, filename)\n",
      "File \u001b[0;32m/opt/conda/lib/python3.8/site-packages/openpyxl/writer/excel.py:291\u001b[0m, in \u001b[0;36msave_workbook\u001b[0;34m(workbook, filename)\u001b[0m\n\u001b[1;32m    <a href='file:///opt/conda/lib/python3.8/site-packages/openpyxl/writer/excel.py?line=278'>279</a>\u001b[0m \u001b[39mdef\u001b[39;00m \u001b[39msave_workbook\u001b[39m(workbook, filename):\n\u001b[1;32m    <a href='file:///opt/conda/lib/python3.8/site-packages/openpyxl/writer/excel.py?line=279'>280</a>\u001b[0m     \u001b[39m\"\"\"Save the given workbook on the filesystem under the name filename.\u001b[39;00m\n\u001b[1;32m    <a href='file:///opt/conda/lib/python3.8/site-packages/openpyxl/writer/excel.py?line=280'>281</a>\u001b[0m \n\u001b[1;32m    <a href='file:///opt/conda/lib/python3.8/site-packages/openpyxl/writer/excel.py?line=281'>282</a>\u001b[0m \u001b[39m    :param workbook: the workbook to save\u001b[39;00m\n\u001b[0;32m   (...)\u001b[0m\n\u001b[1;32m    <a href='file:///opt/conda/lib/python3.8/site-packages/openpyxl/writer/excel.py?line=288'>289</a>\u001b[0m \n\u001b[1;32m    <a href='file:///opt/conda/lib/python3.8/site-packages/openpyxl/writer/excel.py?line=289'>290</a>\u001b[0m \u001b[39m    \"\"\"\u001b[39;00m\n\u001b[0;32m--> <a href='file:///opt/conda/lib/python3.8/site-packages/openpyxl/writer/excel.py?line=290'>291</a>\u001b[0m     archive \u001b[39m=\u001b[39m ZipFile(filename, \u001b[39m'\u001b[39;49m\u001b[39mw\u001b[39;49m\u001b[39m'\u001b[39;49m, ZIP_DEFLATED, allowZip64\u001b[39m=\u001b[39;49m\u001b[39mTrue\u001b[39;49;00m)\n\u001b[1;32m    <a href='file:///opt/conda/lib/python3.8/site-packages/openpyxl/writer/excel.py?line=291'>292</a>\u001b[0m     writer \u001b[39m=\u001b[39m ExcelWriter(workbook, archive)\n\u001b[1;32m    <a href='file:///opt/conda/lib/python3.8/site-packages/openpyxl/writer/excel.py?line=292'>293</a>\u001b[0m     writer\u001b[39m.\u001b[39msave()\n",
      "File \u001b[0;32m/opt/conda/lib/python3.8/zipfile.py:1251\u001b[0m, in \u001b[0;36mZipFile.__init__\u001b[0;34m(self, file, mode, compression, allowZip64, compresslevel, strict_timestamps)\u001b[0m\n\u001b[1;32m   <a href='file:///opt/conda/lib/python3.8/zipfile.py?line=1248'>1249</a>\u001b[0m \u001b[39mwhile\u001b[39;00m \u001b[39mTrue\u001b[39;00m:\n\u001b[1;32m   <a href='file:///opt/conda/lib/python3.8/zipfile.py?line=1249'>1250</a>\u001b[0m     \u001b[39mtry\u001b[39;00m:\n\u001b[0;32m-> <a href='file:///opt/conda/lib/python3.8/zipfile.py?line=1250'>1251</a>\u001b[0m         \u001b[39mself\u001b[39m\u001b[39m.\u001b[39mfp \u001b[39m=\u001b[39m io\u001b[39m.\u001b[39;49mopen(file, filemode)\n\u001b[1;32m   <a href='file:///opt/conda/lib/python3.8/zipfile.py?line=1251'>1252</a>\u001b[0m     \u001b[39mexcept\u001b[39;00m \u001b[39mOSError\u001b[39;00m:\n\u001b[1;32m   <a href='file:///opt/conda/lib/python3.8/zipfile.py?line=1252'>1253</a>\u001b[0m         \u001b[39mif\u001b[39;00m filemode \u001b[39min\u001b[39;00m modeDict:\n",
      "\u001b[0;31mFileNotFoundError\u001b[0m: [Errno 2] No such file or directory: './asset/codi.csv'"
     ]
    }
   ],
   "source": [
    "# 🚀 코디 링크에 하나씩 접속하면서, 연관된 상품 ID, 코디태그 받아오기\n",
    "for codi_id, codi_style, codi_img_url in tqdm(zip(codi_id_list, codi_style_list, codi_url_list), total=len(codi_id_list)):\n",
    "        \n",
    "    # 🚀 하나의 코디에 대한 information 저장\n",
    "    codi_info = list()\n",
    "    \n",
    "    # ⭐ 4. 코디의 상세정보가 있는 url 받아오기\n",
    "    codi_path = COORDI_BASE_PATH + codi_id\n",
    "    \n",
    "    # 🚀 코디의 경로 받아오고 코디 상세정보 페이지 진입하기\n",
    "    driver.get(codi_path)\n",
    "    driver.implicitly_wait(3) #페이지를 로딩하는 시간동안 대기\n",
    "    \n",
    "    # ⭐ 5. 코디 태그 받아오기 (다른 sheet에 저장)\n",
    "    coordi_tags = driver.find_elements(by=By.CSS_SELECTOR, value=\".ui-tag-list__item\")\n",
    "    for tag_element in coordi_tags:\n",
    "        sheet_codi_tag.append([codi_id, tag_element.text])\n",
    "    \n",
    "    # ⭐ 6. 현재 코디에 포함된 아이템 id 받아오기 (다른 sheet에 저장)\n",
    "    item_elements = driver.find_elements(by=By.CSS_SELECTOR, value=\".styling_img\")\n",
    "    for item_element in item_elements:\n",
    "        item_id = item_element.get_attribute(\"href\").split(\"/\")[-2]\n",
    "        sheet_codi_item_id.append([codi_id, item_id])\n",
    "        \n",
    "    codi_info.append(codi_id)\n",
    "    codi_info.append(codi_style)\n",
    "    codi_info.append(codi_img_url)\n",
    "    codi_info.append(codi_path)\n",
    "    sheet_codi.append(codi_info)\n",
    "\n",
    "wb_codi.save(\"./asset/codi.csv\")\n",
    "wb_codi_tag.save(\"./asset/codi_tag.csv\")\n",
    "wb_codi_item_id.save(\"./asset/codi_item_id.csv\")\n",
    "\n",
    "driver.close()"
   ]
  }
 ],
 "metadata": {
  "interpreter": {
   "hash": "d4d1e4263499bec80672ea0156c357c1ee493ec2b1c70f0acce89fc37c4a6abe"
  },
  "kernelspec": {
   "display_name": "Python 3.8.5 ('base')",
   "language": "python",
   "name": "python3"
  },
  "language_info": {
   "codemirror_mode": {
    "name": "ipython",
    "version": 3
   },
   "file_extension": ".py",
   "mimetype": "text/x-python",
   "name": "python",
   "nbconvert_exporter": "python",
   "pygments_lexer": "ipython3",
   "version": "3.8.5"
  },
  "orig_nbformat": 4
 },
 "nbformat": 4,
 "nbformat_minor": 2
}
