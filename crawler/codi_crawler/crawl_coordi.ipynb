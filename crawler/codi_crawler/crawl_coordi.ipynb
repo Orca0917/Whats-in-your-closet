{
 "cells": [
  {
   "cell_type": "markdown",
   "metadata": {},
   "source": [
    "# 👕 코디 크롤링 노트북\n",
    "\n",
    "## 크롤링 목록\n",
    "- 코디 고유 ID\n",
    "- 스타일\n",
    "- 코디 URL\n",
    "- 이미지 URL\n",
    "- 태그\n",
    "- 코디에 포함된 item들의 ID\n",
    "\n",
    "## Excel View Extension 설치해서 확인 가능!"
   ]
  },
  {
   "cell_type": "code",
   "execution_count": 23,
   "metadata": {},
   "outputs": [],
   "source": [
    "from selenium import webdriver\n",
    "from selenium.webdriver.common.by import By\n",
    "\n",
    "from easydict import EasyDict\n",
    "from tqdm import tqdm\n",
    "from typing import Tuple\n",
    "\n",
    "# pip install openpyxl\n",
    "import openpyxl\n",
    "import time\n",
    "import os"
   ]
  },
  {
   "cell_type": "code",
   "execution_count": 24,
   "metadata": {},
   "outputs": [],
   "source": [
    "# 🚀 코디들을 뽑아올 페이지 지정\n",
    "COORDI_LIST_PATH = 'https://www.musinsa.com/app/styles/lists?page='\n",
    "COORDI_BASE_PATH = \"https://www.musinsa.com/app/styles/views/\"\n",
    "NUM_CRAWL_PAGE = 5"
   ]
  },
  {
   "cell_type": "code",
   "execution_count": 25,
   "metadata": {},
   "outputs": [],
   "source": [
    "# 🚀 Chrome option 설정\n",
    "chrome_options = webdriver.ChromeOptions()\n",
    "chrome_options.add_argument(argument='--headless')\n",
    "chrome_options.add_argument(argument='--no-sandbox')\n",
    "chrome_options.add_argument(argument='--disable-dev-shm-usage')"
   ]
  },
  {
   "cell_type": "code",
   "execution_count": 26,
   "metadata": {},
   "outputs": [],
   "source": [
    "# 🚀 크롤링 완료된 정보를 저장할 excel sheet_codi 지정\n",
    "wb_codi = openpyxl.Workbook()\n",
    "sheet_codi = wb_codi.active\n",
    "sheet_codi.append([\"id\",  \"style\", \"img_url\", \"url\"])\n",
    "\n",
    "wb_codi_tag = openpyxl.Workbook()\n",
    "sheet_codi_tag = wb_codi_tag.active\n",
    "sheet_codi_tag.append([\"id\", \"tag\"])\n",
    "\n",
    "wb_codi_item_id = openpyxl.Workbook()\n",
    "sheet_codi_item_id = wb_codi_item_id.active\n",
    "sheet_codi_item_id.append([\"id\", \"item_id\"])"
   ]
  },
  {
   "cell_type": "code",
   "execution_count": 27,
   "metadata": {},
   "outputs": [],
   "source": [
    "# 🚀 (코디 링크, 스타일 정보, 코디 이미지 url) 리스트 받아오기\n",
    "def get_codi_info(driver: webdriver.Chrome) -> Tuple[list, list, list]:\n",
    "    \n",
    "    codi_link_result = driver.find_elements(by=By.CSS_SELECTOR, value=\".style-list-item__thumbnail > a\")\n",
    "    style_result = driver.find_elements(by=By.CSS_SELECTOR, value=\".style-list-information__text\")\n",
    "    image_url_result = driver.find_elements(by=By.CSS_SELECTOR, value=\".style-list-item__thumbnail > a > div.style-list-thumbnail > img\")\n",
    "\n",
    "    print (f\"\"\"\n",
    "           # of codi_links : {len(codi_link_result)}\n",
    "           # of style : {len(style_result)}\n",
    "           # of img_urls : {len(image_url_result)}\n",
    "           \"\"\")\n",
    "\n",
    "    codi_id_list = list()\n",
    "    codi_style_list = list()\n",
    "    codi_url_list = list()\n",
    "\n",
    "    # ⭐ 1. 코디 ID 정보 javascript function 인자로 부터 받아오기\n",
    "    for link_element in codi_link_result:\n",
    "        js_function = link_element.get_attribute(\"onclick\")\n",
    "        codi_id = js_function.split(\"'\")[1]\n",
    "        codi_id_list.append(codi_id)\n",
    "        \n",
    "    # ⭐ 2. style 정보 text로 추출하기\n",
    "    for style_element in style_result:\n",
    "        codi_style_list.append(style_element.text)\n",
    "        \n",
    "    # ⭐ 3. 코디의 이미지 url 받아오기\n",
    "    for img_element in image_url_result:\n",
    "        codi_url_list.append(img_element.get_attribute('src'))\n",
    "        \n",
    "    return codi_id_list, codi_style_list, codi_url_list"
   ]
  },
  {
   "cell_type": "code",
   "execution_count": 28,
   "metadata": {},
   "outputs": [],
   "source": [
    "# 🚀 코디 링크에 하나씩 접속하면서, 연관된 상품 ID, 코디태그 받아오기\n",
    "def make_crawl_xlsx(driver: webdriver.Chrome) -> None:\n",
    "    \n",
    "    # (코디 링크, 스타일 정보, 코디 이미지 url) 리스트 받아오기\n",
    "    codi_id_list, codi_style_list, codi_url_list = get_codi_info(driver)\n",
    "    \n",
    "    for codi_id, codi_style, codi_img_url in tqdm(zip(codi_id_list, codi_style_list, codi_url_list), total=len(codi_id_list), desc=\"Codi crawling progress\"):\n",
    "            \n",
    "        # 하나의 코디에 대한 information 저장\n",
    "        codi_info = list()\n",
    "        \n",
    "        # ⭐ 4. 코디의 상세정보가 있는 url 받아오기\n",
    "        codi_path = COORDI_BASE_PATH + codi_id\n",
    "        \n",
    "        # 코디의 경로 받아오고 코디 상세정보 페이지 진입하기\n",
    "        driver.get(codi_path)\n",
    "        driver.implicitly_wait(3)\n",
    "        \n",
    "        # ⭐ 5. 코디 태그 받아오기 (다른 sheet에 저장)\n",
    "        coordi_tags = driver.find_elements(by=By.CSS_SELECTOR, value=\".ui-tag-list__item\")\n",
    "        for tag_element in coordi_tags:\n",
    "            sheet_codi_tag.append([codi_id, tag_element.text])\n",
    "        \n",
    "        # ⭐ 6. 현재 코디에 포함된 아이템 id 받아오기 (다른 sheet에 저장)\n",
    "        item_elements = driver.find_elements(by=By.CSS_SELECTOR, value=\".styling_img\")\n",
    "        for item_element in item_elements:\n",
    "            item_id = item_element.get_attribute(\"href\").split(\"/\")[-2]\n",
    "            sheet_codi_item_id.append([codi_id, item_id])\n",
    "            \n",
    "        codi_info.append(codi_id)\n",
    "        codi_info.append(codi_style)\n",
    "        codi_info.append(codi_img_url)\n",
    "        codi_info.append(codi_path)\n",
    "        sheet_codi.append(codi_info)"
   ]
  },
  {
   "cell_type": "code",
   "execution_count": 29,
   "metadata": {},
   "outputs": [],
   "source": [
    "# 🚀 크롤링 완료된 파일 저장\n",
    "def save_as_xlsx() -> None:\n",
    "    os.makedirs('./asset', exist_ok=True)\n",
    "    wb_codi.save(\"./asset/codi.xlsx\")\n",
    "    wb_codi_tag.save(\"./asset/codi_tag.xslx\")\n",
    "    wb_codi_item_id.save(\"./asset/codi_item_id.xlsx\")"
   ]
  },
  {
   "cell_type": "code",
   "execution_count": 30,
   "metadata": {},
   "outputs": [],
   "source": [
    "# 🚀 최상위 메인 페이지 불러오기 (코디 목록 60개 보여지는 페이지)\n",
    "def do_crawling(num_crawl_pages: int = 5) -> None:\n",
    "    driver = webdriver.Chrome(executable_path='chromedriver', options=chrome_options)\n",
    "    \n",
    "    for page_idx in range(1, num_crawl_pages + 1):\n",
    "        print (f\"Crawling {page_idx} pages..\")\n",
    "        driver.get(COORDI_LIST_PATH + str(page_idx))\n",
    "        time.sleep(3)\n",
    "        make_crawl_xlsx(driver)\n",
    "    \n",
    "    driver.close()\n",
    "    \n",
    "    save_as_xlsx()\n",
    "    \n",
    "    print (\"Crawling done. All files saved (./asset)\")"
   ]
  },
  {
   "cell_type": "code",
   "execution_count": null,
   "metadata": {},
   "outputs": [],
   "source": [
    "# 🚀 지정한 페이지 수 만큼 크롤링 진행하기\n",
    "do_crawling(NUM_CRAWL_PAGE)"
   ]
  }
 ],
 "metadata": {
  "interpreter": {
   "hash": "d4d1e4263499bec80672ea0156c357c1ee493ec2b1c70f0acce89fc37c4a6abe"
  },
  "kernelspec": {
   "display_name": "Python 3.8.5 ('base')",
   "language": "python",
   "name": "python3"
  },
  "language_info": {
   "codemirror_mode": {
    "name": "ipython",
    "version": 3
   },
   "file_extension": ".py",
   "mimetype": "text/x-python",
   "name": "python",
   "nbconvert_exporter": "python",
   "pygments_lexer": "ipython3",
   "version": "3.8.5"
  },
  "orig_nbformat": 4
 },
 "nbformat": 4,
 "nbformat_minor": 2
}
