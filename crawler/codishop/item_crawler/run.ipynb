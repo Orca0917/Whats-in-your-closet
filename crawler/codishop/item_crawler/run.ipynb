{
 "cells": [
  {
   "cell_type": "code",
   "execution_count": 26,
   "metadata": {},
   "outputs": [
    {
     "name": "stdout",
     "output_type": "stream",
     "text": [
      "Error: mkl-service + Intel(R) MKL: MKL_THREADING_LAYER=INTEL is incompatible with libgomp.so.1 library.\n",
      "\tTry to import numpy first or set the threading layer accordingly. Set MKL_SERVICE_FORCE_INTEL to force it.\n"
     ]
    }
   ],
   "source": [
    "!python3 item_crawler.py"
   ]
  },
  {
   "cell_type": "code",
   "execution_count": 1,
   "metadata": {},
   "outputs": [],
   "source": [
    "from selenium import webdriver\n",
    "from selenium.webdriver.common.by import By"
   ]
  },
  {
   "cell_type": "code",
   "execution_count": 2,
   "metadata": {},
   "outputs": [
    {
     "name": "stderr",
     "output_type": "stream",
     "text": [
      "/tmp/ipykernel_12041/3627151898.py:7: DeprecationWarning: executable_path has been deprecated, please pass in a Service object\n",
      "  driver = webdriver.Chrome('/opt/ml/workspace/crawler/chromedriver',chrome_options=chrome_options)\n",
      "/tmp/ipykernel_12041/3627151898.py:7: DeprecationWarning: use options instead of chrome_options\n",
      "  driver = webdriver.Chrome('/opt/ml/workspace/crawler/chromedriver',chrome_options=chrome_options)\n"
     ]
    }
   ],
   "source": [
    "chrome_options = webdriver.ChromeOptions()\n",
    "chrome_options.add_argument(argument='--headless') \n",
    "chrome_options.add_argument(argument='--no-sandbox')\n",
    "chrome_options.add_argument(argument='--disable-dev-shm-usage')\n",
    "\n",
    "URL_PATH = \"https://www.musinsa.com/app/styles/lists\"\n",
    "driver = webdriver.Chrome('/opt/ml/workspace/crawler/chromedriver',chrome_options=chrome_options)\n",
    "driver.get(\"https://www.musinsa.com/app/styles/views/26270\")\n",
    "driver.implicitly_wait(2) #페이지를 로딩하는 시간동안 대기"
   ]
  },
  {
   "cell_type": "code",
   "execution_count": 3,
   "metadata": {},
   "outputs": [],
   "source": [
    "driver.close()"
   ]
  },
  {
   "cell_type": "code",
   "execution_count": null,
   "metadata": {},
   "outputs": [],
   "source": []
  }
 ],
 "metadata": {
  "interpreter": {
   "hash": "d4d1e4263499bec80672ea0156c357c1ee493ec2b1c70f0acce89fc37c4a6abe"
  },
  "kernelspec": {
   "display_name": "Python 3.8.5 ('base')",
   "language": "python",
   "name": "python3"
  },
  "language_info": {
   "codemirror_mode": {
    "name": "ipython",
    "version": 3
   },
   "file_extension": ".py",
   "mimetype": "text/x-python",
   "name": "python",
   "nbconvert_exporter": "python",
   "pygments_lexer": "ipython3",
   "version": "3.8.5"
  },
  "orig_nbformat": 4
 },
 "nbformat": 4,
 "nbformat_minor": 2
}
