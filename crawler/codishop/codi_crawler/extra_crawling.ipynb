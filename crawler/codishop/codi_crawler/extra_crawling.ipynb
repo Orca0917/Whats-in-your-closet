{
 "cells": [
  {
   "cell_type": "markdown",
   "metadata": {},
   "source": [
    "추가적인 코디정보를 크롤링하기 위해서 만들어진 주피터 노트북입니다."
   ]
  },
  {
   "cell_type": "code",
   "execution_count": null,
   "metadata": {},
   "outputs": [],
   "source": [
    "import os\n",
    "import pickle\n",
    "\n",
    "import pandas as pd\n",
    "\n",
    "from selenium import webdriver\n",
    "from selenium.webdriver.common.by import By\n",
    "\n",
    "from tqdm import tqdm\n",
    "from typing import Tuple\n",
    "\n",
    "# pip install openpyxl\n",
    "from openpyxl import Workbook\n",
    "from openpyxl.worksheet.worksheet import Worksheet"
   ]
  },
  {
   "cell_type": "code",
   "execution_count": null,
   "metadata": {},
   "outputs": [],
   "source": [
    "prev_codi_df = pd.read_excel('/opt/ml/input/data/raw_codishop/view/codi/codi.xlsx', engine='openpyxl')\n",
    "prev_tag_df = pd.read_excel('/opt/ml/input/data/raw_codishop/view/codi/codi_tag.xlsx', engine='openpyxl')"
   ]
  },
  {
   "cell_type": "code",
   "execution_count": null,
   "metadata": {},
   "outputs": [],
   "source": [
    "new_codi_url = pd.read_excel('/opt/ml/input/data/raw_codishop/view/item/item_rel_codi_url.xlsx', engine='openpyxl')"
   ]
  },
  {
   "cell_type": "code",
   "execution_count": null,
   "metadata": {},
   "outputs": [],
   "source": [
    "chrome_options = webdriver.ChromeOptions()\n",
    "chrome_options.add_argument(argument='--headless')\n",
    "chrome_options.add_argument(argument='--no-sandbox')\n",
    "chrome_options.add_argument(argument='--disable-dev-shm-usage')\n",
    "\n",
    "driver = webdriver.Chrome(executable_path='chromedriver', options=chrome_options)\n",
    "driver.implicitly_wait(1.5)"
   ]
  },
  {
   "cell_type": "code",
   "execution_count": null,
   "metadata": {},
   "outputs": [],
   "source": [
    "new_codi_url"
   ]
  },
  {
   "cell_type": "code",
   "execution_count": null,
   "metadata": {},
   "outputs": [],
   "source": [
    "for codi_url in tqdm(new_codi_url['rel_codi_url']):\n",
    "    codi_id = codi_url.split(\"/\")[-1]\n",
    "    driver.get(codi_url)\n",
    "\n",
    "    codi_style = driver.find_element(by=By.CSS_SELECTOR, value=\".style-title-box > .title\").text\n",
    "    \n",
    "    is_codimap = driver.find_element(by=By.CSS_SELECTOR, value='.title_box > .title-page').text\n",
    "    if is_codimap == \"Codimap\":\n",
    "        codi_img_url = driver.find_elements(by=By.CSS_SELECTOR, value=\".codimap-cont > .photo\")\n",
    "        codi_img_url = codi_img_url[-1].get_attribute('src')\n",
    "    else:\n",
    "        codi_img_url = driver.find_elements(by=By.CSS_SELECTOR, value=\".detail_img\")\n",
    "        codi_img_url = codi_img_url[-1].get_attribute('src')\n",
    "    # print (codi_img_url)\n",
    "    \n",
    "    codi_popularity = driver.find_element(by=By.CSS_SELECTOR, value=\".styling_date > #view_num\").text\n",
    "    codi_popularity = codi_popularity.split(\" \")[-1]\n",
    "\n",
    "    codi_tags = driver.find_elements(by=By.CSS_SELECTOR, value=\".styling_tag > .ui-tag-list > a\")\n",
    "    codi_tag_list = list()\n",
    "    for codi_tag_anchor in codi_tags:\n",
    "        codi_tag_list.append(codi_tag_anchor.text)\n",
    "\n",
    "    for tag in codi_tag_list:\n",
    "        codi_tag_len = len(prev_tag_df)\n",
    "        prev_tag_df.loc[codi_tag_len] = [codi_id, tag]\n",
    "\n",
    "\n",
    "    # print (\"codi_id\", codi_id)\n",
    "    # print (\"codi style\", codi_style)\n",
    "    # print (\"codi img url\", codi_img_url)\n",
    "    # print (\"codi popularity\", codi_popularity)\n",
    "    # print (\"codi tags\", codi_tag_list)\n",
    "\n",
    "    codi_df_len = len(prev_codi_df)\n",
    "    prev_codi_df.loc[codi_df_len] = [codi_id, codi_style, codi_img_url, codi_url, codi_popularity]\n",
    "\n",
    "    # break"
   ]
  },
  {
   "cell_type": "code",
   "execution_count": null,
   "metadata": {},
   "outputs": [],
   "source": [
    "prev_codi_df['popularity'] = prev_codi_df['popularity'].apply(lambda x : int(str(x).replace(\",\", \"\")))"
   ]
  },
  {
   "cell_type": "code",
   "execution_count": null,
   "metadata": {},
   "outputs": [],
   "source": [
    "prev_codi_df.astype({\n",
    "    'id': 'int',\n",
    "    'popularity': 'int'\n",
    "})\n",
    "\n",
    "prev_tag_df.astype({\n",
    "    'id': 'int',\n",
    "})"
   ]
  },
  {
   "cell_type": "code",
   "execution_count": null,
   "metadata": {},
   "outputs": [],
   "source": [
    "prev_codi_df = prev_codi_df.drop_duplicates(keep='last')\n",
    "prev_tag_df = prev_tag_df.drop_duplicates(keep='last')"
   ]
  },
  {
   "cell_type": "code",
   "execution_count": null,
   "metadata": {},
   "outputs": [],
   "source": [
    "prev_codi_df.to_excel(\"/opt/ml/input/data/raw_codishop/view/codi/codi.xlsx\", index=False)\n",
    "prev_tag_df.to_excel(\"/opt/ml/input/data/raw_codishop/view/codi/codi_tag.xlsx\", index=False)"
   ]
  },
  {
   "cell_type": "code",
   "execution_count": null,
   "metadata": {},
   "outputs": [],
   "source": [
    "driver.close()"
   ]
  }
 ],
 "metadata": {
  "interpreter": {
   "hash": "d4d1e4263499bec80672ea0156c357c1ee493ec2b1c70f0acce89fc37c4a6abe"
  },
  "kernelspec": {
   "display_name": "Python 3.8.5 ('base')",
   "language": "python",
   "name": "python3"
  },
  "language_info": {
   "codemirror_mode": {
    "name": "ipython",
    "version": 3
   },
   "file_extension": ".py",
   "mimetype": "text/x-python",
   "name": "python",
   "nbconvert_exporter": "python",
   "pygments_lexer": "ipython3",
   "version": "3.8.5"
  },
  "orig_nbformat": 4
 },
 "nbformat": 4,
 "nbformat_minor": 2
}
