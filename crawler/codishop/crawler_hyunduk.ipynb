{
 "cells": [
  {
   "cell_type": "code",
   "execution_count": null,
   "metadata": {},
   "outputs": [],
   "source": [
    "!pip install selenium"
   ]
  },
  {
   "cell_type": "code",
   "execution_count": 4,
   "metadata": {},
   "outputs": [
    {
     "name": "stdout",
     "output_type": "stream",
     "text": [
      "Collecting easydict\n",
      "  Downloading easydict-1.9.tar.gz (6.4 kB)\n",
      "Building wheels for collected packages: easydict\n",
      "  Building wheel for easydict (setup.py) ... \u001b[?25ldone\n",
      "\u001b[?25h  Created wheel for easydict: filename=easydict-1.9-py3-none-any.whl size=6350 sha256=a464aaf8ce11556de00ea9a9803455f2e334d91fe705cb1ebea7a1c741e30eb3\n",
      "  Stored in directory: /Users/hyundukseo/Library/Caches/pip/wheels/b2/1c/36/fd8efc3fa029b1445d869f359ec13e8fbce7fc9e81505bca66\n",
      "Successfully built easydict\n",
      "Installing collected packages: easydict\n",
      "Successfully installed easydict-1.9\n"
     ]
    }
   ],
   "source": [
    "!pip install easydict"
   ]
  },
  {
   "cell_type": "code",
   "execution_count": 5,
   "metadata": {},
   "outputs": [],
   "source": [
    "from selenium import webdriver\n",
    "from selenium.webdriver.common.by import By\n",
    "from easydict import EasyDict"
   ]
  },
  {
   "cell_type": "code",
   "execution_count": 6,
   "metadata": {},
   "outputs": [],
   "source": [
    "# example url\n",
    "# 5개의 item url로 테스트 진행\n",
    "URL_PATH = 'https://www.musinsa.com/app/goods/1778404?loc=goods_rank'\n",
    "# URL_PATH = 'https://www.musinsa.com/app/goods/1495284'\n",
    "# URL_PATH = 'https://www.musinsa.com/app/goods/2018065?loc=goods_rank'\n",
    "# URL_PATH = 'https://www.musinsa.com/app/goods/885041'\n",
    "# URL_PATH = 'https://www.musinsa.com/app/goods/2090907/0'"
   ]
  },
  {
   "cell_type": "code",
   "execution_count": 12,
   "metadata": {},
   "outputs": [],
   "source": [
    "options = webdriver.ChromeOptions()\n",
    "#chrome_options = webdriver.ChromeOptions()\n",
    "#chrome_options.add_argument(argument='--headless')\n",
    "#chrome_options.add_argument(argument='--no-sandbox')\n",
    "#chrome_options.add_argument(argument='--disable-dev-shm-usage')\n",
    "# 브라우저를 띄우지 않고 백그라운드에서 크롤링하기 위한 옵션\n",
    "# options.add_argument('headless') \n",
    "# options.add_argument('window-size=1920x1080')\n",
    "# options.add_argument(\"disable-gpu\")"
   ]
  },
  {
   "cell_type": "code",
   "execution_count": 54,
   "metadata": {},
   "outputs": [],
   "source": [
    "features = EasyDict()"
   ]
  },
  {
   "cell_type": "markdown",
   "metadata": {},
   "source": [
    "|locater option | locator |\n",
    "|---|---|\n",
    "|id|By.ID|\n",
    "|class name|By.CLASS_NAME |\n",
    "|css selector| By.CSS_SELECTOR |\n",
    "|name| By.NAME |\n",
    "|link text|By.LINK_TEXT |\n",
    "|partial link text| By.PARTIAL_LINK_TEXT |\n",
    "|tag name| By.TAG_NAME |\n",
    "\n",
    "\n",
    "  \n",
    "html 상에서 원하는 element를 찾는 함수\n",
    "```\n",
    "find_element(locator, dom element location)\n",
    "```\n",
    "참고 : https://www.selenium.dev/documentation/webdriver/elements/finders/"
   ]
  },
  {
   "cell_type": "code",
   "execution_count": 90,
   "metadata": {},
   "outputs": [],
   "source": [
    "def get_rating(driver) :\n",
    "    try :\n",
    "        rating = float(driver.find_element(By.CSS_SELECTOR, value=\"div.estimate-point > p span\").text)\n",
    "    except :\n",
    "        rating = None\n",
    "    return rating\n",
    "\n",
    "def get_likes(driver) :\n",
    "    try :\n",
    "        likes = int(driver.find_element(By.CSS_SELECTOR, value=\"li.product_section_like span\").text)\n",
    "    except :\n",
    "        likes = None\n",
    "    return likes\n",
    "    \n",
    "def get_cum_sale(driver):\n",
    "    try:\n",
    "        cum_sale = int(driver.find_element(By.CSS_SELECTOR, value=\"li#li_sales_1y strong\").text)\n",
    "    except :\n",
    "        cum_sale = None\n",
    "    return cum_sale\n",
    "\n",
    "def get_buy_age_list(driver):\n",
    "    buy_age_raw = driver.find_elements(By.CSS_SELECTOR, value=\"ul.bar_wrap > li span.bar_num\")\n",
    "    buy_age_list = list()\n",
    "    for buy_age in buy_age_raw :\n",
    "        buy_age_list.append(int(buy_age.text[:-1]))\n",
    "    if len(buy_age_list) == 0:\n",
    "        buy_age_list = None\n",
    "\n",
    "    return buy_age_list\n",
    "\n",
    "def get_buy_gender_list(driver): \n",
    "    buy_gender_raw = driver.find_elements(By.CSS_SELECTOR, value=\"dl.label_info > dd\")\n",
    "    buy_gender_list = list()\n",
    "    for buy_gender in buy_gender_raw :\n",
    "        buy_gender_list.append(int(buy_gender.text[:-1]))\n",
    "    if len(buy_gender_list) == 0:\n",
    "        buy_gender_list = None\n",
    "    return buy_gender_list\n",
    "\n",
    "def get_fs_and_fit(driver) :\n",
    "    guide_all = driver.find_elements(By.CSS_SELECTOR, value=\"table.table-simple tr\")\n",
    "    four_season_list = list()\n",
    "    fit_list = list()\n",
    "    for guide in guide_all :\n",
    "        t = guide.find_element(By.CSS_SELECTOR, value=\"th\").text\n",
    "        if t == \"계절\" :\n",
    "            seasons = guide.find_elements(By.CSS_SELECTOR, value=\"td.active\")\n",
    "            for season in seasons :\n",
    "                four_season_list.append(season.text)\n",
    "        elif t == \"핏\" :\n",
    "            fits = guide.find_elements(By.CSS_SELECTOR, value=\"td.active\")\n",
    "            for fit in fits :\n",
    "                fit_list.append(fit.text)\n",
    "    if len(four_season_list)==0 :\n",
    "        four_season_list = None\n",
    "    \n",
    "    if len(fit_list)==0 :\n",
    "        fit_list = None\n",
    "    return four_season_list, fit_list\n",
    "\n",
    "def get_tags_list(driver) :\n",
    "    tags_list = list()\n",
    "    tags_raw = driver.find_elements(By.CSS_SELECTOR, value=\"li.article-tag-list a.listItem\")\n",
    "    for tag in tags_raw :\n",
    "        tags_list.append(tag.text[1:])\n",
    "    return tags_list\n",
    "\n",
    "def get_four_season(driver) :\n",
    "    guide_all = driver.find_elements(By.CSS_SELECTOR, value=\"table.table-simple tr\")\n",
    "    four_season = list()\n",
    "    for guide in guide_all :\n",
    "        t = guide.find_element(By.CSS_SELECTOR, value=\"th\").text\n",
    "        if t == \"계절\" :\n",
    "            seasons = guide.find_elements(By.CSS_SELECTOR, value=\"td.active\")\n",
    "            for season in seasons :\n",
    "                four_season.append(season.text)\n",
    "    return four_season\n",
    "\n"
   ]
  },
  {
   "cell_type": "code",
   "execution_count": 91,
   "metadata": {},
   "outputs": [
    {
     "name": "stderr",
     "output_type": "stream",
     "text": [
      "/var/folders/my/pb2rr1md6xx7h3qhs4xx52j00000gn/T/ipykernel_63512/2284327775.py:2: DeprecationWarning: executable_path has been deprecated, please pass in a Service object\n",
      "  driver = webdriver.Chrome('./chromedriver',options= options)\n"
     ]
    }
   ],
   "source": [
    "CODI_URL = \"https://www.musinsa.com/app/styles/lists\"\n",
    "driver = webdriver.Chrome('./chromedriver',options= options)\n",
    "driver.get(CODI_URL)\n",
    "driver.implicitly_wait(2) #페이지를 로딩하는 시간동안 대기\n",
    "\n",
    "button = driver.find_element(By.CSS_SELECTOR, \"button.global-filter__button--mensinsa\")\n",
    "button.click()\n",
    "\n",
    "container =  driver.find_elements(By.CSS_SELECTOR, \"ul.style-list > li\")\n",
    "BASE_CODI_URL = \"https://www.musinsa.com/app/styles/views/\"\n",
    "#BASE_ITEM_URL = \"https://www.musinsa.com/app/goods/\"\n",
    "for page in container : \n",
    "    codi_id = page.find_element(By.CSS_SELECTOR, value = \"div.style-list-item__thumbnail > a\").get_attribute('onclick')\n",
    "    codi_id = codi_id.split(\"'\")[1]\n",
    "    codi_url = BASE_CODI_URL + str(codi_id)\n",
    "    driver.get(codi_url)\n",
    "    driver.implicitly_wait(0.5)\n",
    "    item_urls = driver.find_elements(By.CSS_SELECTOR, \"div.box-img > a.styling_img\")\n",
    "    item_urls_list = list()\n",
    "    for url in item_urls :\n",
    "        item_url = str(url.get_attribute(\"href\"))\n",
    "        item_urls_list.append(item_url)\n",
    "\n",
    "    for url in item_urls_list :\n",
    "        #item_url = url.get_attribute(\"href\")\n",
    "        driver.get(url)\n",
    "\n",
    "        rating = get_rating(driver)\n",
    "        likes = get_likes(driver)\n",
    "        cum_sale = get_cum_sale(driver)\n",
    "        buy_age_list = get_buy_age_list(driver)\n",
    "        buy_gender_list = get_buy_gender_list(driver)\n",
    "        four_season_list, fit_list = get_fs_and_fit(driver)\n",
    "        tags_list = get_tags_list(driver)\n",
    "\n",
    "        driver.get(codi_url)\n",
    "\n",
    "        break\n",
    "    break\n",
    "\n",
    "\n",
    "\n",
    "driver.close()"
   ]
  },
  {
   "cell_type": "code",
   "execution_count": 82,
   "metadata": {},
   "outputs": [
    {
     "data": {
      "text/plain": [
       "{'rating': 3.5,\n",
       " 'likes': 54,\n",
       " 'cum_sales': None,\n",
       " 'buy_age_list': [23, 11, 14, 33, 4, 15],\n",
       " 'buy_gender_list': [62, 38],\n",
       " 'four_season': None,\n",
       " 'tag': ['반팔', '오버핏', '반팔티셔츠', '그래픽', '오버핏반팔', '파스텔', '로고티셔츠'],\n",
       " 'fit': None}"
      ]
     },
     "execution_count": 82,
     "metadata": {},
     "output_type": "execute_result"
    }
   ],
   "source": [
    "features"
   ]
  },
  {
   "cell_type": "code",
   "execution_count": null,
   "metadata": {},
   "outputs": [],
   "source": [
    "CODI_URL = \"https://www.musinsa.com/app/styles/lists\"\n",
    "driver = webdriver.Chrome('./chromedriver',options= options)\n",
    "driver.get(CODI_URL)\n",
    "driver.implicitly_wait(2) #페이지를 로딩하는 시간동안 대기\n",
    "\n",
    "button = driver.find_element(By.CSS_SELECTOR, \"button.global-filter__button--mensinsa\")\n",
    "button.click()\n",
    "\n",
    "container =  driver.find_elements(By.CSS_SELECTOR, \"ul.style-list > li\")\n",
    "BASE_CODI_URL = \"https://www.musinsa.com/app/styles/views/\"\n",
    "#BASE_ITEM_URL = \"https://www.musinsa.com/app/goods/\"\n",
    "codi_urls = list()\n",
    "for page in container : \n",
    "    codi_id = page.find_element(By.CSS_SELECTOR, value = \"div.style-list-item__thumbnail > a\").get_attribute('onclick')\n",
    "    codi_id = codi_id.split(\"'\")[1]\n",
    "    codi_url = BASE_CODI_URL + str(codi_id)\n",
    "    codi_urls.append(codi_url)\n",
    "\n",
    "for codi_url in codi_urls :\n",
    "    driver.get(codi_url)\n",
    "    driver.implicitly_wait(0.5)\n",
    "\n",
    "    driver.get(CODI_URL)"
   ]
  },
  {
   "cell_type": "code",
   "execution_count": null,
   "metadata": {},
   "outputs": [],
   "source": [
    "codi_urls"
   ]
  },
  {
   "cell_type": "code",
   "execution_count": 85,
   "metadata": {},
   "outputs": [
    {
     "name": "stderr",
     "output_type": "stream",
     "text": [
      "/var/folders/my/pb2rr1md6xx7h3qhs4xx52j00000gn/T/ipykernel_63512/3591701411.py:1: DeprecationWarning: executable_path has been deprecated, please pass in a Service object\n",
      "  driver = webdriver.Chrome('./chromedriver',options= options)\n"
     ]
    },
    {
     "name": "stdout",
     "output_type": "stream",
     "text": [
      "['봄', '가을']\n"
     ]
    }
   ],
   "source": [
    "driver = webdriver.Chrome('./chromedriver',options= options)\n",
    "driver.get(\"https://www.musinsa.com/app/goods/1110028/0\")\n",
    "four_season = get_four_season(driver)\n",
    "print(four_season)\n",
    "driver.close()"
   ]
  },
  {
   "cell_type": "code",
   "execution_count": 25,
   "metadata": {},
   "outputs": [
    {
     "data": {
      "text/plain": [
       "[<selenium.webdriver.remote.webelement.WebElement (session=\"90f40a0a847136d15d5fd7aafc65b188\", element=\"60a47617-6066-48f9-b32a-194e1f194c66\")>,\n",
       " <selenium.webdriver.remote.webelement.WebElement (session=\"90f40a0a847136d15d5fd7aafc65b188\", element=\"4f213aa0-f164-4e81-afd4-4cb844e3bec2\")>,\n",
       " <selenium.webdriver.remote.webelement.WebElement (session=\"90f40a0a847136d15d5fd7aafc65b188\", element=\"6130624f-54c3-4738-aa24-a09e2868cb0a\")>,\n",
       " <selenium.webdriver.remote.webelement.WebElement (session=\"90f40a0a847136d15d5fd7aafc65b188\", element=\"40b95e5f-7ffd-4218-b352-b785e6a1c65c\")>,\n",
       " <selenium.webdriver.remote.webelement.WebElement (session=\"90f40a0a847136d15d5fd7aafc65b188\", element=\"9c9d55a7-8877-4ff4-9175-b1152a201b72\")>,\n",
       " <selenium.webdriver.remote.webelement.WebElement (session=\"90f40a0a847136d15d5fd7aafc65b188\", element=\"dd6a6105-5e67-4acf-b2a8-523ec459e538\")>,\n",
       " <selenium.webdriver.remote.webelement.WebElement (session=\"90f40a0a847136d15d5fd7aafc65b188\", element=\"36c7ee6e-8920-49ce-8ca9-acb7d90f0b43\")>,\n",
       " <selenium.webdriver.remote.webelement.WebElement (session=\"90f40a0a847136d15d5fd7aafc65b188\", element=\"56319210-8873-471c-8889-ee6d4ec24f43\")>,\n",
       " <selenium.webdriver.remote.webelement.WebElement (session=\"90f40a0a847136d15d5fd7aafc65b188\", element=\"45d2b895-3b7a-4d13-83d4-f597e7553c08\")>,\n",
       " <selenium.webdriver.remote.webelement.WebElement (session=\"90f40a0a847136d15d5fd7aafc65b188\", element=\"56df4657-7cd7-433b-9909-04852db2b7fa\")>,\n",
       " <selenium.webdriver.remote.webelement.WebElement (session=\"90f40a0a847136d15d5fd7aafc65b188\", element=\"e85b3138-d73d-4e42-95f0-e36315be73fd\")>,\n",
       " <selenium.webdriver.remote.webelement.WebElement (session=\"90f40a0a847136d15d5fd7aafc65b188\", element=\"a5ec1240-88a2-4902-94ba-31a4de020209\")>,\n",
       " <selenium.webdriver.remote.webelement.WebElement (session=\"90f40a0a847136d15d5fd7aafc65b188\", element=\"b8a371bc-bd97-45e0-8333-c923d8a28a15\")>,\n",
       " <selenium.webdriver.remote.webelement.WebElement (session=\"90f40a0a847136d15d5fd7aafc65b188\", element=\"7d83b26f-86b8-4124-9ebd-fd5bc134a8ed\")>,\n",
       " <selenium.webdriver.remote.webelement.WebElement (session=\"90f40a0a847136d15d5fd7aafc65b188\", element=\"21f88813-1d7e-44a3-88bf-3f8d0c3860ce\")>,\n",
       " <selenium.webdriver.remote.webelement.WebElement (session=\"90f40a0a847136d15d5fd7aafc65b188\", element=\"94e6e364-03bb-4fa4-bfb2-027c204d7cd9\")>,\n",
       " <selenium.webdriver.remote.webelement.WebElement (session=\"90f40a0a847136d15d5fd7aafc65b188\", element=\"0ff3177c-d44d-4176-97ab-6512e7b795de\")>,\n",
       " <selenium.webdriver.remote.webelement.WebElement (session=\"90f40a0a847136d15d5fd7aafc65b188\", element=\"91d15237-aef2-4179-bbf3-5feb25eb8e37\")>,\n",
       " <selenium.webdriver.remote.webelement.WebElement (session=\"90f40a0a847136d15d5fd7aafc65b188\", element=\"fd90cd74-b6cb-4c56-bd92-8fc4dd2ac193\")>,\n",
       " <selenium.webdriver.remote.webelement.WebElement (session=\"90f40a0a847136d15d5fd7aafc65b188\", element=\"d9b4c6c1-74b5-48c6-a66c-3e75e9526c0c\")>,\n",
       " <selenium.webdriver.remote.webelement.WebElement (session=\"90f40a0a847136d15d5fd7aafc65b188\", element=\"085903d4-13b7-4003-a2cb-270cd57ce00f\")>,\n",
       " <selenium.webdriver.remote.webelement.WebElement (session=\"90f40a0a847136d15d5fd7aafc65b188\", element=\"e8173144-59ba-477f-a2fe-5fbc01c0b350\")>,\n",
       " <selenium.webdriver.remote.webelement.WebElement (session=\"90f40a0a847136d15d5fd7aafc65b188\", element=\"38d11129-f428-4493-af5e-e790259351a6\")>,\n",
       " <selenium.webdriver.remote.webelement.WebElement (session=\"90f40a0a847136d15d5fd7aafc65b188\", element=\"5802ac27-a930-4c44-bad2-0523d2b73c37\")>,\n",
       " <selenium.webdriver.remote.webelement.WebElement (session=\"90f40a0a847136d15d5fd7aafc65b188\", element=\"96f79823-86e7-443f-bd62-928afdff07a9\")>,\n",
       " <selenium.webdriver.remote.webelement.WebElement (session=\"90f40a0a847136d15d5fd7aafc65b188\", element=\"80732762-796e-4ac0-b462-e19672791005\")>,\n",
       " <selenium.webdriver.remote.webelement.WebElement (session=\"90f40a0a847136d15d5fd7aafc65b188\", element=\"74311755-4b65-4155-8a1f-55831e64c14a\")>,\n",
       " <selenium.webdriver.remote.webelement.WebElement (session=\"90f40a0a847136d15d5fd7aafc65b188\", element=\"35709e83-d03c-46fb-9989-2fbdde647824\")>,\n",
       " <selenium.webdriver.remote.webelement.WebElement (session=\"90f40a0a847136d15d5fd7aafc65b188\", element=\"f142c5a6-ba4c-498d-8636-ea44e0a840e9\")>,\n",
       " <selenium.webdriver.remote.webelement.WebElement (session=\"90f40a0a847136d15d5fd7aafc65b188\", element=\"08f8ce80-3659-41cb-bcc8-ad00742cd64c\")>,\n",
       " <selenium.webdriver.remote.webelement.WebElement (session=\"90f40a0a847136d15d5fd7aafc65b188\", element=\"0bb12b95-721b-456e-95ba-c6eb8a66bef0\")>,\n",
       " <selenium.webdriver.remote.webelement.WebElement (session=\"90f40a0a847136d15d5fd7aafc65b188\", element=\"861eaed6-67e6-4289-86ba-df3a4ba8ec51\")>,\n",
       " <selenium.webdriver.remote.webelement.WebElement (session=\"90f40a0a847136d15d5fd7aafc65b188\", element=\"eb4ea320-9e25-4357-82e3-d6083ebb5864\")>,\n",
       " <selenium.webdriver.remote.webelement.WebElement (session=\"90f40a0a847136d15d5fd7aafc65b188\", element=\"3320d351-04da-4312-a40e-1f2d6b36bf71\")>,\n",
       " <selenium.webdriver.remote.webelement.WebElement (session=\"90f40a0a847136d15d5fd7aafc65b188\", element=\"aabeef1f-3b22-4f14-a302-5d6273bf27ea\")>,\n",
       " <selenium.webdriver.remote.webelement.WebElement (session=\"90f40a0a847136d15d5fd7aafc65b188\", element=\"27cd28a3-96d7-456f-8427-35a93b20b610\")>,\n",
       " <selenium.webdriver.remote.webelement.WebElement (session=\"90f40a0a847136d15d5fd7aafc65b188\", element=\"f65691a5-e710-4e6e-a71d-77b368673209\")>,\n",
       " <selenium.webdriver.remote.webelement.WebElement (session=\"90f40a0a847136d15d5fd7aafc65b188\", element=\"a58048f4-70d6-4103-8ad5-3e8c71759514\")>,\n",
       " <selenium.webdriver.remote.webelement.WebElement (session=\"90f40a0a847136d15d5fd7aafc65b188\", element=\"2739409a-03cb-4ac9-ba47-f38caa2d1c11\")>,\n",
       " <selenium.webdriver.remote.webelement.WebElement (session=\"90f40a0a847136d15d5fd7aafc65b188\", element=\"a58dab13-9079-424b-8647-ab8cd71843de\")>,\n",
       " <selenium.webdriver.remote.webelement.WebElement (session=\"90f40a0a847136d15d5fd7aafc65b188\", element=\"b941e2f0-60f7-4aa7-a3c8-c0037d1a1914\")>,\n",
       " <selenium.webdriver.remote.webelement.WebElement (session=\"90f40a0a847136d15d5fd7aafc65b188\", element=\"73d53e36-48ac-4870-bbf9-0978c24b0b8f\")>,\n",
       " <selenium.webdriver.remote.webelement.WebElement (session=\"90f40a0a847136d15d5fd7aafc65b188\", element=\"b7046aba-dac6-4112-8944-1449a4ce7b3e\")>,\n",
       " <selenium.webdriver.remote.webelement.WebElement (session=\"90f40a0a847136d15d5fd7aafc65b188\", element=\"bccf07fe-4328-4f97-8c38-21f1506ac3fe\")>,\n",
       " <selenium.webdriver.remote.webelement.WebElement (session=\"90f40a0a847136d15d5fd7aafc65b188\", element=\"64a579fe-38c2-4459-86a5-5bdb2faf1a84\")>,\n",
       " <selenium.webdriver.remote.webelement.WebElement (session=\"90f40a0a847136d15d5fd7aafc65b188\", element=\"275acf05-4d08-4421-b88a-3313be52e623\")>,\n",
       " <selenium.webdriver.remote.webelement.WebElement (session=\"90f40a0a847136d15d5fd7aafc65b188\", element=\"67412f33-1d4d-42ff-bf1e-10cdd05c7f1e\")>,\n",
       " <selenium.webdriver.remote.webelement.WebElement (session=\"90f40a0a847136d15d5fd7aafc65b188\", element=\"6967e13e-00bd-418e-b9da-064b0135f24d\")>,\n",
       " <selenium.webdriver.remote.webelement.WebElement (session=\"90f40a0a847136d15d5fd7aafc65b188\", element=\"f42db634-87e9-4660-8ddf-7c84055cab96\")>,\n",
       " <selenium.webdriver.remote.webelement.WebElement (session=\"90f40a0a847136d15d5fd7aafc65b188\", element=\"95dcb557-1cc5-4626-988f-72a942297fa1\")>,\n",
       " <selenium.webdriver.remote.webelement.WebElement (session=\"90f40a0a847136d15d5fd7aafc65b188\", element=\"c4d60e2b-b88f-44a4-94d1-0404b688a3c6\")>,\n",
       " <selenium.webdriver.remote.webelement.WebElement (session=\"90f40a0a847136d15d5fd7aafc65b188\", element=\"366712b1-273b-4ae9-9ef8-f48c32f5a270\")>,\n",
       " <selenium.webdriver.remote.webelement.WebElement (session=\"90f40a0a847136d15d5fd7aafc65b188\", element=\"a7cd31cc-363f-46bd-b78b-70704a25552c\")>,\n",
       " <selenium.webdriver.remote.webelement.WebElement (session=\"90f40a0a847136d15d5fd7aafc65b188\", element=\"30622075-a2ab-48cf-a97e-8fe4f3001554\")>,\n",
       " <selenium.webdriver.remote.webelement.WebElement (session=\"90f40a0a847136d15d5fd7aafc65b188\", element=\"22f4ca3c-4ac9-40d4-a8c4-ddc0a5689dfe\")>,\n",
       " <selenium.webdriver.remote.webelement.WebElement (session=\"90f40a0a847136d15d5fd7aafc65b188\", element=\"7569c252-b4d9-45be-9b92-d5da2f7bf9cd\")>,\n",
       " <selenium.webdriver.remote.webelement.WebElement (session=\"90f40a0a847136d15d5fd7aafc65b188\", element=\"677a0fb7-d5c7-4c1a-9ef2-9fc273817795\")>,\n",
       " <selenium.webdriver.remote.webelement.WebElement (session=\"90f40a0a847136d15d5fd7aafc65b188\", element=\"7f35d8d3-da27-46db-a3d4-460be28606c2\")>,\n",
       " <selenium.webdriver.remote.webelement.WebElement (session=\"90f40a0a847136d15d5fd7aafc65b188\", element=\"6583a8ec-d730-4949-b340-c05f48f28ec7\")>,\n",
       " <selenium.webdriver.remote.webelement.WebElement (session=\"90f40a0a847136d15d5fd7aafc65b188\", element=\"93aaa104-036f-4ce8-a610-f98cbcac7a62\")>]"
      ]
     },
     "execution_count": 25,
     "metadata": {},
     "output_type": "execute_result"
    }
   ],
   "source": [
    "all_url"
   ]
  },
  {
   "cell_type": "code",
   "execution_count": 14,
   "metadata": {},
   "outputs": [
    {
     "data": {
      "text/plain": [
       "{'name': '2WAY 스웻 후드 집업 (MELANGE GREY)',\n",
       " 'bigClass': '아우터',\n",
       " 'middleClass': '후드 집업',\n",
       " 'gender': '2021 S/S / 남 여',\n",
       " 'prices': '39,000원',\n",
       " 'cumSales': '14.5만 개 이상',\n",
       " 'good': '117,981',\n",
       " 'rating': '4.8',\n",
       " 'tag': ['#오버핏', '#후드', '#집업후드', '#트레이닝세트', '#셋업', '#후드집업', '#세트']}"
      ]
     },
     "execution_count": 14,
     "metadata": {},
     "output_type": "execute_result"
    }
   ],
   "source": [
    "features.name = driver.find_element(By.XPATH, '//*[@id=\"page_product_detail\"]/div[3]/div[3]/span/em').text\n",
    "features.bigClass = driver.find_element(By.XPATH, '//*[@id=\"page_product_detail\"]/div[3]/div[3]/div[1]/p/a[1]').text\n",
    "features.middleClass = driver.find_element(By.XPATH, '//*[@id=\"page_product_detail\"]/div[3]/div[3]/div[1]/p/a[2]').text\n",
    "# features.gender = driver.find_element(By.XPATH, '//*[@id=\"product_order_info\"]/div[1]/ul/li[2]/p[2]/span[2]/span[1]').text\n",
    "features.gender = driver.find_element(By.XPATH,'//*[@id=\"product_order_info\"]/div[1]/ul/li[2]/p[2]').text\n",
    "features.prices = driver.find_element(By.XPATH, '//*[@id=\"list_price\"]').text\n",
    "features.cumSales = driver.find_element(By.XPATH, '//*[@id=\"sales_1y_qty\"]').text\n",
    "features.good = driver.find_element(By.XPATH, '//*[@id=\"product-top-like\"]/p[2]/span').text\n",
    "features.rating = driver.find_element(By.XPATH, '//*[@id=\"product_order_info\"]/div[1]/ul/li[6]/p[2]/a/span[2]').text\n",
    "\n",
    "try:   \n",
    "    tag_list = driver.find_element(By.XPATH, '//*[@id=\"product_order_info\"]/div[1]/ul/li[7]').text.split('\\n')\n",
    "    features.tag = tag_list\n",
    "except:\n",
    "    features.tag = {}\n",
    "features"
   ]
  },
  {
   "cell_type": "markdown",
   "metadata": {},
   "source": [
    "- 상품명 : name\n",
    "- 대분류 : bigClass\n",
    "- 중분류 : middleClass\n",
    "- 성별 : gender\n",
    "- 가격 : prices\n",
    "- Tag : tag\n",
    "- 누적판매 : cumSales\n",
    "- 좋아요 : good\n",
    "- 별점 : rating"
   ]
  },
  {
   "cell_type": "code",
   "execution_count": 133,
   "metadata": {},
   "outputs": [],
   "source": [
    "driver.close() #종료 명령어 수행하지 않을 시 프로세스가 계속 남을 수 있음"
   ]
  }
 ],
 "metadata": {
  "interpreter": {
   "hash": "501ffd9ceeaab318339ed970b4952b5bdd48aa7d92a02263ef060b7dfad1a436"
  },
  "kernelspec": {
   "display_name": "Python 3.9.5 ('base')",
   "language": "python",
   "name": "python3"
  },
  "language_info": {
   "codemirror_mode": {
    "name": "ipython",
    "version": 3
   },
   "file_extension": ".py",
   "mimetype": "text/x-python",
   "name": "python",
   "nbconvert_exporter": "python",
   "pygments_lexer": "ipython3",
   "version": "3.9.5"
  },
  "orig_nbformat": 4
 },
 "nbformat": 4,
 "nbformat_minor": 2
}
