{
 "cells": [
  {
   "cell_type": "code",
   "execution_count": null,
   "metadata": {},
   "outputs": [],
   "source": [
    "!pip install selenium"
   ]
  },
  {
   "cell_type": "code",
   "execution_count": 128,
   "metadata": {},
   "outputs": [],
   "source": [
    "from selenium import webdriver\n",
    "from selenium.webdriver.common.by import By\n",
    "from easydict import EasyDict"
   ]
  },
  {
   "cell_type": "code",
   "execution_count": 129,
   "metadata": {},
   "outputs": [],
   "source": [
    "# example url\n",
    "# 5개의 item url로 테스트 진행\n",
    "URL_PATH = 'https://www.musinsa.com/app/goods/1778404?loc=goods_rank'\n",
    "# URL_PATH = 'https://www.musinsa.com/app/goods/1495284'\n",
    "# URL_PATH = 'https://www.musinsa.com/app/goods/2018065?loc=goods_rank'\n",
    "# URL_PATH = 'https://www.musinsa.com/app/goods/885041'\n",
    "# URL_PATH = 'https://www.musinsa.com/app/goods/2090907/0'"
   ]
  },
  {
   "cell_type": "code",
   "execution_count": 130,
   "metadata": {},
   "outputs": [],
   "source": [
    "options = webdriver.ChromeOptions()\n",
    "\n",
    "# 브라우저를 띄우지 않고 백그라운드에서 크롤링하기 위한 옵션\n",
    "# options.add_argument('headless') \n",
    "# options.add_argument('window-size=1920x1080')\n",
    "# options.add_argument(\"disable-gpu\")"
   ]
  },
  {
   "cell_type": "code",
   "execution_count": 131,
   "metadata": {},
   "outputs": [
    {
     "name": "stderr",
     "output_type": "stream",
     "text": [
      "C:\\Users\\SeungJu\\AppData\\Local\\Temp/ipykernel_23296/2428163656.py:1: DeprecationWarning: executable_path has been deprecated, please pass in a Service object\n",
      "  driver = webdriver.Chrome('./chromedriver.exe',options = options)\n"
     ]
    }
   ],
   "source": [
    "driver = webdriver.Chrome('./chromedriver.exe',options = options)\n",
    "driver.get(URL_PATH)\n",
    "driver.implicitly_wait(3) #페이지를 로딩하는 시간동안 대기\n",
    "\n",
    "features = EasyDict()"
   ]
  },
  {
   "cell_type": "markdown",
   "metadata": {},
   "source": [
    "|locater option | locator |\n",
    "|---|---|\n",
    "|id|By.ID|\n",
    "|class name|By.CLASS_NAME |\n",
    "|css selector| By.CSS_SELECTOR |\n",
    "|name| By.NAME |\n",
    "|link text|By.LINK_TEXT |\n",
    "|partial link text| By.PARTIAL_LINK_TEXT |\n",
    "|tag name| By.TAG_NAME |\n",
    "\n",
    "\n",
    "  \n",
    "html 상에서 원하는 element를 찾는 함수\n",
    "```\n",
    "find_element(locator, dom element location)\n",
    "```\n",
    "참고 : https://www.selenium.dev/documentation/webdriver/elements/finders/"
   ]
  },
  {
   "cell_type": "code",
   "execution_count": 132,
   "metadata": {},
   "outputs": [
    {
     "data": {
      "text/plain": [
       "{'name': '2WAY 스웻 후드 집업 (MELANGE GREY)',\n",
       " 'bigClass': '아우터',\n",
       " 'middleClass': '후드 집업',\n",
       " 'gender': '2021 S/S / 남 여',\n",
       " 'prices': '39,000원',\n",
       " 'cumSales': '14.5만 개 이상',\n",
       " 'good': '117,799',\n",
       " 'rating': '4.8',\n",
       " 'tag': ['#오버핏', '#후드', '#집업후드', '#트레이닝세트', '#셋업', '#후드집업', '#세트']}"
      ]
     },
     "execution_count": 132,
     "metadata": {},
     "output_type": "execute_result"
    }
   ],
   "source": [
    "features.name = driver.find_element(By.XPATH, '//*[@id=\"page_product_detail\"]/div[3]/div[3]/span/em').text\n",
    "features.bigClass = driver.find_element(By.XPATH, '//*[@id=\"page_product_detail\"]/div[3]/div[3]/div[1]/p/a[1]').text\n",
    "features.middleClass = driver.find_element(By.XPATH, '//*[@id=\"page_product_detail\"]/div[3]/div[3]/div[1]/p/a[2]').text\n",
    "# features.gender = driver.find_element(By.XPATH, '//*[@id=\"product_order_info\"]/div[1]/ul/li[2]/p[2]/span[2]/span[1]').text\n",
    "features.gender = driver.find_element(By.XPATH,'//*[@id=\"product_order_info\"]/div[1]/ul/li[2]/p[2]').text\n",
    "features.prices = driver.find_element(By.XPATH, '//*[@id=\"list_price\"]').text\n",
    "features.cumSales = driver.find_element(By.XPATH, '//*[@id=\"sales_1y_qty\"]').text\n",
    "features.good = driver.find_element(By.XPATH, '//*[@id=\"product-top-like\"]/p[2]/span').text\n",
    "features.rating = driver.find_element(By.XPATH, '//*[@id=\"product_order_info\"]/div[1]/ul/li[6]/p[2]/a/span[2]').text\n",
    "\n",
    "try:   \n",
    "    tag_list = driver.find_element(By.XPATH, '//*[@id=\"product_order_info\"]/div[1]/ul/li[7]').text.split('\\n')\n",
    "    features.tag = tag_list\n",
    "except:\n",
    "    features.tag = {}\n",
    "features"
   ]
  },
  {
   "cell_type": "markdown",
   "metadata": {},
   "source": [
    "- 상품명 : name\n",
    "- 대분류 : bigClass\n",
    "- 중분류 : middleClass\n",
    "- 성별 : gender\n",
    "- 가격 : prices\n",
    "- Tag : tag\n",
    "- 누적판매 : cumSales\n",
    "- 좋아요 : good\n",
    "- 별점 : rating"
   ]
  },
  {
   "cell_type": "code",
   "execution_count": 133,
   "metadata": {},
   "outputs": [],
   "source": [
    "driver.close() #종료 명령어 수행하지 않을 시 프로세스가 계속 남을 수 있음"
   ]
  }
 ],
 "metadata": {
  "interpreter": {
   "hash": "96197e1d9227a581d64f2e390a61fd879c6f1588e5d67fbcefd3ee73ff2f5d1f"
  },
  "kernelspec": {
   "display_name": "Python 3.8.12 ('base')",
   "language": "python",
   "name": "python3"
  },
  "language_info": {
   "codemirror_mode": {
    "name": "ipython",
    "version": 3
   },
   "file_extension": ".py",
   "mimetype": "text/x-python",
   "name": "python",
   "nbconvert_exporter": "python",
   "pygments_lexer": "ipython3",
   "version": "3.8.12"
  },
  "orig_nbformat": 4
 },
 "nbformat": 4,
 "nbformat_minor": 2
}
