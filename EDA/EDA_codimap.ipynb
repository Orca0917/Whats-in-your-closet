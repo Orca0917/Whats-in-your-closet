{
 "cells": [
  {
   "cell_type": "code",
   "execution_count": 1,
   "metadata": {},
   "outputs": [],
   "source": [
    "import pandas as pd\n",
    "import openpyxl"
   ]
  },
  {
   "cell_type": "code",
   "execution_count": 3,
   "metadata": {},
   "outputs": [
    {
     "data": {
      "text/html": [
       "<div>\n",
       "<style scoped>\n",
       "    .dataframe tbody tr th:only-of-type {\n",
       "        vertical-align: middle;\n",
       "    }\n",
       "\n",
       "    .dataframe tbody tr th {\n",
       "        vertical-align: top;\n",
       "    }\n",
       "\n",
       "    .dataframe thead th {\n",
       "        text-align: right;\n",
       "    }\n",
       "</style>\n",
       "<table border=\"1\" class=\"dataframe\">\n",
       "  <thead>\n",
       "    <tr style=\"text-align: right;\">\n",
       "      <th></th>\n",
       "      <th>id</th>\n",
       "      <th>name</th>\n",
       "      <th>big_class</th>\n",
       "      <th>mid_class</th>\n",
       "      <th>brand</th>\n",
       "      <th>serial_number</th>\n",
       "      <th>gender</th>\n",
       "      <th>season</th>\n",
       "      <th>cum_sale</th>\n",
       "      <th>view</th>\n",
       "      <th>likes</th>\n",
       "      <th>rating</th>\n",
       "      <th>price</th>\n",
       "      <th>url</th>\n",
       "      <th>img_url</th>\n",
       "      <th>codi_id</th>\n",
       "    </tr>\n",
       "  </thead>\n",
       "  <tbody>\n",
       "    <tr>\n",
       "      <th>0</th>\n",
       "      <td>1540376</td>\n",
       "      <td>버핑레더 미니멀 포켓 블루종_Black</td>\n",
       "      <td>아우터</td>\n",
       "      <td>레더/라이더스 재킷</td>\n",
       "      <td>LAFUDGESTORE</td>\n",
       "      <td>m1037_684873</td>\n",
       "      <td>남 여</td>\n",
       "      <td>2022 S/S</td>\n",
       "      <td>1만 개 이상</td>\n",
       "      <td>6.8천 회 이상</td>\n",
       "      <td>NaN</td>\n",
       "      <td>4.8</td>\n",
       "      <td>94000</td>\n",
       "      <td>https://www.musinsa.com/app/goods/1540376/0</td>\n",
       "      <td>https://image.msscdn.net/images/goods_img/2020...</td>\n",
       "      <td>1701</td>\n",
       "    </tr>\n",
       "    <tr>\n",
       "      <th>1</th>\n",
       "      <td>1710363</td>\n",
       "      <td>크루넥 리브 니트 스웨터_아이보리</td>\n",
       "      <td>상의</td>\n",
       "      <td>니트/스웨터</td>\n",
       "      <td>BLOND9</td>\n",
       "      <td>20FW-NC_003</td>\n",
       "      <td>남</td>\n",
       "      <td>2020 F/W</td>\n",
       "      <td>8.5천 개 이상</td>\n",
       "      <td>6.6천 회 이상</td>\n",
       "      <td>NaN</td>\n",
       "      <td>4.8</td>\n",
       "      <td>65600</td>\n",
       "      <td>https://www.musinsa.com/app/goods/1710363/0</td>\n",
       "      <td>https://image.msscdn.net/images/goods_img/2020...</td>\n",
       "      <td>1701</td>\n",
       "    </tr>\n",
       "    <tr>\n",
       "      <th>2</th>\n",
       "      <td>404950</td>\n",
       "      <td>Classic Sweat Pants [Black]</td>\n",
       "      <td>바지</td>\n",
       "      <td>트레이닝/조거 팬츠</td>\n",
       "      <td>XERO</td>\n",
       "      <td>xero541</td>\n",
       "      <td>남</td>\n",
       "      <td>1.2만 회 이상</td>\n",
       "      <td>1.6만 개 이상</td>\n",
       "      <td>1.2만 회 이상</td>\n",
       "      <td>NaN</td>\n",
       "      <td>4.8</td>\n",
       "      <td>39000</td>\n",
       "      <td>https://www.musinsa.com/app/goods/404950/0</td>\n",
       "      <td>https://image.msscdn.net/images/goods_img/2016...</td>\n",
       "      <td>1701</td>\n",
       "    </tr>\n",
       "    <tr>\n",
       "      <th>3</th>\n",
       "      <td>1750270</td>\n",
       "      <td>BIG NY 볼캡 모자 B-RGW17GWS-RY</td>\n",
       "      <td>모자</td>\n",
       "      <td>캡/야구 모자</td>\n",
       "      <td>47 BRAND</td>\n",
       "      <td>B-RGW17GWS-RY</td>\n",
       "      <td>남</td>\n",
       "      <td>병행수입</td>\n",
       "      <td>100개 이상</td>\n",
       "      <td>600회 이상</td>\n",
       "      <td>473.0</td>\n",
       "      <td>4.7</td>\n",
       "      <td>49000</td>\n",
       "      <td>https://www.musinsa.com/app/goods/1750270/0</td>\n",
       "      <td>https://image.msscdn.net/images/goods_img/2021...</td>\n",
       "      <td>1701</td>\n",
       "    </tr>\n",
       "    <tr>\n",
       "      <th>4</th>\n",
       "      <td>1348533</td>\n",
       "      <td>Black_Double Ring Necklace</td>\n",
       "      <td>주얼리</td>\n",
       "      <td>목걸이/펜던트</td>\n",
       "      <td>WOLGAN</td>\n",
       "      <td>WGBLACK006</td>\n",
       "      <td>남</td>\n",
       "      <td>2020 ALL</td>\n",
       "      <td>50개 이상</td>\n",
       "      <td>NaN</td>\n",
       "      <td>194.0</td>\n",
       "      <td>5.0</td>\n",
       "      <td>15000</td>\n",
       "      <td>https://www.musinsa.com/app/goods/1348533/0</td>\n",
       "      <td>https://image.msscdn.net/images/goods_img/2020...</td>\n",
       "      <td>1701</td>\n",
       "    </tr>\n",
       "  </tbody>\n",
       "</table>\n",
       "</div>"
      ],
      "text/plain": [
       "        id                         name big_class   mid_class         brand  \\\n",
       "0  1540376        버핑레더 미니멀 포켓 블루종_Black       아우터  레더/라이더스 재킷  LAFUDGESTORE   \n",
       "1  1710363           크루넥 리브 니트 스웨터_아이보리        상의      니트/스웨터        BLOND9   \n",
       "2   404950  Classic Sweat Pants [Black]        바지  트레이닝/조거 팬츠          XERO   \n",
       "3  1750270   BIG NY 볼캡 모자 B-RGW17GWS-RY        모자     캡/야구 모자      47 BRAND   \n",
       "4  1348533   Black_Double Ring Necklace       주얼리     목걸이/펜던트        WOLGAN   \n",
       "\n",
       "   serial_number gender     season   cum_sale       view  likes  rating  \\\n",
       "0   m1037_684873    남 여   2022 S/S    1만 개 이상  6.8천 회 이상    NaN     4.8   \n",
       "1    20FW-NC_003      남   2020 F/W  8.5천 개 이상  6.6천 회 이상    NaN     4.8   \n",
       "2        xero541      남  1.2만 회 이상  1.6만 개 이상  1.2만 회 이상    NaN     4.8   \n",
       "3  B-RGW17GWS-RY      남       병행수입    100개 이상    600회 이상  473.0     4.7   \n",
       "4     WGBLACK006      남   2020 ALL     50개 이상        NaN  194.0     5.0   \n",
       "\n",
       "   price                                          url  \\\n",
       "0  94000  https://www.musinsa.com/app/goods/1540376/0   \n",
       "1  65600  https://www.musinsa.com/app/goods/1710363/0   \n",
       "2  39000   https://www.musinsa.com/app/goods/404950/0   \n",
       "3  49000  https://www.musinsa.com/app/goods/1750270/0   \n",
       "4  15000  https://www.musinsa.com/app/goods/1348533/0   \n",
       "\n",
       "                                             img_url  codi_id  \n",
       "0  https://image.msscdn.net/images/goods_img/2020...     1701  \n",
       "1  https://image.msscdn.net/images/goods_img/2020...     1701  \n",
       "2  https://image.msscdn.net/images/goods_img/2016...     1701  \n",
       "3  https://image.msscdn.net/images/goods_img/2021...     1701  \n",
       "4  https://image.msscdn.net/images/goods_img/2020...     1701  "
      ]
     },
     "execution_count": 3,
     "metadata": {},
     "output_type": "execute_result"
    }
   ],
   "source": [
    "item_df = pd.read_excel('/opt/ml/input/data/raw_codimap/item/item.xlsx', engine='openpyxl')\n",
    "item_df.head()"
   ]
  },
  {
   "cell_type": "code",
   "execution_count": null,
   "metadata": {},
   "outputs": [],
   "source": [
    "upper = [\"상의\", \"기타 상의\"]\n",
    "lower = [\"바지\", \"하의\"]\n",
    "outer = [\"아우터\"]\n",
    "shoes = [\"스니커즈\", \"신발\", \"스포츠신발\"]\n",
    "accessory = [\"선글라스/안경테\", \"액세서리\", \"주얼리\", \"시계\", \"가방\", \"여성 가방\", \"모자\", \"스포츠모자\", \"스포츠가방\"]\n",
    "etc = [\"양말/레그웨어\"]"
   ]
  },
  {
   "cell_type": "code",
   "execution_count": 4,
   "metadata": {},
   "outputs": [
    {
     "data": {
      "text/plain": [
       "array(['아우터', '상의', '바지', '모자', '주얼리', '스니커즈', '선글라스/안경테', '가방', '디지털/테크',\n",
       "       '시계', '신발', '양말/레그웨어', '액세서리', '스포츠/용품', '생활/취미/예술'], dtype=object)"
      ]
     },
     "execution_count": 4,
     "metadata": {},
     "output_type": "execute_result"
    }
   ],
   "source": [
    "item_df['big_class'].unique()"
   ]
  },
  {
   "cell_type": "code",
   "execution_count": 5,
   "metadata": {},
   "outputs": [
    {
     "data": {
      "text/plain": [
       "array(['레더/라이더스 재킷', '니트/스웨터', '트레이닝/조거 팬츠', '캡/야구 모자', '목걸이/펜던트',\n",
       "       '캔버스/단화', '반소매 티셔츠', '안경', '메신저/크로스 백', '팔찌', '맨투맨/스웨트셔츠',\n",
       "       '셔츠/블라우스', '케이스/슬리브', '패션스니커즈화', '슈트 팬츠/슬랙스', '쿼츠 아날로그', '버킷/사파리햇',\n",
       "       '숏패딩/숏헤비 아우터', '데님 팬츠', '후드 집업', '긴소매 티셔츠', '코튼 팬츠', '블루종/MA-1',\n",
       "       '백팩', '슬리퍼', '슈트/블레이저 재킷', '구두', '비니', '디지털', '겨울 기타 코트', '카디건',\n",
       "       '양말', '로퍼', '트러커 재킷', '에코백', '부츠', '플리스/뽀글이', '후드 티셔츠',\n",
       "       '사파리/헌팅 재킷', '토트백', '스카프/반다나', '베스트', '겨울 싱글 코트', '머플러', '숄더백',\n",
       "       '아노락 재킷', '브리프케이스', '헌팅캡/베레모', '기타 스니커즈', '키링/키케이스', '벨트', '스포츠신발',\n",
       "       '피케/카라 티셔츠', '숏 팬츠', '겨울 더블 코트', '샌들', '텀블러', '스포츠가방', '기타 바지',\n",
       "       '농구화', '환절기 코트', '클러치 백', '무스탕/퍼', '선글라스', '장갑', '웨이스트 백', '우산',\n",
       "       '스포츠모자', '나일론/코치 재킷', '트루퍼', '롱패딩/롱헤비 아우터', '트레이닝 재킷', '기타 신발',\n",
       "       '시계 용품', '상의', '헤드폰', '기타 상의', '파우치 백', '오토매틱 아날로그', '스타디움 재킷',\n",
       "       '스포츠잡화', '모카신/보트 슈즈', '헤어 액세서리', '기타 아우터', '기타 시계', '민소매 티셔츠',\n",
       "       '패딩 베스트', '블로퍼', '캐리어', '반지', '지갑/머니클립', '넥타이', '마스크'],\n",
       "      dtype=object)"
      ]
     },
     "execution_count": 5,
     "metadata": {},
     "output_type": "execute_result"
    }
   ],
   "source": [
    "item_df['mid_class'].unique()"
   ]
  },
  {
   "cell_type": "code",
   "execution_count": 6,
   "metadata": {},
   "outputs": [
    {
     "data": {
      "text/plain": [
       "2863"
      ]
     },
     "execution_count": 6,
     "metadata": {},
     "output_type": "execute_result"
    }
   ],
   "source": [
    "len(item_df)"
   ]
  },
  {
   "cell_type": "code",
   "execution_count": null,
   "metadata": {},
   "outputs": [],
   "source": []
  }
 ],
 "metadata": {
  "interpreter": {
   "hash": "d4d1e4263499bec80672ea0156c357c1ee493ec2b1c70f0acce89fc37c4a6abe"
  },
  "kernelspec": {
   "display_name": "Python 3.8.5 ('base')",
   "language": "python",
   "name": "python3"
  },
  "language_info": {
   "codemirror_mode": {
    "name": "ipython",
    "version": 3
   },
   "file_extension": ".py",
   "mimetype": "text/x-python",
   "name": "python",
   "nbconvert_exporter": "python",
   "pygments_lexer": "ipython3",
   "version": "3.8.5"
  },
  "orig_nbformat": 4
 },
 "nbformat": 4,
 "nbformat_minor": 2
}
