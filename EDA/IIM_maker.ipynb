{
 "cells": [
  {
   "cell_type": "code",
   "execution_count": 1,
   "metadata": {},
   "outputs": [],
   "source": [
    "import numpy as np\n",
    "import pandas as pd\n",
    "from tqdm import tqdm\n",
    "import openpyxl\n",
    "from itertools import combinations\n",
    "from collections import Counter"
   ]
  },
  {
   "cell_type": "markdown",
   "metadata": {},
   "source": [
    "## 아이템 상호작용 행렬 만들기"
   ]
  },
  {
   "cell_type": "markdown",
   "metadata": {},
   "source": [
    "1. 필요한 데이터 로딩"
   ]
  },
  {
   "cell_type": "code",
   "execution_count": 4,
   "metadata": {},
   "outputs": [],
   "source": [
    "# TODO : 데이터 경로 설정 \n",
    "raw_data = pd.read_excel(\"/opt/ml/input/data/raw_codimap/item/view/item.xlsx\", engine='openpyxl')\n",
    "df = raw_data[[\"id\", \"codi_id\"]]\n",
    "unique_codi_id = list(df[\"codi_id\"].unique())\n",
    "unique_id = list(df[\"id\"].unique())\n",
    "codi_group_by_codi = df.groupby(\"codi_id\")[\"id\"].apply(list)\n",
    "codi_group_by_item = df.groupby(\"id\")[\"codi_id\"].apply(list)"
   ]
  },
  {
   "cell_type": "code",
   "execution_count": 5,
   "metadata": {},
   "outputs": [
    {
     "data": {
      "text/plain": [
       "1551840    10\n",
       "404949      9\n",
       "2024232     5\n",
       "1278214     5\n",
       "1833230     5\n",
       "           ..\n",
       "1960520     1\n",
       "838145      1\n",
       "399948      1\n",
       "1647181     1\n",
       "1937003     1\n",
       "Name: id, Length: 2381, dtype: int64"
      ]
     },
     "execution_count": 5,
     "metadata": {},
     "output_type": "execute_result"
    }
   ],
   "source": [
    "df[\"id\"].value_counts()"
   ]
  },
  {
   "cell_type": "code",
   "execution_count": 6,
   "metadata": {},
   "outputs": [
    {
     "name": "stdout",
     "output_type": "stream",
     "text": [
      "Number of total instance : 2863\n",
      "Number of unique items : 2381\n",
      "Number of items which was only collected once : 2038\n"
     ]
    }
   ],
   "source": [
    "cnt = 0\n",
    "for count in df[\"id\"].value_counts() : \n",
    "    if count == 1 :\n",
    "        cnt +=1\n",
    "\n",
    "print(f\"Number of total instance : {len(df)}\")\n",
    "print(f\"Number of unique items : {len(unique_id)}\")\n",
    "print(f\"Number of items which was only collected once : {cnt}\")"
   ]
  },
  {
   "cell_type": "markdown",
   "metadata": {},
   "source": [
    "2. Pivot Table을 위한 데이터 처리 과정"
   ]
  },
  {
   "cell_type": "code",
   "execution_count": 2,
   "metadata": {},
   "outputs": [
    {
     "name": "stderr",
     "output_type": "stream",
     "text": [
      "100%|██████████| 412/412 [00:00<00:00, 396524.38it/s]\n"
     ]
    }
   ],
   "source": [
    "df = pd.read_excel(\"/opt/ml/input/data/raw_codishop/codi_item_id.xlsx\", engine='openpyxl')\n",
    "\n",
    "dup = list()\n",
    "gf = df.groupby(['id'])['item_id'].apply(list)\n",
    "for val in tqdm(gf):\n",
    "    val = sorted(val)\n",
    "    comb_res = list(combinations(val, 2))\n",
    "    dup.extend(comb_res)"
   ]
  },
  {
   "cell_type": "markdown",
   "metadata": {},
   "source": [
    "3. 상호작용 행렬 만들기 & 데이터 내보내기"
   ]
  },
  {
   "cell_type": "code",
   "execution_count": null,
   "metadata": {},
   "outputs": [],
   "source": [
    "IIM = pd.DataFrame(columns=[\"id\", \"item\", \"count\"])\n",
    "_id = []\n",
    "_item = []\n",
    "_count = []\n",
    "for pair, count in Counter(dup).most_common():\n",
    "    _id.append(pair[0])\n",
    "    _item.append(pair[1])\n",
    "    _count.append(count)\n",
    "    # IIM.pivot_table(index=\"id\", columns=\"item\", values=\"count\").fillna(0)\n",
    "\n",
    "\n"
   ]
  },
  {
   "cell_type": "code",
   "execution_count": 62,
   "metadata": {},
   "outputs": [],
   "source": [
    "IIM = pd.DataFrame(result, columns=[\"id\", \"item\", \"count\"]).pivot_table(index=\"id\", columns=\"item\", values=\"count\").fillna(0)\n",
    "# TODO : 데이터 경로 설정\n",
    "IIM.to_csv(\"/opt/ml/input/data/itemInteractionMatrix.csv\")"
   ]
  },
  {
   "cell_type": "markdown",
   "metadata": {},
   "source": [
    "4. Sparsity 점검"
   ]
  },
  {
   "cell_type": "code",
   "execution_count": 77,
   "metadata": {},
   "outputs": [
    {
     "name": "stdout",
     "output_type": "stream",
     "text": [
      "Sparsity of this Data is : 0.997\n"
     ]
    }
   ],
   "source": [
    "ones = 0\n",
    "zeros = 0\n",
    "for i in range(len(IIM)) :\n",
    "    zeros += IIM.iloc[i].value_counts()[0]\n",
    "    ones += IIM.iloc[i].value_counts()[1]\n",
    "print(f\"Sparsity of this Data is : {zeros/(ones+zeros):.4}\")"
   ]
  }
 ],
 "metadata": {
  "interpreter": {
   "hash": "d4d1e4263499bec80672ea0156c357c1ee493ec2b1c70f0acce89fc37c4a6abe"
  },
  "kernelspec": {
   "display_name": "Python 3.8.5 ('base')",
   "language": "python",
   "name": "python3"
  },
  "language_info": {
   "codemirror_mode": {
    "name": "ipython",
    "version": 3
   },
   "file_extension": ".py",
   "mimetype": "text/x-python",
   "name": "python",
   "nbconvert_exporter": "python",
   "pygments_lexer": "ipython3",
   "version": "3.8.5"
  },
  "orig_nbformat": 4
 },
 "nbformat": 4,
 "nbformat_minor": 2
}
